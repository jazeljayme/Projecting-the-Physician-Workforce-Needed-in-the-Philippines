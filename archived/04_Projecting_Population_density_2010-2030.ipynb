{
 "cells": [
  {
   "cell_type": "markdown",
   "id": "70b7e213",
   "metadata": {},
   "source": [
    "# Projecting Population Density"
   ]
  },
  {
   "cell_type": "code",
   "execution_count": 1,
   "id": "f3d820aa",
   "metadata": {
    "ExecuteTime": {
     "end_time": "2022-07-01T11:08:10.650731Z",
     "start_time": "2022-07-01T11:08:08.013961Z"
    }
   },
   "outputs": [
    {
     "name": "stderr",
     "output_type": "stream",
     "text": [
      "Matplotlib created a temporary config/cache directory at /tmp/matplotlib-lunvy7jn because the default path (/home/jjayme/.cache/matplotlib) is not a writable directory; it is highly recommended to set the MPLCONFIGDIR environment variable to a writable directory, in particular to speed up the import of Matplotlib and to better support multiprocessing.\n"
     ]
    }
   ],
   "source": [
    "import pandas as pd\n",
    "import numpy as np\n",
    "import matplotlib.pyplot as plt"
   ]
  },
  {
   "cell_type": "code",
   "execution_count": 2,
   "id": "56c8ec20",
   "metadata": {
    "ExecuteTime": {
     "end_time": "2022-07-01T11:08:13.577142Z",
     "start_time": "2022-07-01T11:08:13.567654Z"
    }
   },
   "outputs": [],
   "source": [
    "# population data\n",
    "df_pop = pd.read_csv('~/cpt5/capstone/data/processed/'\n",
    "                     'regional_projection_2010_2030.csv')"
   ]
  },
  {
   "cell_type": "code",
   "execution_count": 3,
   "id": "c22ec96e",
   "metadata": {
    "ExecuteTime": {
     "end_time": "2022-07-01T11:08:13.853971Z",
     "start_time": "2022-07-01T11:08:13.848203Z"
    }
   },
   "outputs": [],
   "source": [
    "df_pop.drop(columns='Unnamed: 0', inplace=True)"
   ]
  },
  {
   "cell_type": "code",
   "execution_count": 4,
   "id": "f757c97e",
   "metadata": {
    "ExecuteTime": {
     "end_time": "2022-07-01T11:08:14.357383Z",
     "start_time": "2022-07-01T11:08:14.351754Z"
    }
   },
   "outputs": [],
   "source": [
    "df_pop.set_index('year', inplace=True)"
   ]
  },
  {
   "cell_type": "code",
   "execution_count": 5,
   "id": "4ed7ffa0",
   "metadata": {
    "ExecuteTime": {
     "end_time": "2022-07-01T11:08:14.482594Z",
     "start_time": "2022-07-01T11:08:14.448552Z"
    }
   },
   "outputs": [
    {
     "data": {
      "text/html": [
       "<div>\n",
       "<style scoped>\n",
       "    .dataframe tbody tr th:only-of-type {\n",
       "        vertical-align: middle;\n",
       "    }\n",
       "\n",
       "    .dataframe tbody tr th {\n",
       "        vertical-align: top;\n",
       "    }\n",
       "\n",
       "    .dataframe thead th {\n",
       "        text-align: right;\n",
       "    }\n",
       "</style>\n",
       "<table border=\"1\" class=\"dataframe\">\n",
       "  <thead>\n",
       "    <tr style=\"text-align: right;\">\n",
       "      <th></th>\n",
       "      <th>Philippines</th>\n",
       "      <th>NCR</th>\n",
       "      <th>CAR</th>\n",
       "      <th>I - Ilocos</th>\n",
       "      <th>II - Cagayan</th>\n",
       "      <th>III - C. Luzon</th>\n",
       "      <th>IVA - Calabarzon</th>\n",
       "      <th>MIMAROPA</th>\n",
       "      <th>V - Bicol</th>\n",
       "      <th>VI - W. Visayas</th>\n",
       "      <th>VII - C. Visayas</th>\n",
       "      <th>VIII - E. Visayas</th>\n",
       "      <th>IX - Zamboanga</th>\n",
       "      <th>X - N. Mindanao</th>\n",
       "      <th>XI - Davao</th>\n",
       "      <th>XII - SOCCSKSARGEN</th>\n",
       "      <th>XIII - Caraga</th>\n",
       "      <th>BARMM</th>\n",
       "    </tr>\n",
       "    <tr>\n",
       "      <th>year</th>\n",
       "      <th></th>\n",
       "      <th></th>\n",
       "      <th></th>\n",
       "      <th></th>\n",
       "      <th></th>\n",
       "      <th></th>\n",
       "      <th></th>\n",
       "      <th></th>\n",
       "      <th></th>\n",
       "      <th></th>\n",
       "      <th></th>\n",
       "      <th></th>\n",
       "      <th></th>\n",
       "      <th></th>\n",
       "      <th></th>\n",
       "      <th></th>\n",
       "      <th></th>\n",
       "      <th></th>\n",
       "    </tr>\n",
       "  </thead>\n",
       "  <tbody>\n",
       "    <tr>\n",
       "      <th>2010</th>\n",
       "      <td>92337852.0</td>\n",
       "      <td>11855975.0</td>\n",
       "      <td>1616867.0</td>\n",
       "      <td>4748372.0</td>\n",
       "      <td>3229163.0</td>\n",
       "      <td>10137737.0</td>\n",
       "      <td>12609803.0</td>\n",
       "      <td>2744671.0</td>\n",
       "      <td>5420411.0</td>\n",
       "      <td>7102438.0</td>\n",
       "      <td>6800180.0</td>\n",
       "      <td>4101322.0</td>\n",
       "      <td>3407353.0</td>\n",
       "      <td>4297323.0</td>\n",
       "      <td>4468563.0</td>\n",
       "      <td>4109571.0</td>\n",
       "      <td>2429224.0</td>\n",
       "      <td>3256140.0</td>\n",
       "    </tr>\n",
       "    <tr>\n",
       "      <th>2011</th>\n",
       "      <td>94036955.8</td>\n",
       "      <td>12056622.2</td>\n",
       "      <td>1637520.4</td>\n",
       "      <td>4802931.8</td>\n",
       "      <td>3272824.0</td>\n",
       "      <td>10350003.4</td>\n",
       "      <td>12965281.6</td>\n",
       "      <td>2787635.0</td>\n",
       "      <td>5494390.2</td>\n",
       "      <td>7187679.6</td>\n",
       "      <td>6917412.8</td>\n",
       "      <td>4167888.0</td>\n",
       "      <td>3451048.4</td>\n",
       "      <td>4374333.2</td>\n",
       "      <td>4552012.0</td>\n",
       "      <td>4195172.4</td>\n",
       "      <td>2462126.8</td>\n",
       "      <td>3359882.8</td>\n",
       "    </tr>\n",
       "    <tr>\n",
       "      <th>2012</th>\n",
       "      <td>95736059.6</td>\n",
       "      <td>12257269.4</td>\n",
       "      <td>1658173.8</td>\n",
       "      <td>4857491.6</td>\n",
       "      <td>3316485.0</td>\n",
       "      <td>10562269.8</td>\n",
       "      <td>13320760.2</td>\n",
       "      <td>2830599.0</td>\n",
       "      <td>5568369.4</td>\n",
       "      <td>7272921.2</td>\n",
       "      <td>7034645.6</td>\n",
       "      <td>4234454.0</td>\n",
       "      <td>3494743.8</td>\n",
       "      <td>4451343.4</td>\n",
       "      <td>4635461.0</td>\n",
       "      <td>4280773.8</td>\n",
       "      <td>2495029.6</td>\n",
       "      <td>3463625.6</td>\n",
       "    </tr>\n",
       "    <tr>\n",
       "      <th>2013</th>\n",
       "      <td>97435163.4</td>\n",
       "      <td>12457916.6</td>\n",
       "      <td>1678827.2</td>\n",
       "      <td>4912051.4</td>\n",
       "      <td>3360146.0</td>\n",
       "      <td>10774536.2</td>\n",
       "      <td>13676238.8</td>\n",
       "      <td>2873563.0</td>\n",
       "      <td>5642348.6</td>\n",
       "      <td>7358162.8</td>\n",
       "      <td>7151878.4</td>\n",
       "      <td>4301020.0</td>\n",
       "      <td>3538439.2</td>\n",
       "      <td>4528353.6</td>\n",
       "      <td>4718910.0</td>\n",
       "      <td>4366375.2</td>\n",
       "      <td>2527932.4</td>\n",
       "      <td>3567368.4</td>\n",
       "    </tr>\n",
       "    <tr>\n",
       "      <th>2014</th>\n",
       "      <td>99134267.2</td>\n",
       "      <td>12658563.8</td>\n",
       "      <td>1699480.6</td>\n",
       "      <td>4966611.2</td>\n",
       "      <td>3403807.0</td>\n",
       "      <td>10986802.6</td>\n",
       "      <td>14031717.4</td>\n",
       "      <td>2916527.0</td>\n",
       "      <td>5716327.8</td>\n",
       "      <td>7443404.4</td>\n",
       "      <td>7269111.2</td>\n",
       "      <td>4367586.0</td>\n",
       "      <td>3582134.6</td>\n",
       "      <td>4605363.8</td>\n",
       "      <td>4802359.0</td>\n",
       "      <td>4451976.6</td>\n",
       "      <td>2560835.2</td>\n",
       "      <td>3671111.2</td>\n",
       "    </tr>\n",
       "  </tbody>\n",
       "</table>\n",
       "</div>"
      ],
      "text/plain": [
       "      Philippines         NCR        CAR  I - Ilocos  II - Cagayan  \\\n",
       "year                                                                 \n",
       "2010   92337852.0  11855975.0  1616867.0   4748372.0     3229163.0   \n",
       "2011   94036955.8  12056622.2  1637520.4   4802931.8     3272824.0   \n",
       "2012   95736059.6  12257269.4  1658173.8   4857491.6     3316485.0   \n",
       "2013   97435163.4  12457916.6  1678827.2   4912051.4     3360146.0   \n",
       "2014   99134267.2  12658563.8  1699480.6   4966611.2     3403807.0   \n",
       "\n",
       "      III - C. Luzon  IVA - Calabarzon   MIMAROPA  V - Bicol  VI - W. Visayas  \\\n",
       "year                                                                            \n",
       "2010      10137737.0        12609803.0  2744671.0  5420411.0        7102438.0   \n",
       "2011      10350003.4        12965281.6  2787635.0  5494390.2        7187679.6   \n",
       "2012      10562269.8        13320760.2  2830599.0  5568369.4        7272921.2   \n",
       "2013      10774536.2        13676238.8  2873563.0  5642348.6        7358162.8   \n",
       "2014      10986802.6        14031717.4  2916527.0  5716327.8        7443404.4   \n",
       "\n",
       "      VII - C. Visayas  VIII - E. Visayas  IX - Zamboanga  X - N. Mindanao  \\\n",
       "year                                                                         \n",
       "2010         6800180.0          4101322.0       3407353.0        4297323.0   \n",
       "2011         6917412.8          4167888.0       3451048.4        4374333.2   \n",
       "2012         7034645.6          4234454.0       3494743.8        4451343.4   \n",
       "2013         7151878.4          4301020.0       3538439.2        4528353.6   \n",
       "2014         7269111.2          4367586.0       3582134.6        4605363.8   \n",
       "\n",
       "      XI - Davao  XII - SOCCSKSARGEN  XIII - Caraga      BARMM  \n",
       "year                                                            \n",
       "2010   4468563.0           4109571.0      2429224.0  3256140.0  \n",
       "2011   4552012.0           4195172.4      2462126.8  3359882.8  \n",
       "2012   4635461.0           4280773.8      2495029.6  3463625.6  \n",
       "2013   4718910.0           4366375.2      2527932.4  3567368.4  \n",
       "2014   4802359.0           4451976.6      2560835.2  3671111.2  "
      ]
     },
     "execution_count": 5,
     "metadata": {},
     "output_type": "execute_result"
    }
   ],
   "source": [
    "df_pop.head()"
   ]
  },
  {
   "cell_type": "code",
   "execution_count": 6,
   "id": "61a7fdb6",
   "metadata": {
    "ExecuteTime": {
     "end_time": "2022-07-01T11:08:14.518624Z",
     "start_time": "2022-07-01T11:08:14.514727Z"
    }
   },
   "outputs": [],
   "source": [
    "region_list= df_pop.columns[1:]"
   ]
  },
  {
   "cell_type": "code",
   "execution_count": 7,
   "id": "8d5263c1",
   "metadata": {
    "ExecuteTime": {
     "end_time": "2022-07-01T11:08:14.613759Z",
     "start_time": "2022-07-01T11:08:14.595550Z"
    }
   },
   "outputs": [
    {
     "data": {
      "text/html": [
       "<div>\n",
       "<style scoped>\n",
       "    .dataframe tbody tr th:only-of-type {\n",
       "        vertical-align: middle;\n",
       "    }\n",
       "\n",
       "    .dataframe tbody tr th {\n",
       "        vertical-align: top;\n",
       "    }\n",
       "\n",
       "    .dataframe thead th {\n",
       "        text-align: right;\n",
       "    }\n",
       "</style>\n",
       "<table border=\"1\" class=\"dataframe\">\n",
       "  <thead>\n",
       "    <tr style=\"text-align: right;\">\n",
       "      <th></th>\n",
       "      <th>year</th>\n",
       "      <th>Region</th>\n",
       "      <th>population</th>\n",
       "    </tr>\n",
       "  </thead>\n",
       "  <tbody>\n",
       "    <tr>\n",
       "      <th>352</th>\n",
       "      <td>2026</td>\n",
       "      <td>BARMM</td>\n",
       "      <td>5293197</td>\n",
       "    </tr>\n",
       "    <tr>\n",
       "      <th>353</th>\n",
       "      <td>2027</td>\n",
       "      <td>BARMM</td>\n",
       "      <td>5363601</td>\n",
       "    </tr>\n",
       "    <tr>\n",
       "      <th>354</th>\n",
       "      <td>2028</td>\n",
       "      <td>BARMM</td>\n",
       "      <td>5434584</td>\n",
       "    </tr>\n",
       "    <tr>\n",
       "      <th>355</th>\n",
       "      <td>2029</td>\n",
       "      <td>BARMM</td>\n",
       "      <td>5506197</td>\n",
       "    </tr>\n",
       "    <tr>\n",
       "      <th>356</th>\n",
       "      <td>2030</td>\n",
       "      <td>BARMM</td>\n",
       "      <td>5578399</td>\n",
       "    </tr>\n",
       "  </tbody>\n",
       "</table>\n",
       "</div>"
      ],
      "text/plain": [
       "     year Region  population\n",
       "352  2026  BARMM     5293197\n",
       "353  2027  BARMM     5363601\n",
       "354  2028  BARMM     5434584\n",
       "355  2029  BARMM     5506197\n",
       "356  2030  BARMM     5578399"
      ]
     },
     "execution_count": 7,
     "metadata": {},
     "output_type": "execute_result"
    }
   ],
   "source": [
    "df_pop = df_pop.reset_index()\n",
    "df_population = pd.melt(df_pop, id_vars='year', value_vars=region_list)\n",
    "df_population.rename(columns={'variable':'Region', 'value':'population'}\n",
    "                   ,inplace=True)\n",
    "df_population['population'] = df_population['population'].astype(int)\n",
    "df_population.tail()"
   ]
  },
  {
   "cell_type": "markdown",
   "id": "62f04211",
   "metadata": {},
   "source": [
    "# Compute population density"
   ]
  },
  {
   "cell_type": "code",
   "execution_count": 8,
   "id": "033c87dc",
   "metadata": {
    "ExecuteTime": {
     "end_time": "2022-07-01T11:08:14.774570Z",
     "start_time": "2022-07-01T11:08:14.769599Z"
    }
   },
   "outputs": [],
   "source": [
    "regions=df_population.Region.unique()"
   ]
  },
  {
   "cell_type": "code",
   "execution_count": 9,
   "id": "f72e8568",
   "metadata": {
    "ExecuteTime": {
     "end_time": "2022-07-01T11:08:14.855647Z",
     "start_time": "2022-07-01T11:08:14.848132Z"
    }
   },
   "outputs": [],
   "source": [
    "# square kilometers land area\n",
    "ncr = 619.54\n",
    "car = 19_818.12\n",
    "reg1 = 12_964.62\n",
    "reg2 = 29_836.88\n",
    "reg3 = 21_906.19\n",
    "reg4a = 16_576.26\n",
    "reg4b = 29_606.25\n",
    "reg5 = 18_114.47\n",
    "reg6 = 12_773.46\n",
    "reg7 = 10_452.01\n",
    "reg8 = 23_234.78\n",
    "reg9 = 16_904.03\n",
    "reg10 = 20_458.51\n",
    "reg11 = 20_433.38\n",
    "reg12 = 22_786.08  #(including cotabato city)\n",
    "reg12_new = reg12 - 176.00\n",
    "reg13 = 21_120.56\n",
    "armm = 36_650.95\n",
    "barmm = armm + 176.00"
   ]
  },
  {
   "cell_type": "code",
   "execution_count": 10,
   "id": "d73cd085",
   "metadata": {
    "ExecuteTime": {
     "end_time": "2022-07-01T11:08:14.934246Z",
     "start_time": "2022-07-01T11:08:14.928963Z"
    }
   },
   "outputs": [],
   "source": [
    "df_population['area'] = np.nan"
   ]
  },
  {
   "cell_type": "code",
   "execution_count": 11,
   "id": "a1ff25db",
   "metadata": {
    "ExecuteTime": {
     "end_time": "2022-07-01T11:08:15.025358Z",
     "start_time": "2022-07-01T11:08:15.012188Z"
    }
   },
   "outputs": [
    {
     "data": {
      "text/html": [
       "<div>\n",
       "<style scoped>\n",
       "    .dataframe tbody tr th:only-of-type {\n",
       "        vertical-align: middle;\n",
       "    }\n",
       "\n",
       "    .dataframe tbody tr th {\n",
       "        vertical-align: top;\n",
       "    }\n",
       "\n",
       "    .dataframe thead th {\n",
       "        text-align: right;\n",
       "    }\n",
       "</style>\n",
       "<table border=\"1\" class=\"dataframe\">\n",
       "  <thead>\n",
       "    <tr style=\"text-align: right;\">\n",
       "      <th></th>\n",
       "      <th>year</th>\n",
       "      <th>Region</th>\n",
       "      <th>population</th>\n",
       "      <th>area</th>\n",
       "    </tr>\n",
       "  </thead>\n",
       "  <tbody>\n",
       "    <tr>\n",
       "      <th>0</th>\n",
       "      <td>2010</td>\n",
       "      <td>NCR</td>\n",
       "      <td>11855975</td>\n",
       "      <td>NaN</td>\n",
       "    </tr>\n",
       "    <tr>\n",
       "      <th>1</th>\n",
       "      <td>2011</td>\n",
       "      <td>NCR</td>\n",
       "      <td>12056622</td>\n",
       "      <td>NaN</td>\n",
       "    </tr>\n",
       "    <tr>\n",
       "      <th>2</th>\n",
       "      <td>2012</td>\n",
       "      <td>NCR</td>\n",
       "      <td>12257269</td>\n",
       "      <td>NaN</td>\n",
       "    </tr>\n",
       "    <tr>\n",
       "      <th>3</th>\n",
       "      <td>2013</td>\n",
       "      <td>NCR</td>\n",
       "      <td>12457916</td>\n",
       "      <td>NaN</td>\n",
       "    </tr>\n",
       "    <tr>\n",
       "      <th>4</th>\n",
       "      <td>2014</td>\n",
       "      <td>NCR</td>\n",
       "      <td>12658563</td>\n",
       "      <td>NaN</td>\n",
       "    </tr>\n",
       "  </tbody>\n",
       "</table>\n",
       "</div>"
      ],
      "text/plain": [
       "   year Region  population  area\n",
       "0  2010    NCR    11855975   NaN\n",
       "1  2011    NCR    12056622   NaN\n",
       "2  2012    NCR    12257269   NaN\n",
       "3  2013    NCR    12457916   NaN\n",
       "4  2014    NCR    12658563   NaN"
      ]
     },
     "execution_count": 11,
     "metadata": {},
     "output_type": "execute_result"
    }
   ],
   "source": [
    "df_population.head()"
   ]
  },
  {
   "cell_type": "code",
   "execution_count": 12,
   "id": "c054d73c",
   "metadata": {
    "ExecuteTime": {
     "end_time": "2022-07-01T11:08:15.124586Z",
     "start_time": "2022-07-01T11:08:15.102023Z"
    }
   },
   "outputs": [],
   "source": [
    "df_population.loc[df_population.Region=='NCR', 'area'] = ncr\n",
    "df_population.loc[df_population.Region=='CAR', 'area'] = car\n",
    "df_population.loc[df_population.Region=='I - Ilocos', 'area'] = reg1\n",
    "df_population.loc[df_population.Region=='II - Cagayan', 'area'] = reg2\n",
    "df_population.loc[df_population.Region=='III - C. Luzon', 'area'] = reg3\n",
    "df_population.loc[df_population.Region=='IVA - Calabarzon', 'area'] = reg4a\n",
    "df_population.loc[df_population.Region=='MIMAROPA', 'area'] = reg4b\n",
    "df_population.loc[df_population.Region=='V - Bicol', 'area'] = reg5\n",
    "df_population.loc[df_population.Region=='VI - W. Visayas', 'area'] = reg6\n",
    "df_population.loc[df_population.Region=='VII - C. Visayas', 'area'] = reg7\n",
    "df_population.loc[df_population.Region=='VIII - E. Visayas', 'area'] = reg8\n",
    "df_population.loc[df_population.Region=='IX - Zamboanga', 'area'] = reg9\n",
    "df_population.loc[df_population.Region=='X - N. Mindanao', 'area'] = reg10\n",
    "df_population.loc[df_population.Region=='XI - Davao', 'area'] = reg11\n",
    "df_population.loc[df_population.Region=='XIII - Caraga', 'area'] = reg13"
   ]
  },
  {
   "cell_type": "code",
   "execution_count": 13,
   "id": "b9a7af4a",
   "metadata": {
    "ExecuteTime": {
     "end_time": "2022-07-01T11:08:15.197845Z",
     "start_time": "2022-07-01T11:08:15.183821Z"
    }
   },
   "outputs": [],
   "source": [
    "yr1 = np.arange(2010, 2020)\n",
    "yr2 = np.arange(2020, 2031)\n",
    "\n",
    "df_population.loc[(df_population.Region=='XII - SOCCSKSARGEN') & (df_population.year.isin(yr1)),\n",
    "                                    'area'] = reg12\n",
    "df_population.loc[(df_population.Region=='XII - SOCCSKSARGEN') & (df_population.year.isin(yr2)),\n",
    "                                    'area'] = reg12_new \n",
    "\n",
    "df_population.loc[(df_population.Region=='BARMM') & (df_population.year.isin(yr1)),\n",
    "                                    'area'] = armm\n",
    "df_population.loc[(df_population.Region=='BARMM') & (df_population.year.isin(yr2)),\n",
    "                                    'area'] = barmm"
   ]
  },
  {
   "cell_type": "code",
   "execution_count": 14,
   "id": "8d2f02c1",
   "metadata": {
    "ExecuteTime": {
     "end_time": "2022-07-01T11:08:15.827108Z",
     "start_time": "2022-07-01T11:08:15.351184Z"
    }
   },
   "outputs": [
    {
     "data": {
      "text/html": [
       "<div>\n",
       "<style scoped>\n",
       "    .dataframe tbody tr th:only-of-type {\n",
       "        vertical-align: middle;\n",
       "    }\n",
       "\n",
       "    .dataframe tbody tr th {\n",
       "        vertical-align: top;\n",
       "    }\n",
       "\n",
       "    .dataframe thead th {\n",
       "        text-align: right;\n",
       "    }\n",
       "</style>\n",
       "<table border=\"1\" class=\"dataframe\">\n",
       "  <thead>\n",
       "    <tr style=\"text-align: right;\">\n",
       "      <th></th>\n",
       "      <th>year</th>\n",
       "      <th>Region</th>\n",
       "      <th>population</th>\n",
       "      <th>area</th>\n",
       "    </tr>\n",
       "  </thead>\n",
       "  <tbody>\n",
       "    <tr>\n",
       "      <th>0</th>\n",
       "      <td>2010</td>\n",
       "      <td>NCR</td>\n",
       "      <td>11855975</td>\n",
       "      <td>619.54</td>\n",
       "    </tr>\n",
       "    <tr>\n",
       "      <th>1</th>\n",
       "      <td>2011</td>\n",
       "      <td>NCR</td>\n",
       "      <td>12056622</td>\n",
       "      <td>619.54</td>\n",
       "    </tr>\n",
       "    <tr>\n",
       "      <th>2</th>\n",
       "      <td>2012</td>\n",
       "      <td>NCR</td>\n",
       "      <td>12257269</td>\n",
       "      <td>619.54</td>\n",
       "    </tr>\n",
       "    <tr>\n",
       "      <th>3</th>\n",
       "      <td>2013</td>\n",
       "      <td>NCR</td>\n",
       "      <td>12457916</td>\n",
       "      <td>619.54</td>\n",
       "    </tr>\n",
       "    <tr>\n",
       "      <th>4</th>\n",
       "      <td>2014</td>\n",
       "      <td>NCR</td>\n",
       "      <td>12658563</td>\n",
       "      <td>619.54</td>\n",
       "    </tr>\n",
       "    <tr>\n",
       "      <th>...</th>\n",
       "      <td>...</td>\n",
       "      <td>...</td>\n",
       "      <td>...</td>\n",
       "      <td>...</td>\n",
       "    </tr>\n",
       "    <tr>\n",
       "      <th>352</th>\n",
       "      <td>2026</td>\n",
       "      <td>BARMM</td>\n",
       "      <td>5293197</td>\n",
       "      <td>36826.95</td>\n",
       "    </tr>\n",
       "    <tr>\n",
       "      <th>353</th>\n",
       "      <td>2027</td>\n",
       "      <td>BARMM</td>\n",
       "      <td>5363601</td>\n",
       "      <td>36826.95</td>\n",
       "    </tr>\n",
       "    <tr>\n",
       "      <th>354</th>\n",
       "      <td>2028</td>\n",
       "      <td>BARMM</td>\n",
       "      <td>5434584</td>\n",
       "      <td>36826.95</td>\n",
       "    </tr>\n",
       "    <tr>\n",
       "      <th>355</th>\n",
       "      <td>2029</td>\n",
       "      <td>BARMM</td>\n",
       "      <td>5506197</td>\n",
       "      <td>36826.95</td>\n",
       "    </tr>\n",
       "    <tr>\n",
       "      <th>356</th>\n",
       "      <td>2030</td>\n",
       "      <td>BARMM</td>\n",
       "      <td>5578399</td>\n",
       "      <td>36826.95</td>\n",
       "    </tr>\n",
       "  </tbody>\n",
       "</table>\n",
       "<p>357 rows × 4 columns</p>\n",
       "</div>"
      ],
      "text/plain": [
       "     year Region  population      area\n",
       "0    2010    NCR    11855975    619.54\n",
       "1    2011    NCR    12056622    619.54\n",
       "2    2012    NCR    12257269    619.54\n",
       "3    2013    NCR    12457916    619.54\n",
       "4    2014    NCR    12658563    619.54\n",
       "..    ...    ...         ...       ...\n",
       "352  2026  BARMM     5293197  36826.95\n",
       "353  2027  BARMM     5363601  36826.95\n",
       "354  2028  BARMM     5434584  36826.95\n",
       "355  2029  BARMM     5506197  36826.95\n",
       "356  2030  BARMM     5578399  36826.95\n",
       "\n",
       "[357 rows x 4 columns]"
      ]
     },
     "execution_count": 14,
     "metadata": {},
     "output_type": "execute_result"
    }
   ],
   "source": [
    "df_population"
   ]
  },
  {
   "cell_type": "code",
   "execution_count": 15,
   "id": "38c51fd7",
   "metadata": {
    "ExecuteTime": {
     "end_time": "2022-07-01T11:08:15.834710Z",
     "start_time": "2022-07-01T11:08:15.830057Z"
    }
   },
   "outputs": [],
   "source": [
    "df_population['population_density'] = df_population['population']//df_population['area']"
   ]
  },
  {
   "cell_type": "code",
   "execution_count": 16,
   "id": "ea5e78fe",
   "metadata": {
    "ExecuteTime": {
     "end_time": "2022-07-01T11:08:15.847192Z",
     "start_time": "2022-07-01T11:08:15.836721Z"
    }
   },
   "outputs": [
    {
     "data": {
      "text/html": [
       "<div>\n",
       "<style scoped>\n",
       "    .dataframe tbody tr th:only-of-type {\n",
       "        vertical-align: middle;\n",
       "    }\n",
       "\n",
       "    .dataframe tbody tr th {\n",
       "        vertical-align: top;\n",
       "    }\n",
       "\n",
       "    .dataframe thead th {\n",
       "        text-align: right;\n",
       "    }\n",
       "</style>\n",
       "<table border=\"1\" class=\"dataframe\">\n",
       "  <thead>\n",
       "    <tr style=\"text-align: right;\">\n",
       "      <th></th>\n",
       "      <th>year</th>\n",
       "      <th>Region</th>\n",
       "      <th>population</th>\n",
       "      <th>area</th>\n",
       "      <th>population_density</th>\n",
       "    </tr>\n",
       "  </thead>\n",
       "  <tbody>\n",
       "    <tr>\n",
       "      <th>352</th>\n",
       "      <td>2026</td>\n",
       "      <td>BARMM</td>\n",
       "      <td>5293197</td>\n",
       "      <td>36826.95</td>\n",
       "      <td>143.0</td>\n",
       "    </tr>\n",
       "    <tr>\n",
       "      <th>353</th>\n",
       "      <td>2027</td>\n",
       "      <td>BARMM</td>\n",
       "      <td>5363601</td>\n",
       "      <td>36826.95</td>\n",
       "      <td>145.0</td>\n",
       "    </tr>\n",
       "    <tr>\n",
       "      <th>354</th>\n",
       "      <td>2028</td>\n",
       "      <td>BARMM</td>\n",
       "      <td>5434584</td>\n",
       "      <td>36826.95</td>\n",
       "      <td>147.0</td>\n",
       "    </tr>\n",
       "    <tr>\n",
       "      <th>355</th>\n",
       "      <td>2029</td>\n",
       "      <td>BARMM</td>\n",
       "      <td>5506197</td>\n",
       "      <td>36826.95</td>\n",
       "      <td>149.0</td>\n",
       "    </tr>\n",
       "    <tr>\n",
       "      <th>356</th>\n",
       "      <td>2030</td>\n",
       "      <td>BARMM</td>\n",
       "      <td>5578399</td>\n",
       "      <td>36826.95</td>\n",
       "      <td>151.0</td>\n",
       "    </tr>\n",
       "  </tbody>\n",
       "</table>\n",
       "</div>"
      ],
      "text/plain": [
       "     year Region  population      area  population_density\n",
       "352  2026  BARMM     5293197  36826.95               143.0\n",
       "353  2027  BARMM     5363601  36826.95               145.0\n",
       "354  2028  BARMM     5434584  36826.95               147.0\n",
       "355  2029  BARMM     5506197  36826.95               149.0\n",
       "356  2030  BARMM     5578399  36826.95               151.0"
      ]
     },
     "execution_count": 16,
     "metadata": {},
     "output_type": "execute_result"
    }
   ],
   "source": [
    "df_population.tail()"
   ]
  },
  {
   "cell_type": "code",
   "execution_count": 17,
   "id": "dab85225",
   "metadata": {
    "ExecuteTime": {
     "end_time": "2022-07-01T11:08:15.854270Z",
     "start_time": "2022-07-01T11:08:15.849769Z"
    }
   },
   "outputs": [
    {
     "data": {
      "text/plain": [
       "(357, 5)"
      ]
     },
     "execution_count": 17,
     "metadata": {},
     "output_type": "execute_result"
    }
   ],
   "source": [
    "df_population.shape"
   ]
  },
  {
   "cell_type": "code",
   "execution_count": 18,
   "id": "5d2b5f9a",
   "metadata": {
    "ExecuteTime": {
     "end_time": "2022-07-01T11:08:15.859948Z",
     "start_time": "2022-07-01T11:08:15.856338Z"
    }
   },
   "outputs": [],
   "source": [
    "colors = ['tab:blue', 'tab:orange', 'tab:green', 'tab:red', 'tab:purple',\n",
    "         'tab:brown', 'tab:pink', 'tab:gray', 'tab:olive', 'tab:cyan',\n",
    "         'darkmagenta', 'orangered', 'lime', 'darkolivegreen', 'cadetblue',\n",
    "         'darkgoldenrod', 'fuchsia']"
   ]
  },
  {
   "cell_type": "code",
   "execution_count": 19,
   "id": "5a881aee",
   "metadata": {
    "ExecuteTime": {
     "end_time": "2022-07-01T11:08:16.694155Z",
     "start_time": "2022-07-01T11:08:15.861760Z"
    }
   },
   "outputs": [
    {
     "data": {
      "image/png": "[encoded data removed]",
      "text/plain": [
       "<Figure size 720x360 with 1 Axes>"
      ]
     },
     "metadata": {
      "needs_background": "light"
     },
     "output_type": "display_data"
    }
   ],
   "source": [
    "plt.figure(figsize=(10,5))\n",
    "for i,j in enumerate(regions):\n",
    "    df_region = df_population[df_population['Region'] == j]\n",
    "    plt.plot(df_region.year, df_region['population_density'],\n",
    "             '-+', label=j, color=colors[i] )\n",
    "        \n",
    "plt.legend(bbox_to_anchor=[1,1])\n",
    "plt.xticks(np.arange(2010, 2031, 2))\n",
    "plt.ylabel('Population per sq. km', fontsize=14)\n",
    "plt.xlabel('Year', fontsize=14)\n",
    "plt.tight_layout()\n",
    "plt.savefig('regional_population_density.png', dpi=300);"
   ]
  },
  {
   "cell_type": "code",
   "execution_count": 20,
   "id": "79de1d9a",
   "metadata": {
    "ExecuteTime": {
     "end_time": "2022-07-01T11:08:17.478296Z",
     "start_time": "2022-07-01T11:08:16.697091Z"
    },
    "scrolled": true
   },
   "outputs": [
    {
     "data": {
      "image/png": "[encoded data removed]",
      "text/plain": [
       "<Figure size 720x360 with 1 Axes>"
      ]
     },
     "metadata": {
      "needs_background": "light"
     },
     "output_type": "display_data"
    }
   ],
   "source": [
    "plt.figure(figsize=(10,5))\n",
    "for i,j in enumerate(regions):\n",
    "    if j != 'NCR':\n",
    "        df_region = df_population[df_population['Region'] == j]\n",
    "        plt.plot(df_region.year, df_region['population_density'],\n",
    "                 '-+', label=j, color=colors[i] )\n",
    "        \n",
    "plt.legend(bbox_to_anchor=[1,1])\n",
    "plt.xticks(np.arange(2010, 2031, 2))\n",
    "plt.ylabel('Population per sq. km', fontsize=14)\n",
    "plt.xlabel('Year', fontsize=14)\n",
    "plt.tight_layout()\n",
    "plt.savefig('regional_population_density.png', dpi=300);"
   ]
  },
  {
   "cell_type": "code",
   "execution_count": 21,
   "id": "8404865d",
   "metadata": {
    "ExecuteTime": {
     "end_time": "2022-07-01T11:08:17.496681Z",
     "start_time": "2022-07-01T11:08:17.481357Z"
    }
   },
   "outputs": [
    {
     "data": {
      "text/html": [
       "<div>\n",
       "<style scoped>\n",
       "    .dataframe tbody tr th:only-of-type {\n",
       "        vertical-align: middle;\n",
       "    }\n",
       "\n",
       "    .dataframe tbody tr th {\n",
       "        vertical-align: top;\n",
       "    }\n",
       "\n",
       "    .dataframe thead th {\n",
       "        text-align: right;\n",
       "    }\n",
       "</style>\n",
       "<table border=\"1\" class=\"dataframe\">\n",
       "  <thead>\n",
       "    <tr style=\"text-align: right;\">\n",
       "      <th></th>\n",
       "      <th>year</th>\n",
       "      <th>Region</th>\n",
       "      <th>population</th>\n",
       "      <th>area</th>\n",
       "      <th>population_density</th>\n",
       "    </tr>\n",
       "  </thead>\n",
       "  <tbody>\n",
       "    <tr>\n",
       "      <th>10</th>\n",
       "      <td>2020</td>\n",
       "      <td>NCR</td>\n",
       "      <td>13804656</td>\n",
       "      <td>619.54</td>\n",
       "      <td>22282.0</td>\n",
       "    </tr>\n",
       "    <tr>\n",
       "      <th>31</th>\n",
       "      <td>2020</td>\n",
       "      <td>CAR</td>\n",
       "      <td>1807738</td>\n",
       "      <td>19818.12</td>\n",
       "      <td>91.0</td>\n",
       "    </tr>\n",
       "    <tr>\n",
       "      <th>52</th>\n",
       "      <td>2020</td>\n",
       "      <td>I - Ilocos</td>\n",
       "      <td>5270807</td>\n",
       "      <td>12964.62</td>\n",
       "      <td>406.0</td>\n",
       "    </tr>\n",
       "    <tr>\n",
       "      <th>73</th>\n",
       "      <td>2020</td>\n",
       "      <td>II - Cagayan</td>\n",
       "      <td>3657741</td>\n",
       "      <td>29836.88</td>\n",
       "      <td>122.0</td>\n",
       "    </tr>\n",
       "    <tr>\n",
       "      <th>94</th>\n",
       "      <td>2020</td>\n",
       "      <td>III - C. Luzon</td>\n",
       "      <td>12313718</td>\n",
       "      <td>21906.19</td>\n",
       "      <td>562.0</td>\n",
       "    </tr>\n",
       "    <tr>\n",
       "      <th>115</th>\n",
       "      <td>2020</td>\n",
       "      <td>IVA - Calabarzon</td>\n",
       "      <td>16057299</td>\n",
       "      <td>16576.26</td>\n",
       "      <td>968.0</td>\n",
       "    </tr>\n",
       "    <tr>\n",
       "      <th>136</th>\n",
       "      <td>2020</td>\n",
       "      <td>MIMAROPA</td>\n",
       "      <td>3174859</td>\n",
       "      <td>29606.25</td>\n",
       "      <td>107.0</td>\n",
       "    </tr>\n",
       "    <tr>\n",
       "      <th>157</th>\n",
       "      <td>2020</td>\n",
       "      <td>V - Bicol</td>\n",
       "      <td>6133836</td>\n",
       "      <td>18114.47</td>\n",
       "      <td>338.0</td>\n",
       "    </tr>\n",
       "    <tr>\n",
       "      <th>178</th>\n",
       "      <td>2020</td>\n",
       "      <td>VI - W. Visayas</td>\n",
       "      <td>7904899</td>\n",
       "      <td>12773.46</td>\n",
       "      <td>618.0</td>\n",
       "    </tr>\n",
       "    <tr>\n",
       "      <th>199</th>\n",
       "      <td>2020</td>\n",
       "      <td>VII - C. Visayas</td>\n",
       "      <td>7957046</td>\n",
       "      <td>10452.01</td>\n",
       "      <td>761.0</td>\n",
       "    </tr>\n",
       "    <tr>\n",
       "      <th>220</th>\n",
       "      <td>2020</td>\n",
       "      <td>VIII - E. Visayas</td>\n",
       "      <td>4742337</td>\n",
       "      <td>23234.78</td>\n",
       "      <td>204.0</td>\n",
       "    </tr>\n",
       "    <tr>\n",
       "      <th>241</th>\n",
       "      <td>2020</td>\n",
       "      <td>IX - Zamboanga</td>\n",
       "      <td>3782761</td>\n",
       "      <td>16904.03</td>\n",
       "      <td>223.0</td>\n",
       "    </tr>\n",
       "    <tr>\n",
       "      <th>262</th>\n",
       "      <td>2020</td>\n",
       "      <td>X - N. Mindanao</td>\n",
       "      <td>5017051</td>\n",
       "      <td>20458.51</td>\n",
       "      <td>245.0</td>\n",
       "    </tr>\n",
       "    <tr>\n",
       "      <th>283</th>\n",
       "      <td>2020</td>\n",
       "      <td>XI - Davao</td>\n",
       "      <td>5290869</td>\n",
       "      <td>20433.38</td>\n",
       "      <td>258.0</td>\n",
       "    </tr>\n",
       "    <tr>\n",
       "      <th>304</th>\n",
       "      <td>2020</td>\n",
       "      <td>XII - SOCCSKSARGEN</td>\n",
       "      <td>4919936</td>\n",
       "      <td>22610.08</td>\n",
       "      <td>217.0</td>\n",
       "    </tr>\n",
       "    <tr>\n",
       "      <th>325</th>\n",
       "      <td>2020</td>\n",
       "      <td>XIII - Caraga</td>\n",
       "      <td>2753109</td>\n",
       "      <td>21120.56</td>\n",
       "      <td>130.0</td>\n",
       "    </tr>\n",
       "    <tr>\n",
       "      <th>346</th>\n",
       "      <td>2020</td>\n",
       "      <td>BARMM</td>\n",
       "      <td>4183316</td>\n",
       "      <td>36826.95</td>\n",
       "      <td>113.0</td>\n",
       "    </tr>\n",
       "  </tbody>\n",
       "</table>\n",
       "</div>"
      ],
      "text/plain": [
       "     year              Region  population      area  population_density\n",
       "10   2020                 NCR    13804656    619.54             22282.0\n",
       "31   2020                 CAR     1807738  19818.12                91.0\n",
       "52   2020          I - Ilocos     5270807  12964.62               406.0\n",
       "73   2020        II - Cagayan     3657741  29836.88               122.0\n",
       "94   2020      III - C. Luzon    12313718  21906.19               562.0\n",
       "115  2020    IVA - Calabarzon    16057299  16576.26               968.0\n",
       "136  2020            MIMAROPA     3174859  29606.25               107.0\n",
       "157  2020           V - Bicol     6133836  18114.47               338.0\n",
       "178  2020     VI - W. Visayas     7904899  12773.46               618.0\n",
       "199  2020    VII - C. Visayas     7957046  10452.01               761.0\n",
       "220  2020   VIII - E. Visayas     4742337  23234.78               204.0\n",
       "241  2020      IX - Zamboanga     3782761  16904.03               223.0\n",
       "262  2020     X - N. Mindanao     5017051  20458.51               245.0\n",
       "283  2020          XI - Davao     5290869  20433.38               258.0\n",
       "304  2020  XII - SOCCSKSARGEN     4919936  22610.08               217.0\n",
       "325  2020       XIII - Caraga     2753109  21120.56               130.0\n",
       "346  2020               BARMM     4183316  36826.95               113.0"
      ]
     },
     "execution_count": 21,
     "metadata": {},
     "output_type": "execute_result"
    }
   ],
   "source": [
    "df_population[df_population['year']==2020]"
   ]
  },
  {
   "cell_type": "code",
   "execution_count": 22,
   "id": "829ed0b3",
   "metadata": {
    "ExecuteTime": {
     "end_time": "2022-07-01T11:08:17.508662Z",
     "start_time": "2022-07-01T11:08:17.498576Z"
    }
   },
   "outputs": [
    {
     "name": "stdout",
     "output_type": "stream",
     "text": [
      "NCR 1.0\n",
      "CAR 244.85714285714286\n",
      "I - Ilocos 54.881773399014776\n",
      "II - Cagayan 182.63934426229508\n",
      "III - C. Luzon 39.64768683274021\n",
      "IVA - Calabarzon 23.018595041322314\n",
      "MIMAROPA 208.2429906542056\n",
      "V - Bicol 65.92307692307692\n",
      "VI - W. Visayas 36.055016181229774\n",
      "VII - C. Visayas 29.279894875164256\n",
      "VIII - E. Visayas 109.22549019607843\n",
      "IX - Zamboanga 99.91928251121077\n",
      "X - N. Mindanao 90.9469387755102\n",
      "XI - Davao 86.36434108527132\n",
      "XII - SOCCSKSARGEN 102.68202764976958\n",
      "XIII - Caraga 171.4\n",
      "BARMM 197.18584070796462\n"
     ]
    }
   ],
   "source": [
    "for i, j in zip(df_population[df_population['year']==2020]['population_density'].values,\n",
    "                df_population[df_population['year']==2020]['Region'].values):\n",
    "    print(j, (22282/i))"
   ]
  },
  {
   "cell_type": "code",
   "execution_count": 23,
   "id": "f4efb609",
   "metadata": {
    "ExecuteTime": {
     "end_time": "2022-07-01T11:08:17.519427Z",
     "start_time": "2022-07-01T11:08:17.510523Z"
    }
   },
   "outputs": [
    {
     "name": "stdout",
     "output_type": "stream",
     "text": [
      "NCR 1.0\n",
      "CAR 239.47\n",
      "I - Ilocos 52.74669603524229\n",
      "II - Cagayan 176.0808823529412\n",
      "III - C. Luzon 38.37660256410256\n",
      "IVA - Calabarzon 21.969724770642202\n",
      "MIMAROPA 201.23529411764707\n",
      "V - Bicol 64.3736559139785\n",
      "VI - W. Visayas 34.70579710144928\n",
      "VII - C. Visayas 27.975467289719628\n",
      "VIII - E. Visayas 110.35483870967742\n",
      "IX - Zamboanga 98.14344262295081\n",
      "X - N. Mindanao 88.0404411764706\n",
      "XI - Davao 85.22064056939502\n",
      "XII - SOCCSKSARGEN 109.84862385321101\n",
      "XIII - Caraga 164.0205479452055\n",
      "BARMM 158.58940397350995\n"
     ]
    }
   ],
   "source": [
    "for i, j in zip(df_population[df_population['year']==2030]['population_density'].values,\n",
    "                df_population[df_population['year']==2030]['Region'].values):\n",
    "    print(j, (23947.0/i))"
   ]
  },
  {
   "cell_type": "code",
   "execution_count": 24,
   "id": "059eca66",
   "metadata": {
    "ExecuteTime": {
     "end_time": "2022-07-01T11:08:17.533254Z",
     "start_time": "2022-07-01T11:08:17.521138Z"
    }
   },
   "outputs": [
    {
     "data": {
      "text/html": [
       "<div>\n",
       "<style scoped>\n",
       "    .dataframe tbody tr th:only-of-type {\n",
       "        vertical-align: middle;\n",
       "    }\n",
       "\n",
       "    .dataframe tbody tr th {\n",
       "        vertical-align: top;\n",
       "    }\n",
       "\n",
       "    .dataframe thead th {\n",
       "        text-align: right;\n",
       "    }\n",
       "</style>\n",
       "<table border=\"1\" class=\"dataframe\">\n",
       "  <thead>\n",
       "    <tr style=\"text-align: right;\">\n",
       "      <th></th>\n",
       "      <th>year</th>\n",
       "      <th>Region</th>\n",
       "      <th>population</th>\n",
       "      <th>area</th>\n",
       "      <th>population_density</th>\n",
       "    </tr>\n",
       "  </thead>\n",
       "  <tbody>\n",
       "    <tr>\n",
       "      <th>41</th>\n",
       "      <td>2030</td>\n",
       "      <td>CAR</td>\n",
       "      <td>1996562</td>\n",
       "      <td>19818.12</td>\n",
       "      <td>100.0</td>\n",
       "    </tr>\n",
       "    <tr>\n",
       "      <th>146</th>\n",
       "      <td>2030</td>\n",
       "      <td>MIMAROPA</td>\n",
       "      <td>3538763</td>\n",
       "      <td>29606.25</td>\n",
       "      <td>119.0</td>\n",
       "    </tr>\n",
       "    <tr>\n",
       "      <th>83</th>\n",
       "      <td>2030</td>\n",
       "      <td>II - Cagayan</td>\n",
       "      <td>4083515</td>\n",
       "      <td>29836.88</td>\n",
       "      <td>136.0</td>\n",
       "    </tr>\n",
       "    <tr>\n",
       "      <th>335</th>\n",
       "      <td>2030</td>\n",
       "      <td>XIII - Caraga</td>\n",
       "      <td>3085948</td>\n",
       "      <td>21120.56</td>\n",
       "      <td>146.0</td>\n",
       "    </tr>\n",
       "    <tr>\n",
       "      <th>356</th>\n",
       "      <td>2030</td>\n",
       "      <td>BARMM</td>\n",
       "      <td>5578399</td>\n",
       "      <td>36826.95</td>\n",
       "      <td>151.0</td>\n",
       "    </tr>\n",
       "    <tr>\n",
       "      <th>230</th>\n",
       "      <td>2030</td>\n",
       "      <td>VIII - E. Visayas</td>\n",
       "      <td>5057392</td>\n",
       "      <td>23234.78</td>\n",
       "      <td>217.0</td>\n",
       "    </tr>\n",
       "    <tr>\n",
       "      <th>314</th>\n",
       "      <td>2030</td>\n",
       "      <td>XII - SOCCSKSARGEN</td>\n",
       "      <td>4934234</td>\n",
       "      <td>22610.08</td>\n",
       "      <td>218.0</td>\n",
       "    </tr>\n",
       "    <tr>\n",
       "      <th>251</th>\n",
       "      <td>2030</td>\n",
       "      <td>IX - Zamboanga</td>\n",
       "      <td>4135428</td>\n",
       "      <td>16904.03</td>\n",
       "      <td>244.0</td>\n",
       "    </tr>\n",
       "    <tr>\n",
       "      <th>272</th>\n",
       "      <td>2030</td>\n",
       "      <td>X - N. Mindanao</td>\n",
       "      <td>5577604</td>\n",
       "      <td>20458.51</td>\n",
       "      <td>272.0</td>\n",
       "    </tr>\n",
       "    <tr>\n",
       "      <th>293</th>\n",
       "      <td>2030</td>\n",
       "      <td>XI - Davao</td>\n",
       "      <td>5760974</td>\n",
       "      <td>20433.38</td>\n",
       "      <td>281.0</td>\n",
       "    </tr>\n",
       "    <tr>\n",
       "      <th>167</th>\n",
       "      <td>2030</td>\n",
       "      <td>V - Bicol</td>\n",
       "      <td>6740513</td>\n",
       "      <td>18114.47</td>\n",
       "      <td>372.0</td>\n",
       "    </tr>\n",
       "    <tr>\n",
       "      <th>62</th>\n",
       "      <td>2030</td>\n",
       "      <td>I - Ilocos</td>\n",
       "      <td>5895507</td>\n",
       "      <td>12964.62</td>\n",
       "      <td>454.0</td>\n",
       "    </tr>\n",
       "    <tr>\n",
       "      <th>104</th>\n",
       "      <td>2030</td>\n",
       "      <td>III - C. Luzon</td>\n",
       "      <td>13686837</td>\n",
       "      <td>21906.19</td>\n",
       "      <td>624.0</td>\n",
       "    </tr>\n",
       "    <tr>\n",
       "      <th>188</th>\n",
       "      <td>2030</td>\n",
       "      <td>VI - W. Visayas</td>\n",
       "      <td>8818237</td>\n",
       "      <td>12773.46</td>\n",
       "      <td>690.0</td>\n",
       "    </tr>\n",
       "    <tr>\n",
       "      <th>209</th>\n",
       "      <td>2030</td>\n",
       "      <td>VII - C. Visayas</td>\n",
       "      <td>8948876</td>\n",
       "      <td>10452.01</td>\n",
       "      <td>856.0</td>\n",
       "    </tr>\n",
       "    <tr>\n",
       "      <th>125</th>\n",
       "      <td>2030</td>\n",
       "      <td>IVA - Calabarzon</td>\n",
       "      <td>18075143</td>\n",
       "      <td>16576.26</td>\n",
       "      <td>1090.0</td>\n",
       "    </tr>\n",
       "    <tr>\n",
       "      <th>20</th>\n",
       "      <td>2030</td>\n",
       "      <td>NCR</td>\n",
       "      <td>14836527</td>\n",
       "      <td>619.54</td>\n",
       "      <td>23947.0</td>\n",
       "    </tr>\n",
       "  </tbody>\n",
       "</table>\n",
       "</div>"
      ],
      "text/plain": [
       "     year              Region  population      area  population_density\n",
       "41   2030                 CAR     1996562  19818.12               100.0\n",
       "146  2030            MIMAROPA     3538763  29606.25               119.0\n",
       "83   2030        II - Cagayan     4083515  29836.88               136.0\n",
       "335  2030       XIII - Caraga     3085948  21120.56               146.0\n",
       "356  2030               BARMM     5578399  36826.95               151.0\n",
       "230  2030   VIII - E. Visayas     5057392  23234.78               217.0\n",
       "314  2030  XII - SOCCSKSARGEN     4934234  22610.08               218.0\n",
       "251  2030      IX - Zamboanga     4135428  16904.03               244.0\n",
       "272  2030     X - N. Mindanao     5577604  20458.51               272.0\n",
       "293  2030          XI - Davao     5760974  20433.38               281.0\n",
       "167  2030           V - Bicol     6740513  18114.47               372.0\n",
       "62   2030          I - Ilocos     5895507  12964.62               454.0\n",
       "104  2030      III - C. Luzon    13686837  21906.19               624.0\n",
       "188  2030     VI - W. Visayas     8818237  12773.46               690.0\n",
       "209  2030    VII - C. Visayas     8948876  10452.01               856.0\n",
       "125  2030    IVA - Calabarzon    18075143  16576.26              1090.0\n",
       "20   2030                 NCR    14836527    619.54             23947.0"
      ]
     },
     "execution_count": 24,
     "metadata": {},
     "output_type": "execute_result"
    }
   ],
   "source": [
    "df_population[df_population['year']==2030].sort_values(by='population_density')"
   ]
  },
  {
   "cell_type": "markdown",
   "id": "b43edd3c",
   "metadata": {},
   "source": [
    "# Geospatial plot of Population Density"
   ]
  },
  {
   "cell_type": "code",
   "execution_count": 25,
   "id": "fd671d48",
   "metadata": {
    "ExecuteTime": {
     "end_time": "2022-07-01T11:08:17.799496Z",
     "start_time": "2022-07-01T11:08:17.535036Z"
    }
   },
   "outputs": [],
   "source": [
    "import geopandas as gpd\n",
    "import psycopg2\n",
    "%matplotlib inline"
   ]
  },
  {
   "cell_type": "code",
   "execution_count": 26,
   "id": "7a0f5dee",
   "metadata": {
    "ExecuteTime": {
     "end_time": "2022-07-01T11:08:17.897126Z",
     "start_time": "2022-07-01T11:08:17.801525Z"
    }
   },
   "outputs": [],
   "source": [
    "conn = psycopg2.connect(dbname=\"postgis\", \n",
    "                 user=\"gsa2022\", \n",
    "                 password=\"g5!V%T1Vmd\", \n",
    "                 host=\"192.168.212.99\", \n",
    "                 port=32771)"
   ]
  },
  {
   "cell_type": "code",
   "execution_count": 27,
   "id": "0da57822",
   "metadata": {
    "ExecuteTime": {
     "end_time": "2022-07-01T11:08:18.236398Z",
     "start_time": "2022-07-01T11:08:17.899527Z"
    }
   },
   "outputs": [],
   "source": [
    "regions = gpd.GeoDataFrame.from_file('Original/Regions.shp')\n",
    "psgg_code = pd.read_csv('psgg_codes.csv', dtype=object)"
   ]
  },
  {
   "cell_type": "code",
   "execution_count": 28,
   "id": "bdcabed6",
   "metadata": {
    "ExecuteTime": {
     "end_time": "2022-07-01T11:08:21.234219Z",
     "start_time": "2022-07-01T11:08:18.238394Z"
    }
   },
   "outputs": [
    {
     "data": {
      "text/html": [
       "<div>\n",
       "<style scoped>\n",
       "    .dataframe tbody tr th:only-of-type {\n",
       "        vertical-align: middle;\n",
       "    }\n",
       "\n",
       "    .dataframe tbody tr th {\n",
       "        vertical-align: top;\n",
       "    }\n",
       "\n",
       "    .dataframe thead th {\n",
       "        text-align: right;\n",
       "    }\n",
       "</style>\n",
       "<table border=\"1\" class=\"dataframe\">\n",
       "  <thead>\n",
       "    <tr style=\"text-align: right;\">\n",
       "      <th></th>\n",
       "      <th>REGION</th>\n",
       "      <th>geometry</th>\n",
       "    </tr>\n",
       "  </thead>\n",
       "  <tbody>\n",
       "    <tr>\n",
       "      <th>0</th>\n",
       "      <td>Autonomous Region of Muslim Mindanao (ARMM)</td>\n",
       "      <td>MULTIPOLYGON (((119.46694 4.58694, 119.46639 4...</td>\n",
       "    </tr>\n",
       "    <tr>\n",
       "      <th>1</th>\n",
       "      <td>Bicol Region (Region V)</td>\n",
       "      <td>MULTIPOLYGON (((122.98417 11.71056, 122.98333 ...</td>\n",
       "    </tr>\n",
       "    <tr>\n",
       "      <th>2</th>\n",
       "      <td>CALABARZON (Region IV-A)</td>\n",
       "      <td>MULTIPOLYGON (((125.22166 10.43444, 125.22195 ...</td>\n",
       "    </tr>\n",
       "    <tr>\n",
       "      <th>3</th>\n",
       "      <td>Cagayan Valley (Region II)</td>\n",
       "      <td>MULTIPOLYGON (((122.47040 16.91995, 122.47040 ...</td>\n",
       "    </tr>\n",
       "    <tr>\n",
       "      <th>4</th>\n",
       "      <td>Caraga (Region XIII)</td>\n",
       "      <td>MULTIPOLYGON (((126.41750 7.96417, 126.41778 7...</td>\n",
       "    </tr>\n",
       "    <tr>\n",
       "      <th>5</th>\n",
       "      <td>Central Luzon (Region III)</td>\n",
       "      <td>MULTIPOLYGON (((120.62363 14.36788, 120.62368 ...</td>\n",
       "    </tr>\n",
       "    <tr>\n",
       "      <th>6</th>\n",
       "      <td>Central Visayas (Region VII)</td>\n",
       "      <td>MULTIPOLYGON (((123.27111 9.08476, 123.27173 9...</td>\n",
       "    </tr>\n",
       "    <tr>\n",
       "      <th>7</th>\n",
       "      <td>Cordillera Administrative Region (CAR)</td>\n",
       "      <td>POLYGON ((121.37679 17.95473, 121.36825 17.939...</td>\n",
       "    </tr>\n",
       "    <tr>\n",
       "      <th>8</th>\n",
       "      <td>Davao Region (Region XI)</td>\n",
       "      <td>MULTIPOLYGON (((125.39778 5.43583, 125.39778 5...</td>\n",
       "    </tr>\n",
       "    <tr>\n",
       "      <th>9</th>\n",
       "      <td>Eastern Visayas (Region VIII)</td>\n",
       "      <td>MULTIPOLYGON (((125.07361 9.89472, 125.07333 9...</td>\n",
       "    </tr>\n",
       "    <tr>\n",
       "      <th>10</th>\n",
       "      <td>Ilocos Region (Region I)</td>\n",
       "      <td>MULTIPOLYGON (((119.86505 15.81170, 119.86479 ...</td>\n",
       "    </tr>\n",
       "    <tr>\n",
       "      <th>11</th>\n",
       "      <td>MIMAROPA (Region IV-B)</td>\n",
       "      <td>MULTIPOLYGON (((117.31389 7.51417, 117.31416 7...</td>\n",
       "    </tr>\n",
       "    <tr>\n",
       "      <th>12</th>\n",
       "      <td>Metropolitan Manila</td>\n",
       "      <td>MULTIPOLYGON (((120.97972 14.49306, 120.98000 ...</td>\n",
       "    </tr>\n",
       "    <tr>\n",
       "      <th>13</th>\n",
       "      <td>Northern Mindanao (Region X)</td>\n",
       "      <td>MULTIPOLYGON (((123.62193 7.82859, 123.62172 7...</td>\n",
       "    </tr>\n",
       "    <tr>\n",
       "      <th>14</th>\n",
       "      <td>SOCCSKSARGEN (Region XII)</td>\n",
       "      <td>POLYGON ((124.53799 7.68187, 124.54649 7.68032...</td>\n",
       "    </tr>\n",
       "    <tr>\n",
       "      <th>15</th>\n",
       "      <td>Western Visayas (Region VI)</td>\n",
       "      <td>MULTIPOLYGON (((122.43522 9.64382, 122.43490 9...</td>\n",
       "    </tr>\n",
       "    <tr>\n",
       "      <th>16</th>\n",
       "      <td>Zamboanga Peninsula (Region IX)</td>\n",
       "      <td>MULTIPOLYGON (((122.06223 6.87278, 122.06250 6...</td>\n",
       "    </tr>\n",
       "  </tbody>\n",
       "</table>\n",
       "</div>"
      ],
      "text/plain": [
       "                                         REGION  \\\n",
       "0   Autonomous Region of Muslim Mindanao (ARMM)   \n",
       "1                       Bicol Region (Region V)   \n",
       "2                      CALABARZON (Region IV-A)   \n",
       "3                    Cagayan Valley (Region II)   \n",
       "4                          Caraga (Region XIII)   \n",
       "5                    Central Luzon (Region III)   \n",
       "6                  Central Visayas (Region VII)   \n",
       "7        Cordillera Administrative Region (CAR)   \n",
       "8                      Davao Region (Region XI)   \n",
       "9                 Eastern Visayas (Region VIII)   \n",
       "10                     Ilocos Region (Region I)   \n",
       "11                       MIMAROPA (Region IV-B)   \n",
       "12                          Metropolitan Manila   \n",
       "13                 Northern Mindanao (Region X)   \n",
       "14                    SOCCSKSARGEN (Region XII)   \n",
       "15                  Western Visayas (Region VI)   \n",
       "16              Zamboanga Peninsula (Region IX)   \n",
       "\n",
       "                                             geometry  \n",
       "0   MULTIPOLYGON (((119.46694 4.58694, 119.46639 4...  \n",
       "1   MULTIPOLYGON (((122.98417 11.71056, 122.98333 ...  \n",
       "2   MULTIPOLYGON (((125.22166 10.43444, 125.22195 ...  \n",
       "3   MULTIPOLYGON (((122.47040 16.91995, 122.47040 ...  \n",
       "4   MULTIPOLYGON (((126.41750 7.96417, 126.41778 7...  \n",
       "5   MULTIPOLYGON (((120.62363 14.36788, 120.62368 ...  \n",
       "6   MULTIPOLYGON (((123.27111 9.08476, 123.27173 9...  \n",
       "7   POLYGON ((121.37679 17.95473, 121.36825 17.939...  \n",
       "8   MULTIPOLYGON (((125.39778 5.43583, 125.39778 5...  \n",
       "9   MULTIPOLYGON (((125.07361 9.89472, 125.07333 9...  \n",
       "10  MULTIPOLYGON (((119.86505 15.81170, 119.86479 ...  \n",
       "11  MULTIPOLYGON (((117.31389 7.51417, 117.31416 7...  \n",
       "12  MULTIPOLYGON (((120.97972 14.49306, 120.98000 ...  \n",
       "13  MULTIPOLYGON (((123.62193 7.82859, 123.62172 7...  \n",
       "14  POLYGON ((124.53799 7.68187, 124.54649 7.68032...  \n",
       "15  MULTIPOLYGON (((122.43522 9.64382, 122.43490 9...  \n",
       "16  MULTIPOLYGON (((122.06223 6.87278, 122.06250 6...  "
      ]
     },
     "execution_count": 28,
     "metadata": {},
     "output_type": "execute_result"
    }
   ],
   "source": [
    "regions"
   ]
  },
  {
   "cell_type": "code",
   "execution_count": 29,
   "id": "016cc845",
   "metadata": {
    "ExecuteTime": {
     "end_time": "2022-07-01T11:08:21.243173Z",
     "start_time": "2022-07-01T11:08:21.236209Z"
    }
   },
   "outputs": [],
   "source": [
    "df_2030 = df_population[df_population['year']==2030][['Region', 'population_density']]"
   ]
  },
  {
   "cell_type": "code",
   "execution_count": 30,
   "id": "330c790a",
   "metadata": {
    "ExecuteTime": {
     "end_time": "2022-07-01T11:08:21.251386Z",
     "start_time": "2022-07-01T11:08:21.246523Z"
    }
   },
   "outputs": [
    {
     "data": {
      "text/plain": [
       "(17, 2)"
      ]
     },
     "execution_count": 30,
     "metadata": {},
     "output_type": "execute_result"
    }
   ],
   "source": [
    "df_2030.shape"
   ]
  },
  {
   "cell_type": "code",
   "execution_count": 31,
   "id": "2cefb37c",
   "metadata": {
    "ExecuteTime": {
     "end_time": "2022-07-01T11:08:21.257699Z",
     "start_time": "2022-07-01T11:08:21.253352Z"
    }
   },
   "outputs": [],
   "source": [
    "df_2030['REGION'] = ['Metropolitan Manila', 'Cordillera Administrative Region (CAR)',\n",
    "                    'Ilocos Region (Region I)', 'Cagayan Valley (Region II)',\n",
    "                    'Central Luzon (Region III)', 'CALABARZON (Region IV-A)',\n",
    "                    'MIMAROPA (Region IV-B)', 'Bicol Region (Region V)',\n",
    "                    'Western Visayas (Region VI)', 'Central Visayas (Region VII)',\n",
    "                    'Eastern Visayas (Region VIII)', 'Zamboanga Peninsula (Region IX)',\n",
    "                    'Northern Mindanao (Region X)', 'Davao Region (Region XI)',\n",
    "                    'SOCCSKSARGEN (Region XII)', 'Caraga (Region XIII)',\n",
    "                    'Autonomous Region of Muslim Mindanao (ARMM)']"
   ]
  },
  {
   "cell_type": "code",
   "execution_count": 32,
   "id": "b2102699",
   "metadata": {
    "ExecuteTime": {
     "end_time": "2022-07-01T11:08:21.269523Z",
     "start_time": "2022-07-01T11:08:21.259653Z"
    }
   },
   "outputs": [
    {
     "data": {
      "text/html": [
       "<div>\n",
       "<style scoped>\n",
       "    .dataframe tbody tr th:only-of-type {\n",
       "        vertical-align: middle;\n",
       "    }\n",
       "\n",
       "    .dataframe tbody tr th {\n",
       "        vertical-align: top;\n",
       "    }\n",
       "\n",
       "    .dataframe thead th {\n",
       "        text-align: right;\n",
       "    }\n",
       "</style>\n",
       "<table border=\"1\" class=\"dataframe\">\n",
       "  <thead>\n",
       "    <tr style=\"text-align: right;\">\n",
       "      <th></th>\n",
       "      <th>Region</th>\n",
       "      <th>population_density</th>\n",
       "      <th>REGION</th>\n",
       "    </tr>\n",
       "  </thead>\n",
       "  <tbody>\n",
       "    <tr>\n",
       "      <th>20</th>\n",
       "      <td>NCR</td>\n",
       "      <td>23947.0</td>\n",
       "      <td>Metropolitan Manila</td>\n",
       "    </tr>\n",
       "    <tr>\n",
       "      <th>41</th>\n",
       "      <td>CAR</td>\n",
       "      <td>100.0</td>\n",
       "      <td>Cordillera Administrative Region (CAR)</td>\n",
       "    </tr>\n",
       "    <tr>\n",
       "      <th>62</th>\n",
       "      <td>I - Ilocos</td>\n",
       "      <td>454.0</td>\n",
       "      <td>Ilocos Region (Region I)</td>\n",
       "    </tr>\n",
       "    <tr>\n",
       "      <th>83</th>\n",
       "      <td>II - Cagayan</td>\n",
       "      <td>136.0</td>\n",
       "      <td>Cagayan Valley (Region II)</td>\n",
       "    </tr>\n",
       "    <tr>\n",
       "      <th>104</th>\n",
       "      <td>III - C. Luzon</td>\n",
       "      <td>624.0</td>\n",
       "      <td>Central Luzon (Region III)</td>\n",
       "    </tr>\n",
       "    <tr>\n",
       "      <th>125</th>\n",
       "      <td>IVA - Calabarzon</td>\n",
       "      <td>1090.0</td>\n",
       "      <td>CALABARZON (Region IV-A)</td>\n",
       "    </tr>\n",
       "    <tr>\n",
       "      <th>146</th>\n",
       "      <td>MIMAROPA</td>\n",
       "      <td>119.0</td>\n",
       "      <td>MIMAROPA (Region IV-B)</td>\n",
       "    </tr>\n",
       "    <tr>\n",
       "      <th>167</th>\n",
       "      <td>V - Bicol</td>\n",
       "      <td>372.0</td>\n",
       "      <td>Bicol Region (Region V)</td>\n",
       "    </tr>\n",
       "    <tr>\n",
       "      <th>188</th>\n",
       "      <td>VI - W. Visayas</td>\n",
       "      <td>690.0</td>\n",
       "      <td>Western Visayas (Region VI)</td>\n",
       "    </tr>\n",
       "    <tr>\n",
       "      <th>209</th>\n",
       "      <td>VII - C. Visayas</td>\n",
       "      <td>856.0</td>\n",
       "      <td>Central Visayas (Region VII)</td>\n",
       "    </tr>\n",
       "    <tr>\n",
       "      <th>230</th>\n",
       "      <td>VIII - E. Visayas</td>\n",
       "      <td>217.0</td>\n",
       "      <td>Eastern Visayas (Region VIII)</td>\n",
       "    </tr>\n",
       "    <tr>\n",
       "      <th>251</th>\n",
       "      <td>IX - Zamboanga</td>\n",
       "      <td>244.0</td>\n",
       "      <td>Zamboanga Peninsula (Region IX)</td>\n",
       "    </tr>\n",
       "    <tr>\n",
       "      <th>272</th>\n",
       "      <td>X - N. Mindanao</td>\n",
       "      <td>272.0</td>\n",
       "      <td>Northern Mindanao (Region X)</td>\n",
       "    </tr>\n",
       "    <tr>\n",
       "      <th>293</th>\n",
       "      <td>XI - Davao</td>\n",
       "      <td>281.0</td>\n",
       "      <td>Davao Region (Region XI)</td>\n",
       "    </tr>\n",
       "    <tr>\n",
       "      <th>314</th>\n",
       "      <td>XII - SOCCSKSARGEN</td>\n",
       "      <td>218.0</td>\n",
       "      <td>SOCCSKSARGEN (Region XII)</td>\n",
       "    </tr>\n",
       "    <tr>\n",
       "      <th>335</th>\n",
       "      <td>XIII - Caraga</td>\n",
       "      <td>146.0</td>\n",
       "      <td>Caraga (Region XIII)</td>\n",
       "    </tr>\n",
       "    <tr>\n",
       "      <th>356</th>\n",
       "      <td>BARMM</td>\n",
       "      <td>151.0</td>\n",
       "      <td>Autonomous Region of Muslim Mindanao (ARMM)</td>\n",
       "    </tr>\n",
       "  </tbody>\n",
       "</table>\n",
       "</div>"
      ],
      "text/plain": [
       "                 Region  population_density  \\\n",
       "20                  NCR             23947.0   \n",
       "41                  CAR               100.0   \n",
       "62           I - Ilocos               454.0   \n",
       "83         II - Cagayan               136.0   \n",
       "104      III - C. Luzon               624.0   \n",
       "125    IVA - Calabarzon              1090.0   \n",
       "146            MIMAROPA               119.0   \n",
       "167           V - Bicol               372.0   \n",
       "188     VI - W. Visayas               690.0   \n",
       "209    VII - C. Visayas               856.0   \n",
       "230   VIII - E. Visayas               217.0   \n",
       "251      IX - Zamboanga               244.0   \n",
       "272     X - N. Mindanao               272.0   \n",
       "293          XI - Davao               281.0   \n",
       "314  XII - SOCCSKSARGEN               218.0   \n",
       "335       XIII - Caraga               146.0   \n",
       "356               BARMM               151.0   \n",
       "\n",
       "                                          REGION  \n",
       "20                           Metropolitan Manila  \n",
       "41        Cordillera Administrative Region (CAR)  \n",
       "62                      Ilocos Region (Region I)  \n",
       "83                    Cagayan Valley (Region II)  \n",
       "104                   Central Luzon (Region III)  \n",
       "125                     CALABARZON (Region IV-A)  \n",
       "146                       MIMAROPA (Region IV-B)  \n",
       "167                      Bicol Region (Region V)  \n",
       "188                  Western Visayas (Region VI)  \n",
       "209                 Central Visayas (Region VII)  \n",
       "230                Eastern Visayas (Region VIII)  \n",
       "251              Zamboanga Peninsula (Region IX)  \n",
       "272                 Northern Mindanao (Region X)  \n",
       "293                     Davao Region (Region XI)  \n",
       "314                    SOCCSKSARGEN (Region XII)  \n",
       "335                         Caraga (Region XIII)  \n",
       "356  Autonomous Region of Muslim Mindanao (ARMM)  "
      ]
     },
     "execution_count": 32,
     "metadata": {},
     "output_type": "execute_result"
    }
   ],
   "source": [
    "df_2030"
   ]
  },
  {
   "cell_type": "code",
   "execution_count": 33,
   "id": "a63f4da5",
   "metadata": {
    "ExecuteTime": {
     "end_time": "2022-07-01T11:08:24.291987Z",
     "start_time": "2022-07-01T11:08:21.271654Z"
    }
   },
   "outputs": [
    {
     "data": {
      "text/html": [
       "<div>\n",
       "<style scoped>\n",
       "    .dataframe tbody tr th:only-of-type {\n",
       "        vertical-align: middle;\n",
       "    }\n",
       "\n",
       "    .dataframe tbody tr th {\n",
       "        vertical-align: top;\n",
       "    }\n",
       "\n",
       "    .dataframe thead th {\n",
       "        text-align: right;\n",
       "    }\n",
       "</style>\n",
       "<table border=\"1\" class=\"dataframe\">\n",
       "  <thead>\n",
       "    <tr style=\"text-align: right;\">\n",
       "      <th></th>\n",
       "      <th>REGION</th>\n",
       "      <th>geometry</th>\n",
       "      <th>Region</th>\n",
       "      <th>population_density</th>\n",
       "    </tr>\n",
       "  </thead>\n",
       "  <tbody>\n",
       "    <tr>\n",
       "      <th>0</th>\n",
       "      <td>Autonomous Region of Muslim Mindanao (ARMM)</td>\n",
       "      <td>MULTIPOLYGON (((119.46694 4.58694, 119.46639 4...</td>\n",
       "      <td>BARMM</td>\n",
       "      <td>151.0</td>\n",
       "    </tr>\n",
       "    <tr>\n",
       "      <th>1</th>\n",
       "      <td>Bicol Region (Region V)</td>\n",
       "      <td>MULTIPOLYGON (((122.98417 11.71056, 122.98333 ...</td>\n",
       "      <td>V - Bicol</td>\n",
       "      <td>372.0</td>\n",
       "    </tr>\n",
       "    <tr>\n",
       "      <th>2</th>\n",
       "      <td>CALABARZON (Region IV-A)</td>\n",
       "      <td>MULTIPOLYGON (((125.22166 10.43444, 125.22195 ...</td>\n",
       "      <td>IVA - Calabarzon</td>\n",
       "      <td>1090.0</td>\n",
       "    </tr>\n",
       "    <tr>\n",
       "      <th>3</th>\n",
       "      <td>Cagayan Valley (Region II)</td>\n",
       "      <td>MULTIPOLYGON (((122.47040 16.91995, 122.47040 ...</td>\n",
       "      <td>II - Cagayan</td>\n",
       "      <td>136.0</td>\n",
       "    </tr>\n",
       "    <tr>\n",
       "      <th>4</th>\n",
       "      <td>Caraga (Region XIII)</td>\n",
       "      <td>MULTIPOLYGON (((126.41750 7.96417, 126.41778 7...</td>\n",
       "      <td>XIII - Caraga</td>\n",
       "      <td>146.0</td>\n",
       "    </tr>\n",
       "    <tr>\n",
       "      <th>5</th>\n",
       "      <td>Central Luzon (Region III)</td>\n",
       "      <td>MULTIPOLYGON (((120.62363 14.36788, 120.62368 ...</td>\n",
       "      <td>III - C. Luzon</td>\n",
       "      <td>624.0</td>\n",
       "    </tr>\n",
       "    <tr>\n",
       "      <th>6</th>\n",
       "      <td>Central Visayas (Region VII)</td>\n",
       "      <td>MULTIPOLYGON (((123.27111 9.08476, 123.27173 9...</td>\n",
       "      <td>VII - C. Visayas</td>\n",
       "      <td>856.0</td>\n",
       "    </tr>\n",
       "    <tr>\n",
       "      <th>7</th>\n",
       "      <td>Cordillera Administrative Region (CAR)</td>\n",
       "      <td>POLYGON ((121.37679 17.95473, 121.36825 17.939...</td>\n",
       "      <td>CAR</td>\n",
       "      <td>100.0</td>\n",
       "    </tr>\n",
       "    <tr>\n",
       "      <th>8</th>\n",
       "      <td>Davao Region (Region XI)</td>\n",
       "      <td>MULTIPOLYGON (((125.39778 5.43583, 125.39778 5...</td>\n",
       "      <td>XI - Davao</td>\n",
       "      <td>281.0</td>\n",
       "    </tr>\n",
       "    <tr>\n",
       "      <th>9</th>\n",
       "      <td>Eastern Visayas (Region VIII)</td>\n",
       "      <td>MULTIPOLYGON (((125.07361 9.89472, 125.07333 9...</td>\n",
       "      <td>VIII - E. Visayas</td>\n",
       "      <td>217.0</td>\n",
       "    </tr>\n",
       "    <tr>\n",
       "      <th>10</th>\n",
       "      <td>Ilocos Region (Region I)</td>\n",
       "      <td>MULTIPOLYGON (((119.86505 15.81170, 119.86479 ...</td>\n",
       "      <td>I - Ilocos</td>\n",
       "      <td>454.0</td>\n",
       "    </tr>\n",
       "    <tr>\n",
       "      <th>11</th>\n",
       "      <td>MIMAROPA (Region IV-B)</td>\n",
       "      <td>MULTIPOLYGON (((117.31389 7.51417, 117.31416 7...</td>\n",
       "      <td>MIMAROPA</td>\n",
       "      <td>119.0</td>\n",
       "    </tr>\n",
       "    <tr>\n",
       "      <th>12</th>\n",
       "      <td>Metropolitan Manila</td>\n",
       "      <td>MULTIPOLYGON (((120.97972 14.49306, 120.98000 ...</td>\n",
       "      <td>NCR</td>\n",
       "      <td>23947.0</td>\n",
       "    </tr>\n",
       "    <tr>\n",
       "      <th>13</th>\n",
       "      <td>Northern Mindanao (Region X)</td>\n",
       "      <td>MULTIPOLYGON (((123.62193 7.82859, 123.62172 7...</td>\n",
       "      <td>X - N. Mindanao</td>\n",
       "      <td>272.0</td>\n",
       "    </tr>\n",
       "    <tr>\n",
       "      <th>14</th>\n",
       "      <td>SOCCSKSARGEN (Region XII)</td>\n",
       "      <td>POLYGON ((124.53799 7.68187, 124.54649 7.68032...</td>\n",
       "      <td>XII - SOCCSKSARGEN</td>\n",
       "      <td>218.0</td>\n",
       "    </tr>\n",
       "    <tr>\n",
       "      <th>15</th>\n",
       "      <td>Western Visayas (Region VI)</td>\n",
       "      <td>MULTIPOLYGON (((122.43522 9.64382, 122.43490 9...</td>\n",
       "      <td>VI - W. Visayas</td>\n",
       "      <td>690.0</td>\n",
       "    </tr>\n",
       "    <tr>\n",
       "      <th>16</th>\n",
       "      <td>Zamboanga Peninsula (Region IX)</td>\n",
       "      <td>MULTIPOLYGON (((122.06223 6.87278, 122.06250 6...</td>\n",
       "      <td>IX - Zamboanga</td>\n",
       "      <td>244.0</td>\n",
       "    </tr>\n",
       "  </tbody>\n",
       "</table>\n",
       "</div>"
      ],
      "text/plain": [
       "                                         REGION  \\\n",
       "0   Autonomous Region of Muslim Mindanao (ARMM)   \n",
       "1                       Bicol Region (Region V)   \n",
       "2                      CALABARZON (Region IV-A)   \n",
       "3                    Cagayan Valley (Region II)   \n",
       "4                          Caraga (Region XIII)   \n",
       "5                    Central Luzon (Region III)   \n",
       "6                  Central Visayas (Region VII)   \n",
       "7        Cordillera Administrative Region (CAR)   \n",
       "8                      Davao Region (Region XI)   \n",
       "9                 Eastern Visayas (Region VIII)   \n",
       "10                     Ilocos Region (Region I)   \n",
       "11                       MIMAROPA (Region IV-B)   \n",
       "12                          Metropolitan Manila   \n",
       "13                 Northern Mindanao (Region X)   \n",
       "14                    SOCCSKSARGEN (Region XII)   \n",
       "15                  Western Visayas (Region VI)   \n",
       "16              Zamboanga Peninsula (Region IX)   \n",
       "\n",
       "                                             geometry              Region  \\\n",
       "0   MULTIPOLYGON (((119.46694 4.58694, 119.46639 4...               BARMM   \n",
       "1   MULTIPOLYGON (((122.98417 11.71056, 122.98333 ...           V - Bicol   \n",
       "2   MULTIPOLYGON (((125.22166 10.43444, 125.22195 ...    IVA - Calabarzon   \n",
       "3   MULTIPOLYGON (((122.47040 16.91995, 122.47040 ...        II - Cagayan   \n",
       "4   MULTIPOLYGON (((126.41750 7.96417, 126.41778 7...       XIII - Caraga   \n",
       "5   MULTIPOLYGON (((120.62363 14.36788, 120.62368 ...      III - C. Luzon   \n",
       "6   MULTIPOLYGON (((123.27111 9.08476, 123.27173 9...    VII - C. Visayas   \n",
       "7   POLYGON ((121.37679 17.95473, 121.36825 17.939...                 CAR   \n",
       "8   MULTIPOLYGON (((125.39778 5.43583, 125.39778 5...          XI - Davao   \n",
       "9   MULTIPOLYGON (((125.07361 9.89472, 125.07333 9...   VIII - E. Visayas   \n",
       "10  MULTIPOLYGON (((119.86505 15.81170, 119.86479 ...          I - Ilocos   \n",
       "11  MULTIPOLYGON (((117.31389 7.51417, 117.31416 7...            MIMAROPA   \n",
       "12  MULTIPOLYGON (((120.97972 14.49306, 120.98000 ...                 NCR   \n",
       "13  MULTIPOLYGON (((123.62193 7.82859, 123.62172 7...     X - N. Mindanao   \n",
       "14  POLYGON ((124.53799 7.68187, 124.54649 7.68032...  XII - SOCCSKSARGEN   \n",
       "15  MULTIPOLYGON (((122.43522 9.64382, 122.43490 9...     VI - W. Visayas   \n",
       "16  MULTIPOLYGON (((122.06223 6.87278, 122.06250 6...      IX - Zamboanga   \n",
       "\n",
       "    population_density  \n",
       "0                151.0  \n",
       "1                372.0  \n",
       "2               1090.0  \n",
       "3                136.0  \n",
       "4                146.0  \n",
       "5                624.0  \n",
       "6                856.0  \n",
       "7                100.0  \n",
       "8                281.0  \n",
       "9                217.0  \n",
       "10               454.0  \n",
       "11               119.0  \n",
       "12             23947.0  \n",
       "13               272.0  \n",
       "14               218.0  \n",
       "15               690.0  \n",
       "16               244.0  "
      ]
     },
     "execution_count": 33,
     "metadata": {},
     "output_type": "execute_result"
    }
   ],
   "source": [
    "df = pd.merge(regions, df_2030, on='REGION')\n",
    "df"
   ]
  },
  {
   "cell_type": "code",
   "execution_count": 34,
   "id": "6a4ee009",
   "metadata": {
    "ExecuteTime": {
     "end_time": "2022-07-01T11:08:24.299336Z",
     "start_time": "2022-07-01T11:08:24.294153Z"
    }
   },
   "outputs": [],
   "source": [
    "df['log_pop_density'] = np.log(df['population_density'])"
   ]
  },
  {
   "cell_type": "code",
   "execution_count": 35,
   "id": "d25bb400",
   "metadata": {
    "ExecuteTime": {
     "end_time": "2022-07-01T11:08:27.789387Z",
     "start_time": "2022-07-01T11:08:24.301144Z"
    }
   },
   "outputs": [
    {
     "data": {
      "image/png": "[encoded data removed]",
      "text/plain": [
       "<Figure size 1080x1080 with 2 Axes>"
      ]
     },
     "metadata": {
      "needs_background": "light"
     },
     "output_type": "display_data"
    }
   ],
   "source": [
    "fig = plt.figure(figsize=(15,15))\n",
    "ax = plt.axes()\n",
    "plt.title('Population Density', fontsize=20)\n",
    "df.plot(column='log_pop_density',\n",
    "            figsize=(10,10),\n",
    "            cmap='Blues',\n",
    "            edgecolor='black',\n",
    "            linewidth=0.5,\n",
    "            legend=True,\n",
    "            legend_kwds = {'label': 'population per sq. km in Log scale'},\n",
    "             ax=ax)\n",
    "\n",
    "plt.tight_layout()\n",
    "plt.savefig('map_population_density.png', dpi=300)"
   ]
  },
  {
   "cell_type": "code",
   "execution_count": 36,
   "id": "1191b96a",
   "metadata": {
    "ExecuteTime": {
     "end_time": "2022-07-01T11:08:27.800959Z",
     "start_time": "2022-07-01T11:08:27.791731Z"
    }
   },
   "outputs": [],
   "source": [
    "df_population[['year', 'Region','population_density']].to_csv(\n",
    "   '~/cpt5/capstone/data/processed/regional_population_density_2010_2030.csv')"
   ]
  },
  {
   "cell_type": "code",
   "execution_count": null,
   "id": "20fe0773",
   "metadata": {},
   "outputs": [],
   "source": []
  },
  {
   "cell_type": "code",
   "execution_count": null,
   "id": "df3fba62",
   "metadata": {},
   "outputs": [],
   "source": []
  }
 ],
 "metadata": {
  "kernelspec": {
   "display_name": "Python 3 (ipykernel)",
   "language": "python",
   "name": "python3"
  },
  "language_info": {
   "codemirror_mode": {
    "name": "ipython",
    "version": 3
   },
   "file_extension": ".py",
   "mimetype": "text/x-python",
   "name": "python",
   "nbconvert_exporter": "python",
   "pygments_lexer": "ipython3",
   "version": "3.9.7"
  },
  "toc": {
   "base_numbering": 1,
   "nav_menu": {},
   "number_sections": true,
   "sideBar": true,
   "skip_h1_title": false,
   "title_cell": "Table of Contents",
   "title_sidebar": "Contents",
   "toc_cell": false,
   "toc_position": {},
   "toc_section_display": true,
   "toc_window_display": false
  }
 },
 "nbformat": 4,
 "nbformat_minor": 5
}
