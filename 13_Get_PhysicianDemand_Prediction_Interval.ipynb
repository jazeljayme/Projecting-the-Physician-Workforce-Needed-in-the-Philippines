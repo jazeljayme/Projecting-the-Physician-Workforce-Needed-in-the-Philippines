{
 "cells": [
  {
   "cell_type": "markdown",
   "id": "0d3cc187",
   "metadata": {
    "ExecuteTime": {
     "end_time": "2022-07-01T13:53:55.385014Z",
     "start_time": "2022-07-01T13:53:55.379545Z"
    }
   },
   "source": [
    "# Physician Density Prediction Interval\n",
    "\n"
   ]
  },
  {
   "cell_type": "markdown",
   "id": "7478e422",
   "metadata": {},
   "source": [
    "The goal of this notebook is to compute the estimate of an interval in which a forecasted physician demand will fall, with a specified 95% probability of the prediction lying within the interval.\n",
    "\n",
    "The Regression coefficients of the Physician density Prediction model are found here: https://bmchealthservres.biomedcentral.com/articles/10.1186/1472-6963-12-79/tables/3\n",
    "\n",
    "\n",
    "- Intercept \n",
    "    - 5.014 (2.676, 7.351)\n",
    "- Proportion under age 15 years\n",
    "    - -0.128 (-0.154, -0.102)\n",
    "- Life expectancy (years)\n",
    "    - 0.034 (0.009, 0.059)"
   ]
  },
  {
   "cell_type": "code",
   "execution_count": 1,
   "id": "eef6523b",
   "metadata": {
    "ExecuteTime": {
     "end_time": "2022-07-01T15:23:10.797248Z",
     "start_time": "2022-07-01T15:23:08.102294Z"
    }
   },
   "outputs": [
    {
     "name": "stderr",
     "output_type": "stream",
     "text": [
      "Matplotlib created a temporary config/cache directory at /tmp/matplotlib-i2twbd7b because the default path (/home/jjayme/.cache/matplotlib) is not a writable directory; it is highly recommended to set the MPLCONFIGDIR environment variable to a writable directory, in particular to speed up the import of Matplotlib and to better support multiprocessing.\n"
     ]
    }
   ],
   "source": [
    "import numpy as np\n",
    "import pandas as pd\n",
    "import matplotlib.pyplot as plt"
   ]
  },
  {
   "cell_type": "markdown",
   "id": "d60a92cb",
   "metadata": {},
   "source": [
    "# Get Physician Density Data"
   ]
  },
  {
   "cell_type": "code",
   "execution_count": 2,
   "id": "672a93ee",
   "metadata": {
    "ExecuteTime": {
     "end_time": "2022-07-01T15:23:10.816883Z",
     "start_time": "2022-07-01T15:23:10.802750Z"
    }
   },
   "outputs": [],
   "source": [
    "df = pd.read_csv('~/cpt5/capstone/data/processed/2010-30_demand_forecast.csv')\n",
    "#clean data\n",
    "df = df.drop(columns='Unnamed: 0', axis=1)"
   ]
  },
  {
   "cell_type": "code",
   "execution_count": 3,
   "id": "a9e0e474",
   "metadata": {
    "ExecuteTime": {
     "end_time": "2022-07-01T15:23:10.840058Z",
     "start_time": "2022-07-01T15:23:10.819578Z"
    }
   },
   "outputs": [
    {
     "data": {
      "text/html": [
       "<div>\n",
       "<style scoped>\n",
       "    .dataframe tbody tr th:only-of-type {\n",
       "        vertical-align: middle;\n",
       "    }\n",
       "\n",
       "    .dataframe tbody tr th {\n",
       "        vertical-align: top;\n",
       "    }\n",
       "\n",
       "    .dataframe thead th {\n",
       "        text-align: right;\n",
       "    }\n",
       "</style>\n",
       "<table border=\"1\" class=\"dataframe\">\n",
       "  <thead>\n",
       "    <tr style=\"text-align: right;\">\n",
       "      <th></th>\n",
       "      <th>year</th>\n",
       "      <th>Region</th>\n",
       "      <th>population</th>\n",
       "      <th>mortality_rate_100k</th>\n",
       "      <th>rGDP</th>\n",
       "      <th>proportion_under15</th>\n",
       "      <th>proportion_over60</th>\n",
       "      <th>life_expectancy</th>\n",
       "      <th>infant_death_rate_per100k</th>\n",
       "      <th>maternal_death_rate_per100k</th>\n",
       "      <th>population_density</th>\n",
       "      <th>WHO_PD</th>\n",
       "      <th>PD</th>\n",
       "    </tr>\n",
       "  </thead>\n",
       "  <tbody>\n",
       "    <tr>\n",
       "      <th>0</th>\n",
       "      <td>2010</td>\n",
       "      <td>NCR</td>\n",
       "      <td>11855975</td>\n",
       "      <td>578.265389</td>\n",
       "      <td>3.053160e+09</td>\n",
       "      <td>28.981229</td>\n",
       "      <td>5.759915</td>\n",
       "      <td>71.019294</td>\n",
       "      <td>1841.755959</td>\n",
       "      <td>88.105727</td>\n",
       "      <td>19136.0</td>\n",
       "      <td>10</td>\n",
       "      <td>13.831397</td>\n",
       "    </tr>\n",
       "    <tr>\n",
       "      <th>1</th>\n",
       "      <td>2011</td>\n",
       "      <td>NCR</td>\n",
       "      <td>12056622</td>\n",
       "      <td>568.069554</td>\n",
       "      <td>3.237139e+09</td>\n",
       "      <td>28.597401</td>\n",
       "      <td>5.940837</td>\n",
       "      <td>71.259294</td>\n",
       "      <td>1821.869754</td>\n",
       "      <td>66.257200</td>\n",
       "      <td>19460.0</td>\n",
       "      <td>10</td>\n",
       "      <td>14.260810</td>\n",
       "    </tr>\n",
       "    <tr>\n",
       "      <th>2</th>\n",
       "      <td>2012</td>\n",
       "      <td>NCR</td>\n",
       "      <td>12257269</td>\n",
       "      <td>571.236527</td>\n",
       "      <td>3.553089e+09</td>\n",
       "      <td>28.225682</td>\n",
       "      <td>6.116051</td>\n",
       "      <td>71.499294</td>\n",
       "      <td>1838.911067</td>\n",
       "      <td>61.944825</td>\n",
       "      <td>19784.0</td>\n",
       "      <td>10</td>\n",
       "      <td>14.684904</td>\n",
       "    </tr>\n",
       "    <tr>\n",
       "      <th>3</th>\n",
       "      <td>2013</td>\n",
       "      <td>NCR</td>\n",
       "      <td>12457916</td>\n",
       "      <td>570.320081</td>\n",
       "      <td>3.890702e+09</td>\n",
       "      <td>27.865508</td>\n",
       "      <td>6.285823</td>\n",
       "      <td>71.739294</td>\n",
       "      <td>1818.360930</td>\n",
       "      <td>89.481418</td>\n",
       "      <td>20108.0</td>\n",
       "      <td>10</td>\n",
       "      <td>15.103724</td>\n",
       "    </tr>\n",
       "    <tr>\n",
       "      <th>4</th>\n",
       "      <td>2014</td>\n",
       "      <td>NCR</td>\n",
       "      <td>12658563</td>\n",
       "      <td>570.641355</td>\n",
       "      <td>4.215201e+09</td>\n",
       "      <td>27.516350</td>\n",
       "      <td>6.450403</td>\n",
       "      <td>71.979294</td>\n",
       "      <td>1787.799913</td>\n",
       "      <td>88.013481</td>\n",
       "      <td>20432.0</td>\n",
       "      <td>10</td>\n",
       "      <td>15.517322</td>\n",
       "    </tr>\n",
       "  </tbody>\n",
       "</table>\n",
       "</div>"
      ],
      "text/plain": [
       "   year Region  population  mortality_rate_100k          rGDP  \\\n",
       "0  2010    NCR    11855975           578.265389  3.053160e+09   \n",
       "1  2011    NCR    12056622           568.069554  3.237139e+09   \n",
       "2  2012    NCR    12257269           571.236527  3.553089e+09   \n",
       "3  2013    NCR    12457916           570.320081  3.890702e+09   \n",
       "4  2014    NCR    12658563           570.641355  4.215201e+09   \n",
       "\n",
       "   proportion_under15  proportion_over60  life_expectancy  \\\n",
       "0           28.981229           5.759915        71.019294   \n",
       "1           28.597401           5.940837        71.259294   \n",
       "2           28.225682           6.116051        71.499294   \n",
       "3           27.865508           6.285823        71.739294   \n",
       "4           27.516350           6.450403        71.979294   \n",
       "\n",
       "   infant_death_rate_per100k  maternal_death_rate_per100k  population_density  \\\n",
       "0                1841.755959                    88.105727             19136.0   \n",
       "1                1821.869754                    66.257200             19460.0   \n",
       "2                1838.911067                    61.944825             19784.0   \n",
       "3                1818.360930                    89.481418             20108.0   \n",
       "4                1787.799913                    88.013481             20432.0   \n",
       "\n",
       "   WHO_PD         PD  \n",
       "0      10  13.831397  \n",
       "1      10  14.260810  \n",
       "2      10  14.684904  \n",
       "3      10  15.103724  \n",
       "4      10  15.517322  "
      ]
     },
     "execution_count": 3,
     "metadata": {},
     "output_type": "execute_result"
    }
   ],
   "source": [
    "df.head()"
   ]
  },
  {
   "cell_type": "code",
   "execution_count": 4,
   "id": "94f55fe6",
   "metadata": {
    "ExecuteTime": {
     "end_time": "2022-07-01T15:23:10.872987Z",
     "start_time": "2022-07-01T15:23:10.842606Z"
    }
   },
   "outputs": [
    {
     "data": {
      "text/plain": [
       "Index(['year', 'Region', 'population', 'mortality_rate_100k', 'rGDP',\n",
       "       'proportion_under15', 'proportion_over60', 'life_expectancy',\n",
       "       'infant_death_rate_per100k', 'maternal_death_rate_per100k',\n",
       "       'population_density', 'WHO_PD', 'PD'],\n",
       "      dtype='object')"
      ]
     },
     "execution_count": 4,
     "metadata": {},
     "output_type": "execute_result"
    }
   ],
   "source": [
    "df.columns"
   ]
  },
  {
   "cell_type": "markdown",
   "id": "fa3944ae",
   "metadata": {},
   "source": [
    "# Compute the standard deviation"
   ]
  },
  {
   "cell_type": "code",
   "execution_count": 5,
   "id": "325ba602",
   "metadata": {
    "ExecuteTime": {
     "end_time": "2022-07-01T15:23:10.880209Z",
     "start_time": "2022-07-01T15:23:10.875861Z"
    }
   },
   "outputs": [],
   "source": [
    "def get_std_devs(mu, lower_bound):\n",
    "    std_lower = (mu - lower_bound)/1.96\n",
    "    return std_lower"
   ]
  },
  {
   "cell_type": "code",
   "execution_count": 6,
   "id": "3561e004",
   "metadata": {
    "ExecuteTime": {
     "end_time": "2022-07-01T15:23:10.886686Z",
     "start_time": "2022-07-01T15:23:10.882677Z"
    }
   },
   "outputs": [],
   "source": [
    "# compute standard deviation\n",
    "stdL_intercept = get_std_devs(mu=5.014, lower_bound=2.676)                               \n",
    "stdL_prop15 = get_std_devs(mu=-0.128, lower_bound=-0.154)\n",
    "stdL_lifeExp = get_std_devs(mu=0.034,lower_bound=0.009)"
   ]
  },
  {
   "cell_type": "code",
   "execution_count": 7,
   "id": "2bd200e4",
   "metadata": {
    "ExecuteTime": {
     "end_time": "2022-07-01T15:23:11.284133Z",
     "start_time": "2022-07-01T15:23:11.267620Z"
    }
   },
   "outputs": [
    {
     "data": {
      "text/html": [
       "<div>\n",
       "<style scoped>\n",
       "    .dataframe tbody tr th:only-of-type {\n",
       "        vertical-align: middle;\n",
       "    }\n",
       "\n",
       "    .dataframe tbody tr th {\n",
       "        vertical-align: top;\n",
       "    }\n",
       "\n",
       "    .dataframe thead th {\n",
       "        text-align: right;\n",
       "    }\n",
       "</style>\n",
       "<table border=\"1\" class=\"dataframe\">\n",
       "  <thead>\n",
       "    <tr style=\"text-align: right;\">\n",
       "      <th></th>\n",
       "      <th>year</th>\n",
       "      <th>Region</th>\n",
       "      <th>proportion_under15</th>\n",
       "      <th>life_expectancy</th>\n",
       "      <th>PD</th>\n",
       "    </tr>\n",
       "  </thead>\n",
       "  <tbody>\n",
       "    <tr>\n",
       "      <th>0</th>\n",
       "      <td>2010</td>\n",
       "      <td>NCR</td>\n",
       "      <td>28.981229</td>\n",
       "      <td>71.019294</td>\n",
       "      <td>13.831397</td>\n",
       "    </tr>\n",
       "    <tr>\n",
       "      <th>1</th>\n",
       "      <td>2011</td>\n",
       "      <td>NCR</td>\n",
       "      <td>28.597401</td>\n",
       "      <td>71.259294</td>\n",
       "      <td>14.260810</td>\n",
       "    </tr>\n",
       "    <tr>\n",
       "      <th>2</th>\n",
       "      <td>2012</td>\n",
       "      <td>NCR</td>\n",
       "      <td>28.225682</td>\n",
       "      <td>71.499294</td>\n",
       "      <td>14.684904</td>\n",
       "    </tr>\n",
       "    <tr>\n",
       "      <th>3</th>\n",
       "      <td>2013</td>\n",
       "      <td>NCR</td>\n",
       "      <td>27.865508</td>\n",
       "      <td>71.739294</td>\n",
       "      <td>15.103724</td>\n",
       "    </tr>\n",
       "    <tr>\n",
       "      <th>4</th>\n",
       "      <td>2014</td>\n",
       "      <td>NCR</td>\n",
       "      <td>27.516350</td>\n",
       "      <td>71.979294</td>\n",
       "      <td>15.517322</td>\n",
       "    </tr>\n",
       "  </tbody>\n",
       "</table>\n",
       "</div>"
      ],
      "text/plain": [
       "   year Region  proportion_under15  life_expectancy         PD\n",
       "0  2010    NCR           28.981229        71.019294  13.831397\n",
       "1  2011    NCR           28.597401        71.259294  14.260810\n",
       "2  2012    NCR           28.225682        71.499294  14.684904\n",
       "3  2013    NCR           27.865508        71.739294  15.103724\n",
       "4  2014    NCR           27.516350        71.979294  15.517322"
      ]
     },
     "execution_count": 7,
     "metadata": {},
     "output_type": "execute_result"
    }
   ],
   "source": [
    "df1 = df[['year', 'Region', 'proportion_under15', 'life_expectancy', 'PD']]\n",
    "df1.head()"
   ]
  },
  {
   "cell_type": "markdown",
   "id": "5c3193a4",
   "metadata": {},
   "source": [
    "# Implement Monte-Carlo Simulations"
   ]
  },
  {
   "cell_type": "code",
   "execution_count": 24,
   "id": "209c596b",
   "metadata": {
    "ExecuteTime": {
     "end_time": "2022-07-01T15:30:29.392037Z",
     "start_time": "2022-07-01T15:30:29.377116Z"
    }
   },
   "outputs": [],
   "source": [
    "def simulate_realizations(df, region, year, n):\n",
    "    \"\"\"Return physician densities from N Monte carlo simulations.\"\"\"\n",
    "    \n",
    "    df_ = df[(df['Region'] == region) & (df['year']==year)]\n",
    "    prop15 = df_['proportion_under15'].values[0]\n",
    "    lifeExp = df_['life_expectancy'].values[0]\n",
    "    \n",
    "    PD_values = []\n",
    "    coef_i = []\n",
    "    coef_prop = []\n",
    "    coef_life = []\n",
    "    \n",
    "    for i in range(n):\n",
    "        coef_intercept = np.random.normal(loc=5.014 ,scale=stdL_intercept)\n",
    "        coef_prop15 = np.random.normal(loc=-0.128,scale=stdL_prop15)\n",
    "        coef_lifeExp = np.random.normal(loc=0.034,scale=stdL_lifeExp)\n",
    "        \n",
    "        PD = (coef_intercept + (coef_prop15*prop15) + (coef_lifeExp*lifeExp))**2\n",
    "        PD_values.append(PD)\n",
    "        coef_i.append(coef_intercept)\n",
    "        coef_prop.append(coef_prop15)\n",
    "        coef_life.append(coef_lifeExp)\n",
    "    return PD_values,\n",
    "\n",
    "def concatenated_df(df, n=10):\n",
    "    \"\"\"Return the concatenated dataframes.\"\"\"\n",
    "    \n",
    "    df_all = pd.DataFrame()\n",
    "    df_all['year'] = np.nan\n",
    "    df_all['Region'] = np.nan\n",
    "\n",
    "    for year in df.year.unique():\n",
    "        for region in df.Region.unique():\n",
    "            df_dummy = pd.DataFrame()\n",
    "            df_dummy['year'] = [year]\n",
    "            df_dummy['Region'] = [region]\n",
    "            df_dummy['PD_values'] = [simulate_realizations(df, region, year,\n",
    "                                                           n)]\n",
    "            df_all = pd.concat([df_all, df_dummy]).reset_index(drop=True)\n",
    "    return df_all"
   ]
  },
  {
   "cell_type": "code",
   "execution_count": 25,
   "id": "1e479f3f",
   "metadata": {
    "ExecuteTime": {
     "end_time": "2022-07-01T15:30:36.393704Z",
     "start_time": "2022-07-01T15:30:30.681762Z"
    }
   },
   "outputs": [],
   "source": [
    "# apply monte carlo simulation with 1000 realizations\n",
    "df_new = concatenated_df(df1, n=1000)"
   ]
  },
  {
   "cell_type": "code",
   "execution_count": 27,
   "id": "250d42c6",
   "metadata": {
    "ExecuteTime": {
     "end_time": "2022-07-01T15:30:36.450337Z",
     "start_time": "2022-07-01T15:30:36.430434Z"
    }
   },
   "outputs": [],
   "source": [
    "# merge datasets \n",
    "df2 = df1.merge(df_new, on=['year', 'Region'])\n",
    "df2.head()"
   ]
  },
  {
   "cell_type": "code",
   "execution_count": 30,
   "id": "43bed10e",
   "metadata": {
    "ExecuteTime": {
     "end_time": "2022-07-01T15:42:36.007420Z",
     "start_time": "2022-07-01T15:42:35.899027Z"
    }
   },
   "outputs": [],
   "source": [
    "# remove brackets from PD_values (Physician densities)\n",
    "df2['PD_values'] = df2['PD_values'].apply(lambda x: list(x)[0])\n",
    "\n",
    "# compute variance of PD for the 1000 realizations\n",
    "df2['variance'] = df2['PD_values'].apply(lambda x: np.var(x))\n",
    "\n",
    "# compute the mean physician density for the 1000 realizations\n",
    "df2['mean_PD'] = df2['PD_values'].apply(lambda x: np.mean(x))"
   ]
  },
  {
   "cell_type": "code",
   "execution_count": 31,
   "id": "707de253",
   "metadata": {
    "ExecuteTime": {
     "end_time": "2022-07-01T15:42:36.428329Z",
     "start_time": "2022-07-01T15:42:36.259359Z"
    }
   },
   "outputs": [
    {
     "data": {
      "text/plain": [
       "(array([257., 274., 197., 145.,  59.,  36.,  15.,  13.,   2.,   2.]),\n",
       " array([1.28143136e-03, 7.21118368e+00, 1.44210859e+01, 2.16309882e+01,\n",
       "        2.88408904e+01, 3.60507927e+01, 4.32606949e+01, 5.04705971e+01,\n",
       "        5.76804994e+01, 6.48904016e+01, 7.21003039e+01]),\n",
       " <BarContainer object of 10 artists>)"
      ]
     },
     "execution_count": 31,
     "metadata": {},
     "output_type": "execute_result"
    },
    {
     "data": {
      "image/png": "[encoded data removed]",
      "text/plain": [
       "<Figure size 432x288 with 1 Axes>"
      ]
     },
     "metadata": {
      "needs_background": "light"
     },
     "output_type": "display_data"
    }
   ],
   "source": [
    "# plot histogram of Physician densities\n",
    "plt.hist(df2.iloc[0]['PD_values'])"
   ]
  },
  {
   "cell_type": "code",
   "execution_count": 32,
   "id": "0b5494e5",
   "metadata": {
    "ExecuteTime": {
     "end_time": "2022-07-01T15:42:41.296172Z",
     "start_time": "2022-07-01T15:42:41.276544Z"
    }
   },
   "outputs": [
    {
     "data": {
      "text/html": [
       "<div>\n",
       "<style scoped>\n",
       "    .dataframe tbody tr th:only-of-type {\n",
       "        vertical-align: middle;\n",
       "    }\n",
       "\n",
       "    .dataframe tbody tr th {\n",
       "        vertical-align: top;\n",
       "    }\n",
       "\n",
       "    .dataframe thead th {\n",
       "        text-align: right;\n",
       "    }\n",
       "</style>\n",
       "<table border=\"1\" class=\"dataframe\">\n",
       "  <thead>\n",
       "    <tr style=\"text-align: right;\">\n",
       "      <th></th>\n",
       "      <th>year</th>\n",
       "      <th>Region</th>\n",
       "      <th>PD</th>\n",
       "      <th>mean_PD</th>\n",
       "      <th>variance</th>\n",
       "    </tr>\n",
       "  </thead>\n",
       "  <tbody>\n",
       "    <tr>\n",
       "      <th>0</th>\n",
       "      <td>2010</td>\n",
       "      <td>NCR</td>\n",
       "      <td>13.831397</td>\n",
       "      <td>16.021231</td>\n",
       "      <td>139.638365</td>\n",
       "    </tr>\n",
       "    <tr>\n",
       "      <th>1</th>\n",
       "      <td>2011</td>\n",
       "      <td>NCR</td>\n",
       "      <td>14.260810</td>\n",
       "      <td>17.153624</td>\n",
       "      <td>165.020275</td>\n",
       "    </tr>\n",
       "    <tr>\n",
       "      <th>2</th>\n",
       "      <td>2012</td>\n",
       "      <td>NCR</td>\n",
       "      <td>14.684904</td>\n",
       "      <td>16.500451</td>\n",
       "      <td>138.566240</td>\n",
       "    </tr>\n",
       "    <tr>\n",
       "      <th>3</th>\n",
       "      <td>2013</td>\n",
       "      <td>NCR</td>\n",
       "      <td>15.103724</td>\n",
       "      <td>17.736813</td>\n",
       "      <td>169.999958</td>\n",
       "    </tr>\n",
       "    <tr>\n",
       "      <th>4</th>\n",
       "      <td>2014</td>\n",
       "      <td>NCR</td>\n",
       "      <td>15.517322</td>\n",
       "      <td>18.262776</td>\n",
       "      <td>177.436715</td>\n",
       "    </tr>\n",
       "    <tr>\n",
       "      <th>...</th>\n",
       "      <td>...</td>\n",
       "      <td>...</td>\n",
       "      <td>...</td>\n",
       "      <td>...</td>\n",
       "      <td>...</td>\n",
       "    </tr>\n",
       "    <tr>\n",
       "      <th>352</th>\n",
       "      <td>2026</td>\n",
       "      <td>BARMM</td>\n",
       "      <td>6.850954</td>\n",
       "      <td>9.003922</td>\n",
       "      <td>73.180575</td>\n",
       "    </tr>\n",
       "    <tr>\n",
       "      <th>353</th>\n",
       "      <td>2027</td>\n",
       "      <td>BARMM</td>\n",
       "      <td>7.187704</td>\n",
       "      <td>9.818395</td>\n",
       "      <td>79.767773</td>\n",
       "    </tr>\n",
       "    <tr>\n",
       "      <th>354</th>\n",
       "      <td>2028</td>\n",
       "      <td>BARMM</td>\n",
       "      <td>7.518603</td>\n",
       "      <td>9.941210</td>\n",
       "      <td>89.550601</td>\n",
       "    </tr>\n",
       "    <tr>\n",
       "      <th>355</th>\n",
       "      <td>2029</td>\n",
       "      <td>BARMM</td>\n",
       "      <td>7.843745</td>\n",
       "      <td>10.399220</td>\n",
       "      <td>92.949894</td>\n",
       "    </tr>\n",
       "    <tr>\n",
       "      <th>356</th>\n",
       "      <td>2030</td>\n",
       "      <td>BARMM</td>\n",
       "      <td>8.163247</td>\n",
       "      <td>10.575304</td>\n",
       "      <td>87.208288</td>\n",
       "    </tr>\n",
       "  </tbody>\n",
       "</table>\n",
       "<p>357 rows × 5 columns</p>\n",
       "</div>"
      ],
      "text/plain": [
       "     year Region         PD    mean_PD    variance\n",
       "0    2010    NCR  13.831397  16.021231  139.638365\n",
       "1    2011    NCR  14.260810  17.153624  165.020275\n",
       "2    2012    NCR  14.684904  16.500451  138.566240\n",
       "3    2013    NCR  15.103724  17.736813  169.999958\n",
       "4    2014    NCR  15.517322  18.262776  177.436715\n",
       "..    ...    ...        ...        ...         ...\n",
       "352  2026  BARMM   6.850954   9.003922   73.180575\n",
       "353  2027  BARMM   7.187704   9.818395   79.767773\n",
       "354  2028  BARMM   7.518603   9.941210   89.550601\n",
       "355  2029  BARMM   7.843745  10.399220   92.949894\n",
       "356  2030  BARMM   8.163247  10.575304   87.208288\n",
       "\n",
       "[357 rows x 5 columns]"
      ]
     },
     "execution_count": 32,
     "metadata": {},
     "output_type": "execute_result"
    }
   ],
   "source": [
    "df2[['year', 'Region', 'PD', 'mean_PD', 'variance']]"
   ]
  },
  {
   "cell_type": "markdown",
   "id": "2aaaae3c",
   "metadata": {},
   "source": [
    "## Compute 95% Prediction interval"
   ]
  },
  {
   "cell_type": "markdown",
   "id": "5bbd0ee8",
   "metadata": {},
   "source": [
    "*The histogram shows non-normal PD values. We applied Log transformation to construct non-normal data as “normal*"
   ]
  },
  {
   "cell_type": "code",
   "execution_count": 37,
   "id": "081c4d0e",
   "metadata": {
    "ExecuteTime": {
     "end_time": "2022-07-01T16:17:57.329622Z",
     "start_time": "2022-07-01T16:17:57.314902Z"
    }
   },
   "outputs": [],
   "source": [
    "df2['var_logT'] = df2.apply(lambda x: np.log(1 + (x['variance']/(x['mean_PD']**2))), axis=1)"
   ]
  },
  {
   "cell_type": "code",
   "execution_count": 38,
   "id": "992b8cae",
   "metadata": {
    "ExecuteTime": {
     "end_time": "2022-07-01T16:18:09.178621Z",
     "start_time": "2022-07-01T16:18:09.164478Z"
    }
   },
   "outputs": [],
   "source": [
    "# compute confidence interval\n",
    "df2['CI'] = df2.apply(lambda x: np.exp(1.96*x['var_logT']), axis=1)"
   ]
  },
  {
   "cell_type": "code",
   "execution_count": 39,
   "id": "574e3233",
   "metadata": {
    "ExecuteTime": {
     "end_time": "2022-07-01T16:18:21.712237Z",
     "start_time": "2022-07-01T16:18:21.690947Z"
    }
   },
   "outputs": [],
   "source": [
    "# compute lower and upper bound\n",
    "df2['lower_bound'] = df2.apply(lambda x: x['mean_PD']/x['CI'], axis=1)\n",
    "df2['upper_bound'] = df2.apply(lambda x: x['mean_PD']*x['CI'], axis=1)"
   ]
  },
  {
   "cell_type": "code",
   "execution_count": 40,
   "id": "ba173b04",
   "metadata": {
    "ExecuteTime": {
     "end_time": "2022-07-01T16:18:28.643330Z",
     "start_time": "2022-07-01T16:18:28.622951Z"
    }
   },
   "outputs": [
    {
     "data": {
      "text/html": [
       "<div>\n",
       "<style scoped>\n",
       "    .dataframe tbody tr th:only-of-type {\n",
       "        vertical-align: middle;\n",
       "    }\n",
       "\n",
       "    .dataframe tbody tr th {\n",
       "        vertical-align: top;\n",
       "    }\n",
       "\n",
       "    .dataframe thead th {\n",
       "        text-align: right;\n",
       "    }\n",
       "</style>\n",
       "<table border=\"1\" class=\"dataframe\">\n",
       "  <thead>\n",
       "    <tr style=\"text-align: right;\">\n",
       "      <th></th>\n",
       "      <th>year</th>\n",
       "      <th>Region</th>\n",
       "      <th>PD</th>\n",
       "      <th>lower_bound</th>\n",
       "      <th>upper_bound</th>\n",
       "    </tr>\n",
       "  </thead>\n",
       "  <tbody>\n",
       "    <tr>\n",
       "      <th>12</th>\n",
       "      <td>2022</td>\n",
       "      <td>NCR</td>\n",
       "      <td>17.416605</td>\n",
       "      <td>9.211317</td>\n",
       "      <td>40.282770</td>\n",
       "    </tr>\n",
       "    <tr>\n",
       "      <th>13</th>\n",
       "      <td>2023</td>\n",
       "      <td>NCR</td>\n",
       "      <td>17.632299</td>\n",
       "      <td>9.244218</td>\n",
       "      <td>42.770667</td>\n",
       "    </tr>\n",
       "    <tr>\n",
       "      <th>14</th>\n",
       "      <td>2024</td>\n",
       "      <td>NCR</td>\n",
       "      <td>17.850039</td>\n",
       "      <td>10.173694</td>\n",
       "      <td>42.218907</td>\n",
       "    </tr>\n",
       "    <tr>\n",
       "      <th>15</th>\n",
       "      <td>2025</td>\n",
       "      <td>NCR</td>\n",
       "      <td>18.068942</td>\n",
       "      <td>9.607795</td>\n",
       "      <td>43.567316</td>\n",
       "    </tr>\n",
       "    <tr>\n",
       "      <th>16</th>\n",
       "      <td>2026</td>\n",
       "      <td>NCR</td>\n",
       "      <td>18.770631</td>\n",
       "      <td>10.498116</td>\n",
       "      <td>42.104446</td>\n",
       "    </tr>\n",
       "    <tr>\n",
       "      <th>...</th>\n",
       "      <td>...</td>\n",
       "      <td>...</td>\n",
       "      <td>...</td>\n",
       "      <td>...</td>\n",
       "      <td>...</td>\n",
       "    </tr>\n",
       "    <tr>\n",
       "      <th>352</th>\n",
       "      <td>2026</td>\n",
       "      <td>BARMM</td>\n",
       "      <td>6.850954</td>\n",
       "      <td>2.551974</td>\n",
       "      <td>31.767809</td>\n",
       "    </tr>\n",
       "    <tr>\n",
       "      <th>353</th>\n",
       "      <td>2027</td>\n",
       "      <td>BARMM</td>\n",
       "      <td>7.187704</td>\n",
       "      <td>3.011752</td>\n",
       "      <td>32.008245</td>\n",
       "    </tr>\n",
       "    <tr>\n",
       "      <th>354</th>\n",
       "      <td>2028</td>\n",
       "      <td>BARMM</td>\n",
       "      <td>7.518603</td>\n",
       "      <td>2.807636</td>\n",
       "      <td>35.199600</td>\n",
       "    </tr>\n",
       "    <tr>\n",
       "      <th>355</th>\n",
       "      <td>2029</td>\n",
       "      <td>BARMM</td>\n",
       "      <td>7.843745</td>\n",
       "      <td>3.083067</td>\n",
       "      <td>35.076691</td>\n",
       "    </tr>\n",
       "    <tr>\n",
       "      <th>356</th>\n",
       "      <td>2030</td>\n",
       "      <td>BARMM</td>\n",
       "      <td>8.163247</td>\n",
       "      <td>3.416448</td>\n",
       "      <td>32.734885</td>\n",
       "    </tr>\n",
       "  </tbody>\n",
       "</table>\n",
       "<p>153 rows × 5 columns</p>\n",
       "</div>"
      ],
      "text/plain": [
       "     year Region         PD  lower_bound  upper_bound\n",
       "12   2022    NCR  17.416605     9.211317    40.282770\n",
       "13   2023    NCR  17.632299     9.244218    42.770667\n",
       "14   2024    NCR  17.850039    10.173694    42.218907\n",
       "15   2025    NCR  18.068942     9.607795    43.567316\n",
       "16   2026    NCR  18.770631    10.498116    42.104446\n",
       "..    ...    ...        ...          ...          ...\n",
       "352  2026  BARMM   6.850954     2.551974    31.767809\n",
       "353  2027  BARMM   7.187704     3.011752    32.008245\n",
       "354  2028  BARMM   7.518603     2.807636    35.199600\n",
       "355  2029  BARMM   7.843745     3.083067    35.076691\n",
       "356  2030  BARMM   8.163247     3.416448    32.734885\n",
       "\n",
       "[153 rows x 5 columns]"
      ]
     },
     "execution_count": 40,
     "metadata": {},
     "output_type": "execute_result"
    }
   ],
   "source": [
    "df2[df2['year'] > 2021][['year', 'Region', 'PD', 'lower_bound', 'upper_bound']]"
   ]
  },
  {
   "cell_type": "code",
   "execution_count": 42,
   "id": "72525a38",
   "metadata": {
    "ExecuteTime": {
     "end_time": "2022-07-01T16:18:50.280098Z",
     "start_time": "2022-07-01T16:18:50.269799Z"
    }
   },
   "outputs": [],
   "source": [
    "# save dataset\n",
    "df2[df2['year'] > 2021][['year', 'Region', 'PD', 'lower_bound', \n",
    "                'upper_bound']].to_csv('~/cpt5/capstone/data/processed/'\n",
    "                                       '95%_PD_prediction_interval.csv')"
   ]
  },
  {
   "cell_type": "markdown",
   "id": "bb9544a9",
   "metadata": {},
   "source": [
    "## Prettify table"
   ]
  },
  {
   "cell_type": "code",
   "execution_count": 43,
   "id": "6a83a29e",
   "metadata": {
    "ExecuteTime": {
     "end_time": "2022-07-01T16:19:02.709187Z",
     "start_time": "2022-07-01T16:19:02.701421Z"
    }
   },
   "outputs": [],
   "source": [
    "df3 = df2[df2['year'] > 2021][['year', 'Region', 'PD', 'lower_bound', 'upper_bound']]"
   ]
  },
  {
   "cell_type": "code",
   "execution_count": 44,
   "id": "00c87301",
   "metadata": {
    "ExecuteTime": {
     "end_time": "2022-07-01T16:19:03.237105Z",
     "start_time": "2022-07-01T16:19:03.225922Z"
    }
   },
   "outputs": [],
   "source": [
    "df3['PD_bounds'] = df3.apply(lambda x: str(x['PD']) +' ('\n",
    "                                         + str(x['lower_bound'])\n",
    "                                         + ', '\n",
    "                                         + str(x['upper_bound'])\n",
    "                                         + ')', axis=1)"
   ]
  },
  {
   "cell_type": "code",
   "execution_count": 45,
   "id": "488b60af",
   "metadata": {
    "ExecuteTime": {
     "end_time": "2022-07-01T16:19:03.871596Z",
     "start_time": "2022-07-01T16:19:03.866580Z"
    }
   },
   "outputs": [],
   "source": [
    "sorter = ['NCR', 'CAR', 'I - Ilocos', 'II - Cagayan', 'III - C. Luzon',\n",
    "       'IVA - Calabarzon', 'MIMAROPA', 'V - Bicol', 'VI - W. Visayas',\n",
    "       'VII - C. Visayas', 'VIII - E. Visayas', 'IX - Zamboanga',\n",
    "       'X - N. Mindanao', 'XI - Davao', 'XII - SOCCSKSARGEN',\n",
    "       'XIII - Caraga', 'BARMM']"
   ]
  },
  {
   "cell_type": "code",
   "execution_count": 46,
   "id": "57d56d49",
   "metadata": {
    "ExecuteTime": {
     "end_time": "2022-07-01T16:19:27.946139Z",
     "start_time": "2022-07-01T16:19:27.938702Z"
    }
   },
   "outputs": [],
   "source": [
    "sorterIndex = dict(zip(sorter, range(len(sorter))))\n",
    "\n",
    "# Generate a rank column that will be used to sort\n",
    "# the dataframe numerically\n",
    "df3['Rank'] = df3['Region'].map(sorterIndex)"
   ]
  },
  {
   "cell_type": "code",
   "execution_count": 48,
   "id": "697688b5",
   "metadata": {
    "ExecuteTime": {
     "end_time": "2022-07-01T16:19:49.609591Z",
     "start_time": "2022-07-01T16:19:49.598446Z"
    }
   },
   "outputs": [],
   "source": [
    "df3[['year', 'Region', 'PD', 'lower_bound', 'upper_bound', 'PD_bounds']].to_csv('~/cpt5/capstone/data/processed/95%_PD_prediction_interval.csv')"
   ]
  },
  {
   "cell_type": "code",
   "execution_count": 49,
   "id": "0a904b40",
   "metadata": {
    "ExecuteTime": {
     "end_time": "2022-07-01T16:19:50.067983Z",
     "start_time": "2022-07-01T16:19:50.058687Z"
    }
   },
   "outputs": [],
   "source": [
    "df4 = df3.sort_values(by=['year', 'Rank'])[['year', 'Region', 'PD_bounds']]"
   ]
  },
  {
   "cell_type": "code",
   "execution_count": 50,
   "id": "4491f5e2",
   "metadata": {
    "ExecuteTime": {
     "end_time": "2022-07-01T16:19:50.693281Z",
     "start_time": "2022-07-01T16:19:50.687980Z"
    }
   },
   "outputs": [],
   "source": [
    "df4.rename(columns={'PD_bounds': 'PD (95% Confidence Interval)'}, inplace=True)"
   ]
  },
  {
   "cell_type": "code",
   "execution_count": 51,
   "id": "709c8df3",
   "metadata": {
    "ExecuteTime": {
     "end_time": "2022-07-01T16:19:51.979377Z",
     "start_time": "2022-07-01T16:19:51.962959Z"
    }
   },
   "outputs": [
    {
     "data": {
      "text/html": [
       "<div>\n",
       "<style scoped>\n",
       "    .dataframe tbody tr th:only-of-type {\n",
       "        vertical-align: middle;\n",
       "    }\n",
       "\n",
       "    .dataframe tbody tr th {\n",
       "        vertical-align: top;\n",
       "    }\n",
       "\n",
       "    .dataframe thead th {\n",
       "        text-align: right;\n",
       "    }\n",
       "</style>\n",
       "<table border=\"1\" class=\"dataframe\">\n",
       "  <thead>\n",
       "    <tr style=\"text-align: right;\">\n",
       "      <th></th>\n",
       "      <th>year</th>\n",
       "      <th>Region</th>\n",
       "      <th>PD (95% Confidence Interval)</th>\n",
       "    </tr>\n",
       "  </thead>\n",
       "  <tbody>\n",
       "    <tr>\n",
       "      <th>12</th>\n",
       "      <td>2022</td>\n",
       "      <td>NCR</td>\n",
       "      <td>17.416604844380863 (9.21131719314916, 40.28276...</td>\n",
       "    </tr>\n",
       "    <tr>\n",
       "      <th>33</th>\n",
       "      <td>2022</td>\n",
       "      <td>CAR</td>\n",
       "      <td>13.819606610317893 (6.97940265314549, 36.27896...</td>\n",
       "    </tr>\n",
       "    <tr>\n",
       "      <th>54</th>\n",
       "      <td>2022</td>\n",
       "      <td>I - Ilocos</td>\n",
       "      <td>14.794555834618215 (7.720336349427994, 38.9141...</td>\n",
       "    </tr>\n",
       "    <tr>\n",
       "      <th>75</th>\n",
       "      <td>2022</td>\n",
       "      <td>II - Cagayan</td>\n",
       "      <td>14.078439022829537 (7.193159505889685, 37.9305...</td>\n",
       "    </tr>\n",
       "    <tr>\n",
       "      <th>96</th>\n",
       "      <td>2022</td>\n",
       "      <td>III - C. Luzon</td>\n",
       "      <td>16.30024869924933 (8.655276800724334, 38.90371...</td>\n",
       "    </tr>\n",
       "    <tr>\n",
       "      <th>...</th>\n",
       "      <td>...</td>\n",
       "      <td>...</td>\n",
       "      <td>...</td>\n",
       "    </tr>\n",
       "    <tr>\n",
       "      <th>272</th>\n",
       "      <td>2030</td>\n",
       "      <td>X - N. Mindanao</td>\n",
       "      <td>16.690596946782147 (8.544565167799377, 41.8626...</td>\n",
       "    </tr>\n",
       "    <tr>\n",
       "      <th>293</th>\n",
       "      <td>2030</td>\n",
       "      <td>XI - Davao</td>\n",
       "      <td>15.734746091433074 (7.756844997878723, 38.8174...</td>\n",
       "    </tr>\n",
       "    <tr>\n",
       "      <th>314</th>\n",
       "      <td>2030</td>\n",
       "      <td>XII - SOCCSKSARGEN</td>\n",
       "      <td>15.04064024985038 (7.91911343823882, 43.351193...</td>\n",
       "    </tr>\n",
       "    <tr>\n",
       "      <th>335</th>\n",
       "      <td>2030</td>\n",
       "      <td>XIII - Caraga</td>\n",
       "      <td>13.21022466388646 (6.2531029949167936, 38.8647...</td>\n",
       "    </tr>\n",
       "    <tr>\n",
       "      <th>356</th>\n",
       "      <td>2030</td>\n",
       "      <td>BARMM</td>\n",
       "      <td>8.163246980323498 (3.4164483548498144, 32.7348...</td>\n",
       "    </tr>\n",
       "  </tbody>\n",
       "</table>\n",
       "<p>153 rows × 3 columns</p>\n",
       "</div>"
      ],
      "text/plain": [
       "     year              Region  \\\n",
       "12   2022                 NCR   \n",
       "33   2022                 CAR   \n",
       "54   2022          I - Ilocos   \n",
       "75   2022        II - Cagayan   \n",
       "96   2022      III - C. Luzon   \n",
       "..    ...                 ...   \n",
       "272  2030     X - N. Mindanao   \n",
       "293  2030          XI - Davao   \n",
       "314  2030  XII - SOCCSKSARGEN   \n",
       "335  2030       XIII - Caraga   \n",
       "356  2030               BARMM   \n",
       "\n",
       "                          PD (95% Confidence Interval)  \n",
       "12   17.416604844380863 (9.21131719314916, 40.28276...  \n",
       "33   13.819606610317893 (6.97940265314549, 36.27896...  \n",
       "54   14.794555834618215 (7.720336349427994, 38.9141...  \n",
       "75   14.078439022829537 (7.193159505889685, 37.9305...  \n",
       "96   16.30024869924933 (8.655276800724334, 38.90371...  \n",
       "..                                                 ...  \n",
       "272  16.690596946782147 (8.544565167799377, 41.8626...  \n",
       "293  15.734746091433074 (7.756844997878723, 38.8174...  \n",
       "314  15.04064024985038 (7.91911343823882, 43.351193...  \n",
       "335  13.21022466388646 (6.2531029949167936, 38.8647...  \n",
       "356  8.163246980323498 (3.4164483548498144, 32.7348...  \n",
       "\n",
       "[153 rows x 3 columns]"
      ]
     },
     "execution_count": 51,
     "metadata": {},
     "output_type": "execute_result"
    }
   ],
   "source": [
    "df4"
   ]
  },
  {
   "cell_type": "code",
   "execution_count": 52,
   "id": "5d743dda",
   "metadata": {
    "ExecuteTime": {
     "end_time": "2022-07-01T16:19:59.482236Z",
     "start_time": "2022-07-01T16:19:59.474357Z"
    }
   },
   "outputs": [],
   "source": [
    "df4.to_csv('~/cpt5/capstone/data/processed/95%_PD_prediction_interval.csv')"
   ]
  },
  {
   "cell_type": "code",
   "execution_count": null,
   "id": "6712711e",
   "metadata": {},
   "outputs": [],
   "source": []
  }
 ],
 "metadata": {
  "kernelspec": {
   "display_name": "Python 3 (ipykernel)",
   "language": "python",
   "name": "python3"
  },
  "language_info": {
   "codemirror_mode": {
    "name": "ipython",
    "version": 3
   },
   "file_extension": ".py",
   "mimetype": "text/x-python",
   "name": "python",
   "nbconvert_exporter": "python",
   "pygments_lexer": "ipython3",
   "version": "3.9.7"
  },
  "toc": {
   "base_numbering": 1,
   "nav_menu": {},
   "number_sections": true,
   "sideBar": true,
   "skip_h1_title": false,
   "title_cell": "Table of Contents",
   "title_sidebar": "Contents",
   "toc_cell": false,
   "toc_position": {},
   "toc_section_display": true,
   "toc_window_display": true
  }
 },
 "nbformat": 4,
 "nbformat_minor": 5
}
