{
 "cells": [
  {
   "cell_type": "markdown",
   "id": "0d3cc187",
   "metadata": {
    "ExecuteTime": {
     "end_time": "2022-07-01T13:53:55.385014Z",
     "start_time": "2022-07-01T13:53:55.379545Z"
    }
   },
   "source": [
    "# Physician Density Prediction Interval\n",
    "\n"
   ]
  },
  {
   "cell_type": "markdown",
   "id": "7478e422",
   "metadata": {},
   "source": [
    "The goal of this notebook is to compute the estimate of an interval in which a forecasted physician demand will fall, with a specified 95% probability of the prediction lying within the interval.\n",
    "\n",
    "The Regression coefficients of the Physician density Prediction model are found here: https://bmchealthservres.biomedcentral.com/articles/10.1186/1472-6963-12-79/tables/3\n",
    "\n",
    "\n",
    "- Intercept \n",
    "    - 5.014 (2.676, 7.351)\n",
    "- Proportion under age 15 years\n",
    "    - -0.128 (-0.154, -0.102)\n",
    "- Life expectancy (years)\n",
    "    - 0.034 (0.009, 0.059)"
   ]
  },
  {
   "cell_type": "code",
   "execution_count": 1,
   "id": "eef6523b",
   "metadata": {
    "ExecuteTime": {
     "end_time": "2022-07-01T17:40:42.608597Z",
     "start_time": "2022-07-01T17:40:39.801406Z"
    }
   },
   "outputs": [
    {
     "name": "stderr",
     "output_type": "stream",
     "text": [
      "Matplotlib created a temporary config/cache directory at /tmp/matplotlib-9l6no5nj because the default path (/home/jjayme/.cache/matplotlib) is not a writable directory; it is highly recommended to set the MPLCONFIGDIR environment variable to a writable directory, in particular to speed up the import of Matplotlib and to better support multiprocessing.\n"
     ]
    }
   ],
   "source": [
    "import numpy as np\n",
    "import pandas as pd\n",
    "import matplotlib.pyplot as plt"
   ]
  },
  {
   "cell_type": "markdown",
   "id": "d60a92cb",
   "metadata": {},
   "source": [
    "# Get Physician Density Data"
   ]
  },
  {
   "cell_type": "code",
   "execution_count": 2,
   "id": "672a93ee",
   "metadata": {
    "ExecuteTime": {
     "end_time": "2022-07-01T17:40:42.621094Z",
     "start_time": "2022-07-01T17:40:42.611199Z"
    }
   },
   "outputs": [],
   "source": [
    "df = pd.read_csv('data/processed/2010-30_demand_forecast.csv')\n",
    "#clean data\n",
    "df = df.drop(columns='Unnamed: 0', axis=1)"
   ]
  },
  {
   "cell_type": "code",
   "execution_count": 3,
   "id": "a9e0e474",
   "metadata": {
    "ExecuteTime": {
     "end_time": "2022-07-01T17:40:42.641722Z",
     "start_time": "2022-07-01T17:40:42.622931Z"
    }
   },
   "outputs": [
    {
     "data": {
      "text/html": [
       "<div>\n",
       "<style scoped>\n",
       "    .dataframe tbody tr th:only-of-type {\n",
       "        vertical-align: middle;\n",
       "    }\n",
       "\n",
       "    .dataframe tbody tr th {\n",
       "        vertical-align: top;\n",
       "    }\n",
       "\n",
       "    .dataframe thead th {\n",
       "        text-align: right;\n",
       "    }\n",
       "</style>\n",
       "<table border=\"1\" class=\"dataframe\">\n",
       "  <thead>\n",
       "    <tr style=\"text-align: right;\">\n",
       "      <th></th>\n",
       "      <th>year</th>\n",
       "      <th>Region</th>\n",
       "      <th>population</th>\n",
       "      <th>mortality_rate_100k</th>\n",
       "      <th>rGDP</th>\n",
       "      <th>proportion_under15</th>\n",
       "      <th>proportion_over60</th>\n",
       "      <th>life_expectancy</th>\n",
       "      <th>infant_death_rate_per100k</th>\n",
       "      <th>maternal_death_rate_per100k</th>\n",
       "      <th>population_density</th>\n",
       "      <th>WHO_PD</th>\n",
       "      <th>PD</th>\n",
       "    </tr>\n",
       "  </thead>\n",
       "  <tbody>\n",
       "    <tr>\n",
       "      <th>0</th>\n",
       "      <td>2010</td>\n",
       "      <td>NCR</td>\n",
       "      <td>11855975</td>\n",
       "      <td>578.265389</td>\n",
       "      <td>3.053160e+09</td>\n",
       "      <td>28.981229</td>\n",
       "      <td>5.759915</td>\n",
       "      <td>71.019294</td>\n",
       "      <td>1841.755959</td>\n",
       "      <td>88.105727</td>\n",
       "      <td>19136.0</td>\n",
       "      <td>10</td>\n",
       "      <td>13.831397</td>\n",
       "    </tr>\n",
       "    <tr>\n",
       "      <th>1</th>\n",
       "      <td>2011</td>\n",
       "      <td>NCR</td>\n",
       "      <td>12056622</td>\n",
       "      <td>568.069554</td>\n",
       "      <td>3.237139e+09</td>\n",
       "      <td>28.597401</td>\n",
       "      <td>5.940837</td>\n",
       "      <td>71.259294</td>\n",
       "      <td>1821.869754</td>\n",
       "      <td>66.257200</td>\n",
       "      <td>19460.0</td>\n",
       "      <td>10</td>\n",
       "      <td>14.260810</td>\n",
       "    </tr>\n",
       "    <tr>\n",
       "      <th>2</th>\n",
       "      <td>2012</td>\n",
       "      <td>NCR</td>\n",
       "      <td>12257269</td>\n",
       "      <td>571.236527</td>\n",
       "      <td>3.553089e+09</td>\n",
       "      <td>28.225682</td>\n",
       "      <td>6.116051</td>\n",
       "      <td>71.499294</td>\n",
       "      <td>1838.911067</td>\n",
       "      <td>61.944825</td>\n",
       "      <td>19784.0</td>\n",
       "      <td>10</td>\n",
       "      <td>14.684904</td>\n",
       "    </tr>\n",
       "    <tr>\n",
       "      <th>3</th>\n",
       "      <td>2013</td>\n",
       "      <td>NCR</td>\n",
       "      <td>12457916</td>\n",
       "      <td>570.320081</td>\n",
       "      <td>3.890702e+09</td>\n",
       "      <td>27.865508</td>\n",
       "      <td>6.285823</td>\n",
       "      <td>71.739294</td>\n",
       "      <td>1818.360930</td>\n",
       "      <td>89.481418</td>\n",
       "      <td>20108.0</td>\n",
       "      <td>10</td>\n",
       "      <td>15.103724</td>\n",
       "    </tr>\n",
       "    <tr>\n",
       "      <th>4</th>\n",
       "      <td>2014</td>\n",
       "      <td>NCR</td>\n",
       "      <td>12658563</td>\n",
       "      <td>570.641355</td>\n",
       "      <td>4.215201e+09</td>\n",
       "      <td>27.516350</td>\n",
       "      <td>6.450403</td>\n",
       "      <td>71.979294</td>\n",
       "      <td>1787.799913</td>\n",
       "      <td>88.013481</td>\n",
       "      <td>20432.0</td>\n",
       "      <td>10</td>\n",
       "      <td>15.517322</td>\n",
       "    </tr>\n",
       "  </tbody>\n",
       "</table>\n",
       "</div>"
      ],
      "text/plain": [
       "   year Region  population  mortality_rate_100k          rGDP  \\\n",
       "0  2010    NCR    11855975           578.265389  3.053160e+09   \n",
       "1  2011    NCR    12056622           568.069554  3.237139e+09   \n",
       "2  2012    NCR    12257269           571.236527  3.553089e+09   \n",
       "3  2013    NCR    12457916           570.320081  3.890702e+09   \n",
       "4  2014    NCR    12658563           570.641355  4.215201e+09   \n",
       "\n",
       "   proportion_under15  proportion_over60  life_expectancy  \\\n",
       "0           28.981229           5.759915        71.019294   \n",
       "1           28.597401           5.940837        71.259294   \n",
       "2           28.225682           6.116051        71.499294   \n",
       "3           27.865508           6.285823        71.739294   \n",
       "4           27.516350           6.450403        71.979294   \n",
       "\n",
       "   infant_death_rate_per100k  maternal_death_rate_per100k  population_density  \\\n",
       "0                1841.755959                    88.105727             19136.0   \n",
       "1                1821.869754                    66.257200             19460.0   \n",
       "2                1838.911067                    61.944825             19784.0   \n",
       "3                1818.360930                    89.481418             20108.0   \n",
       "4                1787.799913                    88.013481             20432.0   \n",
       "\n",
       "   WHO_PD         PD  \n",
       "0      10  13.831397  \n",
       "1      10  14.260810  \n",
       "2      10  14.684904  \n",
       "3      10  15.103724  \n",
       "4      10  15.517322  "
      ]
     },
     "execution_count": 3,
     "metadata": {},
     "output_type": "execute_result"
    }
   ],
   "source": [
    "df.head()"
   ]
  },
  {
   "cell_type": "code",
   "execution_count": 4,
   "id": "94f55fe6",
   "metadata": {
    "ExecuteTime": {
     "end_time": "2022-07-01T17:40:42.647984Z",
     "start_time": "2022-07-01T17:40:42.644101Z"
    }
   },
   "outputs": [
    {
     "data": {
      "text/plain": [
       "Index(['year', 'Region', 'population', 'mortality_rate_100k', 'rGDP',\n",
       "       'proportion_under15', 'proportion_over60', 'life_expectancy',\n",
       "       'infant_death_rate_per100k', 'maternal_death_rate_per100k',\n",
       "       'population_density', 'WHO_PD', 'PD'],\n",
       "      dtype='object')"
      ]
     },
     "execution_count": 4,
     "metadata": {},
     "output_type": "execute_result"
    }
   ],
   "source": [
    "df.columns"
   ]
  },
  {
   "cell_type": "markdown",
   "id": "fa3944ae",
   "metadata": {},
   "source": [
    "# Compute the standard deviation"
   ]
  },
  {
   "cell_type": "code",
   "execution_count": 5,
   "id": "325ba602",
   "metadata": {
    "ExecuteTime": {
     "end_time": "2022-07-01T17:40:42.653550Z",
     "start_time": "2022-07-01T17:40:42.650652Z"
    }
   },
   "outputs": [],
   "source": [
    "def get_std_devs(mu, lower_bound):\n",
    "    std_lower = (mu - lower_bound)/1.96\n",
    "    return std_lower"
   ]
  },
  {
   "cell_type": "code",
   "execution_count": 6,
   "id": "3561e004",
   "metadata": {
    "ExecuteTime": {
     "end_time": "2022-07-01T17:40:42.661595Z",
     "start_time": "2022-07-01T17:40:42.656482Z"
    }
   },
   "outputs": [],
   "source": [
    "# compute standard deviation\n",
    "stdL_intercept = get_std_devs(mu=5.014, lower_bound=2.676)                               \n",
    "stdL_prop15 = get_std_devs(mu=-0.128, lower_bound=-0.154)\n",
    "stdL_lifeExp = get_std_devs(mu=0.034,lower_bound=0.009)"
   ]
  },
  {
   "cell_type": "code",
   "execution_count": 7,
   "id": "2bd200e4",
   "metadata": {
    "ExecuteTime": {
     "end_time": "2022-07-01T17:40:42.674857Z",
     "start_time": "2022-07-01T17:40:42.663952Z"
    }
   },
   "outputs": [
    {
     "data": {
      "text/html": [
       "<div>\n",
       "<style scoped>\n",
       "    .dataframe tbody tr th:only-of-type {\n",
       "        vertical-align: middle;\n",
       "    }\n",
       "\n",
       "    .dataframe tbody tr th {\n",
       "        vertical-align: top;\n",
       "    }\n",
       "\n",
       "    .dataframe thead th {\n",
       "        text-align: right;\n",
       "    }\n",
       "</style>\n",
       "<table border=\"1\" class=\"dataframe\">\n",
       "  <thead>\n",
       "    <tr style=\"text-align: right;\">\n",
       "      <th></th>\n",
       "      <th>year</th>\n",
       "      <th>Region</th>\n",
       "      <th>proportion_under15</th>\n",
       "      <th>life_expectancy</th>\n",
       "      <th>PD</th>\n",
       "    </tr>\n",
       "  </thead>\n",
       "  <tbody>\n",
       "    <tr>\n",
       "      <th>0</th>\n",
       "      <td>2010</td>\n",
       "      <td>NCR</td>\n",
       "      <td>28.981229</td>\n",
       "      <td>71.019294</td>\n",
       "      <td>13.831397</td>\n",
       "    </tr>\n",
       "    <tr>\n",
       "      <th>1</th>\n",
       "      <td>2011</td>\n",
       "      <td>NCR</td>\n",
       "      <td>28.597401</td>\n",
       "      <td>71.259294</td>\n",
       "      <td>14.260810</td>\n",
       "    </tr>\n",
       "    <tr>\n",
       "      <th>2</th>\n",
       "      <td>2012</td>\n",
       "      <td>NCR</td>\n",
       "      <td>28.225682</td>\n",
       "      <td>71.499294</td>\n",
       "      <td>14.684904</td>\n",
       "    </tr>\n",
       "    <tr>\n",
       "      <th>3</th>\n",
       "      <td>2013</td>\n",
       "      <td>NCR</td>\n",
       "      <td>27.865508</td>\n",
       "      <td>71.739294</td>\n",
       "      <td>15.103724</td>\n",
       "    </tr>\n",
       "    <tr>\n",
       "      <th>4</th>\n",
       "      <td>2014</td>\n",
       "      <td>NCR</td>\n",
       "      <td>27.516350</td>\n",
       "      <td>71.979294</td>\n",
       "      <td>15.517322</td>\n",
       "    </tr>\n",
       "  </tbody>\n",
       "</table>\n",
       "</div>"
      ],
      "text/plain": [
       "   year Region  proportion_under15  life_expectancy         PD\n",
       "0  2010    NCR           28.981229        71.019294  13.831397\n",
       "1  2011    NCR           28.597401        71.259294  14.260810\n",
       "2  2012    NCR           28.225682        71.499294  14.684904\n",
       "3  2013    NCR           27.865508        71.739294  15.103724\n",
       "4  2014    NCR           27.516350        71.979294  15.517322"
      ]
     },
     "execution_count": 7,
     "metadata": {},
     "output_type": "execute_result"
    }
   ],
   "source": [
    "df1 = df[['year', 'Region', 'proportion_under15', 'life_expectancy', 'PD']]\n",
    "df1.head()"
   ]
  },
  {
   "cell_type": "markdown",
   "id": "5c3193a4",
   "metadata": {},
   "source": [
    "# Implement Monte-Carlo Simulations"
   ]
  },
  {
   "cell_type": "code",
   "execution_count": 8,
   "id": "209c596b",
   "metadata": {
    "ExecuteTime": {
     "end_time": "2022-07-01T17:40:42.686333Z",
     "start_time": "2022-07-01T17:40:42.676767Z"
    }
   },
   "outputs": [],
   "source": [
    "def simulate_realizations(df, region, year, n):\n",
    "    \"\"\"Return physician densities from N Monte carlo simulations.\"\"\"\n",
    "    \n",
    "    df_ = df[(df['Region'] == region) & (df['year']==year)]\n",
    "    prop15 = df_['proportion_under15'].values[0]\n",
    "    lifeExp = df_['life_expectancy'].values[0]\n",
    "    \n",
    "    PD_values = []\n",
    "    coef_i = []\n",
    "    coef_prop = []\n",
    "    coef_life = []\n",
    "    \n",
    "    for i in range(n):\n",
    "        coef_intercept = np.random.normal(loc=5.014 ,scale=stdL_intercept)\n",
    "        coef_prop15 = np.random.normal(loc=-0.128,scale=stdL_prop15)\n",
    "        coef_lifeExp = np.random.normal(loc=0.034,scale=stdL_lifeExp)\n",
    "        \n",
    "        PD = (coef_intercept + (coef_prop15*prop15) + (coef_lifeExp*lifeExp))**2\n",
    "        PD_values.append(PD)\n",
    "        coef_i.append(coef_intercept)\n",
    "        coef_prop.append(coef_prop15)\n",
    "        coef_life.append(coef_lifeExp)\n",
    "    return PD_values,\n",
    "\n",
    "def concatenated_df(df, n=10):\n",
    "    \"\"\"Return the concatenated dataframes.\"\"\"\n",
    "    \n",
    "    df_all = pd.DataFrame()\n",
    "    df_all['year'] = np.nan\n",
    "    df_all['Region'] = np.nan\n",
    "\n",
    "    for year in df.year.unique():\n",
    "        for region in df.Region.unique():\n",
    "            df_dummy = pd.DataFrame()\n",
    "            df_dummy['year'] = [year]\n",
    "            df_dummy['Region'] = [region]\n",
    "            df_dummy['PD_values'] = [simulate_realizations(df, region, year,\n",
    "                                                           n)]\n",
    "            df_all = pd.concat([df_all, df_dummy]).reset_index(drop=True)\n",
    "    return df_all"
   ]
  },
  {
   "cell_type": "code",
   "execution_count": 9,
   "id": "1e479f3f",
   "metadata": {
    "ExecuteTime": {
     "end_time": "2022-07-01T17:40:47.582569Z",
     "start_time": "2022-07-01T17:40:42.688331Z"
    }
   },
   "outputs": [],
   "source": [
    "# apply monte carlo simulation with 1000 realizations\n",
    "df_new = concatenated_df(df1, n=1000)"
   ]
  },
  {
   "cell_type": "code",
   "execution_count": 10,
   "id": "250d42c6",
   "metadata": {
    "ExecuteTime": {
     "end_time": "2022-07-01T17:40:47.610162Z",
     "start_time": "2022-07-01T17:40:47.584990Z"
    }
   },
   "outputs": [
    {
     "data": {
      "text/html": [
       "<div>\n",
       "<style scoped>\n",
       "    .dataframe tbody tr th:only-of-type {\n",
       "        vertical-align: middle;\n",
       "    }\n",
       "\n",
       "    .dataframe tbody tr th {\n",
       "        vertical-align: top;\n",
       "    }\n",
       "\n",
       "    .dataframe thead th {\n",
       "        text-align: right;\n",
       "    }\n",
       "</style>\n",
       "<table border=\"1\" class=\"dataframe\">\n",
       "  <thead>\n",
       "    <tr style=\"text-align: right;\">\n",
       "      <th></th>\n",
       "      <th>year</th>\n",
       "      <th>Region</th>\n",
       "      <th>proportion_under15</th>\n",
       "      <th>life_expectancy</th>\n",
       "      <th>PD</th>\n",
       "      <th>PD_values</th>\n",
       "    </tr>\n",
       "  </thead>\n",
       "  <tbody>\n",
       "    <tr>\n",
       "      <th>0</th>\n",
       "      <td>2010</td>\n",
       "      <td>NCR</td>\n",
       "      <td>28.981229</td>\n",
       "      <td>71.019294</td>\n",
       "      <td>13.831397</td>\n",
       "      <td>([18.070091808301843, 38.811868606766616, 3.29...</td>\n",
       "    </tr>\n",
       "    <tr>\n",
       "      <th>1</th>\n",
       "      <td>2011</td>\n",
       "      <td>NCR</td>\n",
       "      <td>28.597401</td>\n",
       "      <td>71.259294</td>\n",
       "      <td>14.260810</td>\n",
       "      <td>([16.663220201689096, 15.704114800260417, 13.2...</td>\n",
       "    </tr>\n",
       "    <tr>\n",
       "      <th>2</th>\n",
       "      <td>2012</td>\n",
       "      <td>NCR</td>\n",
       "      <td>28.225682</td>\n",
       "      <td>71.499294</td>\n",
       "      <td>14.684904</td>\n",
       "      <td>([34.998754936444676, 28.550028825340224, 19.3...</td>\n",
       "    </tr>\n",
       "    <tr>\n",
       "      <th>3</th>\n",
       "      <td>2013</td>\n",
       "      <td>NCR</td>\n",
       "      <td>27.865508</td>\n",
       "      <td>71.739294</td>\n",
       "      <td>15.103724</td>\n",
       "      <td>([11.447405941107355, 13.590581744253361, 23.5...</td>\n",
       "    </tr>\n",
       "    <tr>\n",
       "      <th>4</th>\n",
       "      <td>2014</td>\n",
       "      <td>NCR</td>\n",
       "      <td>27.516350</td>\n",
       "      <td>71.979294</td>\n",
       "      <td>15.517322</td>\n",
       "      <td>([34.56603235977272, 12.444070971938608, 16.97...</td>\n",
       "    </tr>\n",
       "  </tbody>\n",
       "</table>\n",
       "</div>"
      ],
      "text/plain": [
       "   year Region  proportion_under15  life_expectancy         PD  \\\n",
       "0  2010    NCR           28.981229        71.019294  13.831397   \n",
       "1  2011    NCR           28.597401        71.259294  14.260810   \n",
       "2  2012    NCR           28.225682        71.499294  14.684904   \n",
       "3  2013    NCR           27.865508        71.739294  15.103724   \n",
       "4  2014    NCR           27.516350        71.979294  15.517322   \n",
       "\n",
       "                                           PD_values  \n",
       "0  ([18.070091808301843, 38.811868606766616, 3.29...  \n",
       "1  ([16.663220201689096, 15.704114800260417, 13.2...  \n",
       "2  ([34.998754936444676, 28.550028825340224, 19.3...  \n",
       "3  ([11.447405941107355, 13.590581744253361, 23.5...  \n",
       "4  ([34.56603235977272, 12.444070971938608, 16.97...  "
      ]
     },
     "execution_count": 10,
     "metadata": {},
     "output_type": "execute_result"
    }
   ],
   "source": [
    "# merge datasets \n",
    "df2 = df1.merge(df_new, on=['year', 'Region'])\n",
    "df2.head()"
   ]
  },
  {
   "cell_type": "code",
   "execution_count": 11,
   "id": "43bed10e",
   "metadata": {
    "ExecuteTime": {
     "end_time": "2022-07-01T17:40:47.680572Z",
     "start_time": "2022-07-01T17:40:47.612229Z"
    }
   },
   "outputs": [],
   "source": [
    "# remove brackets from PD_values (Physician densities)\n",
    "df2['PD_values'] = df2['PD_values'].apply(lambda x: list(x)[0])\n",
    "\n",
    "# compute variance of PD for the 1000 realizations\n",
    "df2['variance'] = df2['PD_values'].apply(lambda x: np.var(x))\n",
    "\n",
    "# compute the mean physician density for the 1000 realizations\n",
    "df2['mean_PD'] = df2['PD_values'].apply(lambda x: np.mean(x))"
   ]
  },
  {
   "cell_type": "code",
   "execution_count": 12,
   "id": "707de253",
   "metadata": {
    "ExecuteTime": {
     "end_time": "2022-07-01T17:40:47.883873Z",
     "start_time": "2022-07-01T17:40:47.682435Z"
    }
   },
   "outputs": [
    {
     "data": {
      "text/plain": [
       "(array([307., 311., 191., 100.,  55.,  21.,   6.,   7.,   1.,   1.]),\n",
       " array([7.92865253e-09, 8.61473205e+00, 1.72294641e+01, 2.58441961e+01,\n",
       "        3.44589282e+01, 4.30736602e+01, 5.16883922e+01, 6.03031243e+01,\n",
       "        6.89178563e+01, 7.75325884e+01, 8.61473204e+01]),\n",
       " <BarContainer object of 10 artists>)"
      ]
     },
     "execution_count": 12,
     "metadata": {},
     "output_type": "execute_result"
    },
    {
     "data": {
      "image/png": "[encoded data removed]",
      "text/plain": [
       "<Figure size 432x288 with 1 Axes>"
      ]
     },
     "metadata": {
      "needs_background": "light"
     },
     "output_type": "display_data"
    }
   ],
   "source": [
    "# plot histogram of Physician densities\n",
    "plt.hist(df2.iloc[0]['PD_values'])"
   ]
  },
  {
   "cell_type": "code",
   "execution_count": 13,
   "id": "0b5494e5",
   "metadata": {
    "ExecuteTime": {
     "end_time": "2022-07-01T17:40:47.902100Z",
     "start_time": "2022-07-01T17:40:47.886058Z"
    }
   },
   "outputs": [
    {
     "data": {
      "text/html": [
       "<div>\n",
       "<style scoped>\n",
       "    .dataframe tbody tr th:only-of-type {\n",
       "        vertical-align: middle;\n",
       "    }\n",
       "\n",
       "    .dataframe tbody tr th {\n",
       "        vertical-align: top;\n",
       "    }\n",
       "\n",
       "    .dataframe thead th {\n",
       "        text-align: right;\n",
       "    }\n",
       "</style>\n",
       "<table border=\"1\" class=\"dataframe\">\n",
       "  <thead>\n",
       "    <tr style=\"text-align: right;\">\n",
       "      <th></th>\n",
       "      <th>year</th>\n",
       "      <th>Region</th>\n",
       "      <th>PD</th>\n",
       "      <th>mean_PD</th>\n",
       "      <th>variance</th>\n",
       "    </tr>\n",
       "  </thead>\n",
       "  <tbody>\n",
       "    <tr>\n",
       "      <th>0</th>\n",
       "      <td>2010</td>\n",
       "      <td>NCR</td>\n",
       "      <td>13.831397</td>\n",
       "      <td>16.277793</td>\n",
       "      <td>155.105627</td>\n",
       "    </tr>\n",
       "    <tr>\n",
       "      <th>1</th>\n",
       "      <td>2011</td>\n",
       "      <td>NCR</td>\n",
       "      <td>14.260810</td>\n",
       "      <td>16.188730</td>\n",
       "      <td>145.592007</td>\n",
       "    </tr>\n",
       "    <tr>\n",
       "      <th>2</th>\n",
       "      <td>2012</td>\n",
       "      <td>NCR</td>\n",
       "      <td>14.684904</td>\n",
       "      <td>17.546783</td>\n",
       "      <td>156.435266</td>\n",
       "    </tr>\n",
       "    <tr>\n",
       "      <th>3</th>\n",
       "      <td>2013</td>\n",
       "      <td>NCR</td>\n",
       "      <td>15.103724</td>\n",
       "      <td>17.394578</td>\n",
       "      <td>159.004755</td>\n",
       "    </tr>\n",
       "    <tr>\n",
       "      <th>4</th>\n",
       "      <td>2014</td>\n",
       "      <td>NCR</td>\n",
       "      <td>15.517322</td>\n",
       "      <td>18.078835</td>\n",
       "      <td>165.642018</td>\n",
       "    </tr>\n",
       "    <tr>\n",
       "      <th>...</th>\n",
       "      <td>...</td>\n",
       "      <td>...</td>\n",
       "      <td>...</td>\n",
       "      <td>...</td>\n",
       "      <td>...</td>\n",
       "    </tr>\n",
       "    <tr>\n",
       "      <th>352</th>\n",
       "      <td>2026</td>\n",
       "      <td>BARMM</td>\n",
       "      <td>6.850954</td>\n",
       "      <td>9.297087</td>\n",
       "      <td>75.165662</td>\n",
       "    </tr>\n",
       "    <tr>\n",
       "      <th>353</th>\n",
       "      <td>2027</td>\n",
       "      <td>BARMM</td>\n",
       "      <td>7.187704</td>\n",
       "      <td>9.470876</td>\n",
       "      <td>78.033332</td>\n",
       "    </tr>\n",
       "    <tr>\n",
       "      <th>354</th>\n",
       "      <td>2028</td>\n",
       "      <td>BARMM</td>\n",
       "      <td>7.518603</td>\n",
       "      <td>9.934351</td>\n",
       "      <td>79.395374</td>\n",
       "    </tr>\n",
       "    <tr>\n",
       "      <th>355</th>\n",
       "      <td>2029</td>\n",
       "      <td>BARMM</td>\n",
       "      <td>7.843745</td>\n",
       "      <td>10.029064</td>\n",
       "      <td>82.261886</td>\n",
       "    </tr>\n",
       "    <tr>\n",
       "      <th>356</th>\n",
       "      <td>2030</td>\n",
       "      <td>BARMM</td>\n",
       "      <td>8.163247</td>\n",
       "      <td>9.907997</td>\n",
       "      <td>89.822072</td>\n",
       "    </tr>\n",
       "  </tbody>\n",
       "</table>\n",
       "<p>357 rows × 5 columns</p>\n",
       "</div>"
      ],
      "text/plain": [
       "     year Region         PD    mean_PD    variance\n",
       "0    2010    NCR  13.831397  16.277793  155.105627\n",
       "1    2011    NCR  14.260810  16.188730  145.592007\n",
       "2    2012    NCR  14.684904  17.546783  156.435266\n",
       "3    2013    NCR  15.103724  17.394578  159.004755\n",
       "4    2014    NCR  15.517322  18.078835  165.642018\n",
       "..    ...    ...        ...        ...         ...\n",
       "352  2026  BARMM   6.850954   9.297087   75.165662\n",
       "353  2027  BARMM   7.187704   9.470876   78.033332\n",
       "354  2028  BARMM   7.518603   9.934351   79.395374\n",
       "355  2029  BARMM   7.843745  10.029064   82.261886\n",
       "356  2030  BARMM   8.163247   9.907997   89.822072\n",
       "\n",
       "[357 rows x 5 columns]"
      ]
     },
     "execution_count": 13,
     "metadata": {},
     "output_type": "execute_result"
    }
   ],
   "source": [
    "df2[['year', 'Region', 'PD', 'mean_PD', 'variance']]"
   ]
  },
  {
   "cell_type": "markdown",
   "id": "2aaaae3c",
   "metadata": {},
   "source": [
    "## Compute 95% Prediction interval"
   ]
  },
  {
   "cell_type": "markdown",
   "id": "5bbd0ee8",
   "metadata": {},
   "source": [
    "*The histogram shows non-normal PD values. We applied Log transformation to construct non-normal data as “normal*"
   ]
  },
  {
   "cell_type": "code",
   "execution_count": 14,
   "id": "081c4d0e",
   "metadata": {
    "ExecuteTime": {
     "end_time": "2022-07-01T17:40:47.917266Z",
     "start_time": "2022-07-01T17:40:47.905703Z"
    }
   },
   "outputs": [],
   "source": [
    "df2['var_logT'] = df2.apply(lambda x: np.log(1 + (x['variance']/(x['mean_PD']**2))), axis=1)"
   ]
  },
  {
   "cell_type": "code",
   "execution_count": 15,
   "id": "992b8cae",
   "metadata": {
    "ExecuteTime": {
     "end_time": "2022-07-01T17:40:47.929510Z",
     "start_time": "2022-07-01T17:40:47.919227Z"
    }
   },
   "outputs": [],
   "source": [
    "# compute confidence interval\n",
    "df2['CI'] = df2.apply(lambda x: np.exp(1.96*x['var_logT']), axis=1)"
   ]
  },
  {
   "cell_type": "code",
   "execution_count": 16,
   "id": "574e3233",
   "metadata": {
    "ExecuteTime": {
     "end_time": "2022-07-01T17:40:47.949055Z",
     "start_time": "2022-07-01T17:40:47.931592Z"
    }
   },
   "outputs": [],
   "source": [
    "# compute lower and upper bound\n",
    "df2['lower_bound'] = df2.apply(lambda x: x['mean_PD']/x['CI'], axis=1)\n",
    "df2['upper_bound'] = df2.apply(lambda x: x['mean_PD']*x['CI'], axis=1)"
   ]
  },
  {
   "cell_type": "code",
   "execution_count": 17,
   "id": "ba173b04",
   "metadata": {
    "ExecuteTime": {
     "end_time": "2022-07-01T17:40:47.966495Z",
     "start_time": "2022-07-01T17:40:47.950942Z"
    }
   },
   "outputs": [
    {
     "data": {
      "text/html": [
       "<div>\n",
       "<style scoped>\n",
       "    .dataframe tbody tr th:only-of-type {\n",
       "        vertical-align: middle;\n",
       "    }\n",
       "\n",
       "    .dataframe tbody tr th {\n",
       "        vertical-align: top;\n",
       "    }\n",
       "\n",
       "    .dataframe thead th {\n",
       "        text-align: right;\n",
       "    }\n",
       "</style>\n",
       "<table border=\"1\" class=\"dataframe\">\n",
       "  <thead>\n",
       "    <tr style=\"text-align: right;\">\n",
       "      <th></th>\n",
       "      <th>year</th>\n",
       "      <th>Region</th>\n",
       "      <th>PD</th>\n",
       "      <th>lower_bound</th>\n",
       "      <th>upper_bound</th>\n",
       "    </tr>\n",
       "  </thead>\n",
       "  <tbody>\n",
       "    <tr>\n",
       "      <th>12</th>\n",
       "      <td>2022</td>\n",
       "      <td>NCR</td>\n",
       "      <td>17.416605</td>\n",
       "      <td>9.619166</td>\n",
       "      <td>40.334751</td>\n",
       "    </tr>\n",
       "    <tr>\n",
       "      <th>13</th>\n",
       "      <td>2023</td>\n",
       "      <td>NCR</td>\n",
       "      <td>17.632299</td>\n",
       "      <td>9.516841</td>\n",
       "      <td>43.198072</td>\n",
       "    </tr>\n",
       "    <tr>\n",
       "      <th>14</th>\n",
       "      <td>2024</td>\n",
       "      <td>NCR</td>\n",
       "      <td>17.850039</td>\n",
       "      <td>9.294360</td>\n",
       "      <td>42.995628</td>\n",
       "    </tr>\n",
       "    <tr>\n",
       "      <th>15</th>\n",
       "      <td>2025</td>\n",
       "      <td>NCR</td>\n",
       "      <td>18.068942</td>\n",
       "      <td>9.546800</td>\n",
       "      <td>45.184768</td>\n",
       "    </tr>\n",
       "    <tr>\n",
       "      <th>16</th>\n",
       "      <td>2026</td>\n",
       "      <td>NCR</td>\n",
       "      <td>18.770631</td>\n",
       "      <td>11.250718</td>\n",
       "      <td>41.880797</td>\n",
       "    </tr>\n",
       "    <tr>\n",
       "      <th>...</th>\n",
       "      <td>...</td>\n",
       "      <td>...</td>\n",
       "      <td>...</td>\n",
       "      <td>...</td>\n",
       "      <td>...</td>\n",
       "    </tr>\n",
       "    <tr>\n",
       "      <th>352</th>\n",
       "      <td>2026</td>\n",
       "      <td>BARMM</td>\n",
       "      <td>6.850954</td>\n",
       "      <td>2.727180</td>\n",
       "      <td>31.694214</td>\n",
       "    </tr>\n",
       "    <tr>\n",
       "      <th>353</th>\n",
       "      <td>2027</td>\n",
       "      <td>BARMM</td>\n",
       "      <td>7.187704</td>\n",
       "      <td>2.777143</td>\n",
       "      <td>32.298475</td>\n",
       "    </tr>\n",
       "    <tr>\n",
       "      <th>354</th>\n",
       "      <td>2028</td>\n",
       "      <td>BARMM</td>\n",
       "      <td>7.518603</td>\n",
       "      <td>3.123839</td>\n",
       "      <td>31.592966</td>\n",
       "    </tr>\n",
       "    <tr>\n",
       "      <th>355</th>\n",
       "      <td>2029</td>\n",
       "      <td>BARMM</td>\n",
       "      <td>7.843745</td>\n",
       "      <td>3.108300</td>\n",
       "      <td>32.359208</td>\n",
       "    </tr>\n",
       "    <tr>\n",
       "      <th>356</th>\n",
       "      <td>2030</td>\n",
       "      <td>BARMM</td>\n",
       "      <td>8.163247</td>\n",
       "      <td>2.772963</td>\n",
       "      <td>35.401980</td>\n",
       "    </tr>\n",
       "  </tbody>\n",
       "</table>\n",
       "<p>153 rows × 5 columns</p>\n",
       "</div>"
      ],
      "text/plain": [
       "     year Region         PD  lower_bound  upper_bound\n",
       "12   2022    NCR  17.416605     9.619166    40.334751\n",
       "13   2023    NCR  17.632299     9.516841    43.198072\n",
       "14   2024    NCR  17.850039     9.294360    42.995628\n",
       "15   2025    NCR  18.068942     9.546800    45.184768\n",
       "16   2026    NCR  18.770631    11.250718    41.880797\n",
       "..    ...    ...        ...          ...          ...\n",
       "352  2026  BARMM   6.850954     2.727180    31.694214\n",
       "353  2027  BARMM   7.187704     2.777143    32.298475\n",
       "354  2028  BARMM   7.518603     3.123839    31.592966\n",
       "355  2029  BARMM   7.843745     3.108300    32.359208\n",
       "356  2030  BARMM   8.163247     2.772963    35.401980\n",
       "\n",
       "[153 rows x 5 columns]"
      ]
     },
     "execution_count": 17,
     "metadata": {},
     "output_type": "execute_result"
    }
   ],
   "source": [
    "df2[df2['year'] > 2021][['year', 'Region', 'PD', 'lower_bound', 'upper_bound']]"
   ]
  },
  {
   "cell_type": "code",
   "execution_count": 18,
   "id": "72525a38",
   "metadata": {
    "ExecuteTime": {
     "end_time": "2022-07-01T17:40:47.977089Z",
     "start_time": "2022-07-01T17:40:47.968410Z"
    }
   },
   "outputs": [],
   "source": [
    "# save dataset\n",
    "df2[df2['year'] > 2021][['year', 'Region', 'PD', 'lower_bound', \n",
    "                'upper_bound']].to_csv('~/cpt5/capstone/data/processed/'\n",
    "                                       '95%_PD_prediction_interval.csv')"
   ]
  },
  {
   "cell_type": "markdown",
   "id": "bb9544a9",
   "metadata": {},
   "source": [
    "## Prettify table"
   ]
  },
  {
   "cell_type": "code",
   "execution_count": 19,
   "id": "6a83a29e",
   "metadata": {
    "ExecuteTime": {
     "end_time": "2022-07-01T17:40:47.983778Z",
     "start_time": "2022-07-01T17:40:47.978958Z"
    }
   },
   "outputs": [],
   "source": [
    "df3 = df2[df2['year'] > 2021][['year', 'Region', 'PD', 'lower_bound', 'upper_bound']]"
   ]
  },
  {
   "cell_type": "code",
   "execution_count": 20,
   "id": "00c87301",
   "metadata": {
    "ExecuteTime": {
     "end_time": "2022-07-01T17:40:47.994637Z",
     "start_time": "2022-07-01T17:40:47.985609Z"
    }
   },
   "outputs": [],
   "source": [
    "df3['PD_bounds'] = df3.apply(lambda x: str(x['PD']) +' ('\n",
    "                                         + str(x['lower_bound'])\n",
    "                                         + ', '\n",
    "                                         + str(x['upper_bound'])\n",
    "                                         + ')', axis=1)"
   ]
  },
  {
   "cell_type": "code",
   "execution_count": 21,
   "id": "488b60af",
   "metadata": {
    "ExecuteTime": {
     "end_time": "2022-07-01T17:40:48.000142Z",
     "start_time": "2022-07-01T17:40:47.996460Z"
    }
   },
   "outputs": [],
   "source": [
    "sorter = ['NCR', 'CAR', 'I - Ilocos', 'II - Cagayan', 'III - C. Luzon',\n",
    "       'IVA - Calabarzon', 'MIMAROPA', 'V - Bicol', 'VI - W. Visayas',\n",
    "       'VII - C. Visayas', 'VIII - E. Visayas', 'IX - Zamboanga',\n",
    "       'X - N. Mindanao', 'XI - Davao', 'XII - SOCCSKSARGEN',\n",
    "       'XIII - Caraga', 'BARMM']"
   ]
  },
  {
   "cell_type": "code",
   "execution_count": 22,
   "id": "57d56d49",
   "metadata": {
    "ExecuteTime": {
     "end_time": "2022-07-01T17:40:48.007028Z",
     "start_time": "2022-07-01T17:40:48.001926Z"
    }
   },
   "outputs": [],
   "source": [
    "sorterIndex = dict(zip(sorter, range(len(sorter))))\n",
    "\n",
    "# Generate a rank column that will be used to sort\n",
    "# the dataframe numerically\n",
    "df3['Rank'] = df3['Region'].map(sorterIndex)"
   ]
  },
  {
   "cell_type": "code",
   "execution_count": 23,
   "id": "697688b5",
   "metadata": {
    "ExecuteTime": {
     "end_time": "2022-07-01T17:40:48.017426Z",
     "start_time": "2022-07-01T17:40:48.008855Z"
    }
   },
   "outputs": [],
   "source": [
    "df3[['year', 'Region', 'PD', 'lower_bound', 'upper_bound', 'PD_bounds']].to_csv('~/cpt5/capstone/data/processed/95%_PD_prediction_interval.csv')"
   ]
  },
  {
   "cell_type": "code",
   "execution_count": 24,
   "id": "0a904b40",
   "metadata": {
    "ExecuteTime": {
     "end_time": "2022-07-01T17:40:48.025363Z",
     "start_time": "2022-07-01T17:40:48.019984Z"
    }
   },
   "outputs": [],
   "source": [
    "df4 = df3.sort_values(by=['year', 'Rank'])[['year', 'Region', 'PD_bounds']]"
   ]
  },
  {
   "cell_type": "code",
   "execution_count": 25,
   "id": "4491f5e2",
   "metadata": {
    "ExecuteTime": {
     "end_time": "2022-07-01T17:40:48.031076Z",
     "start_time": "2022-07-01T17:40:48.027281Z"
    }
   },
   "outputs": [],
   "source": [
    "df4.rename(columns={'PD_bounds': 'PD (95% Confidence Interval)'}, inplace=True)"
   ]
  },
  {
   "cell_type": "code",
   "execution_count": 26,
   "id": "709c8df3",
   "metadata": {
    "ExecuteTime": {
     "end_time": "2022-07-01T17:40:48.044031Z",
     "start_time": "2022-07-01T17:40:48.032945Z"
    }
   },
   "outputs": [
    {
     "data": {
      "text/html": [
       "<div>\n",
       "<style scoped>\n",
       "    .dataframe tbody tr th:only-of-type {\n",
       "        vertical-align: middle;\n",
       "    }\n",
       "\n",
       "    .dataframe tbody tr th {\n",
       "        vertical-align: top;\n",
       "    }\n",
       "\n",
       "    .dataframe thead th {\n",
       "        text-align: right;\n",
       "    }\n",
       "</style>\n",
       "<table border=\"1\" class=\"dataframe\">\n",
       "  <thead>\n",
       "    <tr style=\"text-align: right;\">\n",
       "      <th></th>\n",
       "      <th>year</th>\n",
       "      <th>Region</th>\n",
       "      <th>PD (95% Confidence Interval)</th>\n",
       "    </tr>\n",
       "  </thead>\n",
       "  <tbody>\n",
       "    <tr>\n",
       "      <th>12</th>\n",
       "      <td>2022</td>\n",
       "      <td>NCR</td>\n",
       "      <td>17.416604844380863 (9.619166036319651, 40.3347...</td>\n",
       "    </tr>\n",
       "    <tr>\n",
       "      <th>33</th>\n",
       "      <td>2022</td>\n",
       "      <td>CAR</td>\n",
       "      <td>13.819606610317893 (7.029716359360252, 38.6392...</td>\n",
       "    </tr>\n",
       "    <tr>\n",
       "      <th>54</th>\n",
       "      <td>2022</td>\n",
       "      <td>I - Ilocos</td>\n",
       "      <td>14.794555834618215 (7.437540123962386, 40.7047...</td>\n",
       "    </tr>\n",
       "    <tr>\n",
       "      <th>75</th>\n",
       "      <td>2022</td>\n",
       "      <td>II - Cagayan</td>\n",
       "      <td>14.078439022829537 (7.09883404828719, 38.98104...</td>\n",
       "    </tr>\n",
       "    <tr>\n",
       "      <th>96</th>\n",
       "      <td>2022</td>\n",
       "      <td>III - C. Luzon</td>\n",
       "      <td>16.30024869924933 (8.237189966908192, 39.93195...</td>\n",
       "    </tr>\n",
       "    <tr>\n",
       "      <th>...</th>\n",
       "      <td>...</td>\n",
       "      <td>...</td>\n",
       "      <td>...</td>\n",
       "    </tr>\n",
       "    <tr>\n",
       "      <th>272</th>\n",
       "      <td>2030</td>\n",
       "      <td>X - N. Mindanao</td>\n",
       "      <td>16.690596946782147 (9.306183676488146, 41.3971...</td>\n",
       "    </tr>\n",
       "    <tr>\n",
       "      <th>293</th>\n",
       "      <td>2030</td>\n",
       "      <td>XI - Davao</td>\n",
       "      <td>15.734746091433074 (8.3068841319481, 40.086145...</td>\n",
       "    </tr>\n",
       "    <tr>\n",
       "      <th>314</th>\n",
       "      <td>2030</td>\n",
       "      <td>XII - SOCCSKSARGEN</td>\n",
       "      <td>15.04064024985038 (7.793789274397353, 38.76333...</td>\n",
       "    </tr>\n",
       "    <tr>\n",
       "      <th>335</th>\n",
       "      <td>2030</td>\n",
       "      <td>XIII - Caraga</td>\n",
       "      <td>13.21022466388646 (5.771194340317726, 41.47417...</td>\n",
       "    </tr>\n",
       "    <tr>\n",
       "      <th>356</th>\n",
       "      <td>2030</td>\n",
       "      <td>BARMM</td>\n",
       "      <td>8.163246980323498 (2.7729634194571755, 35.4019...</td>\n",
       "    </tr>\n",
       "  </tbody>\n",
       "</table>\n",
       "<p>153 rows × 3 columns</p>\n",
       "</div>"
      ],
      "text/plain": [
       "     year              Region  \\\n",
       "12   2022                 NCR   \n",
       "33   2022                 CAR   \n",
       "54   2022          I - Ilocos   \n",
       "75   2022        II - Cagayan   \n",
       "96   2022      III - C. Luzon   \n",
       "..    ...                 ...   \n",
       "272  2030     X - N. Mindanao   \n",
       "293  2030          XI - Davao   \n",
       "314  2030  XII - SOCCSKSARGEN   \n",
       "335  2030       XIII - Caraga   \n",
       "356  2030               BARMM   \n",
       "\n",
       "                          PD (95% Confidence Interval)  \n",
       "12   17.416604844380863 (9.619166036319651, 40.3347...  \n",
       "33   13.819606610317893 (7.029716359360252, 38.6392...  \n",
       "54   14.794555834618215 (7.437540123962386, 40.7047...  \n",
       "75   14.078439022829537 (7.09883404828719, 38.98104...  \n",
       "96   16.30024869924933 (8.237189966908192, 39.93195...  \n",
       "..                                                 ...  \n",
       "272  16.690596946782147 (9.306183676488146, 41.3971...  \n",
       "293  15.734746091433074 (8.3068841319481, 40.086145...  \n",
       "314  15.04064024985038 (7.793789274397353, 38.76333...  \n",
       "335  13.21022466388646 (5.771194340317726, 41.47417...  \n",
       "356  8.163246980323498 (2.7729634194571755, 35.4019...  \n",
       "\n",
       "[153 rows x 3 columns]"
      ]
     },
     "execution_count": 26,
     "metadata": {},
     "output_type": "execute_result"
    }
   ],
   "source": [
    "df4"
   ]
  },
  {
   "cell_type": "code",
   "execution_count": 29,
   "id": "5d743dda",
   "metadata": {
    "ExecuteTime": {
     "end_time": "2022-07-01T17:40:49.919186Z",
     "start_time": "2022-07-01T17:40:49.910727Z"
    }
   },
   "outputs": [],
   "source": [
    "df4.to_csv('data/processed/95%_PD_prediction_interval.csv')"
   ]
  },
  {
   "cell_type": "code",
   "execution_count": null,
   "id": "6712711e",
   "metadata": {},
   "outputs": [],
   "source": []
  }
 ],
 "metadata": {
  "kernelspec": {
   "display_name": "Python 3 (ipykernel)",
   "language": "python",
   "name": "python3"
  },
  "language_info": {
   "codemirror_mode": {
    "name": "ipython",
    "version": 3
   },
   "file_extension": ".py",
   "mimetype": "text/x-python",
   "name": "python",
   "nbconvert_exporter": "python",
   "pygments_lexer": "ipython3",
   "version": "3.9.7"
  },
  "toc": {
   "base_numbering": 1,
   "nav_menu": {},
   "number_sections": true,
   "sideBar": true,
   "skip_h1_title": false,
   "title_cell": "Table of Contents",
   "title_sidebar": "Contents",
   "toc_cell": false,
   "toc_position": {},
   "toc_section_display": true,
   "toc_window_display": true
  }
 },
 "nbformat": 4,
 "nbformat_minor": 5
}
