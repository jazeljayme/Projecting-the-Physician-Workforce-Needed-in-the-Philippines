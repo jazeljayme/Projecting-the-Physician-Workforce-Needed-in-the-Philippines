{
 "cells": [
  {
   "cell_type": "markdown",
   "id": "f1640fbc",
   "metadata": {},
   "source": [
    "# Analyzing Physician Demand and Supply Gap\n",
    "\n",
    "The purpose of this notebook is to analyze the Physician supply and demand gap per region.\n",
    "\n",
    "- The pre-processing of physician demand data is found on `09_Physician_Demand_Modeling_FINAL.ipynb`\n",
    "\n",
    "- The pre-processing of physician supply data is found `10_Supply_Forecast_Final_Notebook.ipynb`\n",
    "\n",
    "\n",
    "This notebook includes visualization and maps. "
   ]
  },
  {
   "cell_type": "code",
   "execution_count": 1,
   "id": "ccec68be",
   "metadata": {
    "ExecuteTime": {
     "end_time": "2022-07-01T13:48:26.006225Z",
     "start_time": "2022-07-01T13:48:22.977347Z"
    }
   },
   "outputs": [
    {
     "name": "stderr",
     "output_type": "stream",
     "text": [
      "Matplotlib created a temporary config/cache directory at /tmp/matplotlib-usi05vow because the default path (/home/jjayme/.cache/matplotlib) is not a writable directory; it is highly recommended to set the MPLCONFIGDIR environment variable to a writable directory, in particular to speed up the import of Matplotlib and to better support multiprocessing.\n"
     ]
    }
   ],
   "source": [
    "import pandas as pd\n",
    "import numpy as np\n",
    "import matplotlib.pyplot as plt\n",
    "import seaborn as sns\n",
    "import warnings\n",
    "warnings.filterwarnings(\"ignore\")"
   ]
  },
  {
   "cell_type": "markdown",
   "id": "b9ab16ef",
   "metadata": {},
   "source": [
    "# Get Demand, Supply and Population Data"
   ]
  },
  {
   "cell_type": "code",
   "execution_count": 2,
   "id": "ed426ddd",
   "metadata": {
    "ExecuteTime": {
     "end_time": "2022-07-01T13:48:26.071749Z",
     "start_time": "2022-07-01T13:48:26.008970Z"
    }
   },
   "outputs": [],
   "source": [
    "df_demand = pd.read_csv('~/cpt5/capstone/data/processed/2010-30_demand_'\n",
    "                        'forecast.csv')\n",
    "df_supply = pd.read_csv('~/cpt5/capstone/data/processed/2010-30_regional_'\n",
    "                        'supply_forecasts_final.csv')\n",
    "df_population = pd.read_csv('~/cpt5/capstone/data/processed/2010-30_PSA_'\n",
    "                            'regional_population.csv')"
   ]
  },
  {
   "cell_type": "markdown",
   "id": "e86c348e",
   "metadata": {},
   "source": [
    "## Get 2030 Physician Demand & Supply Gap"
   ]
  },
  {
   "cell_type": "code",
   "execution_count": 3,
   "id": "6dc162a5",
   "metadata": {
    "ExecuteTime": {
     "end_time": "2022-07-01T13:48:26.093045Z",
     "start_time": "2022-07-01T13:48:26.073405Z"
    }
   },
   "outputs": [
    {
     "data": {
      "text/html": [
       "<div>\n",
       "<style scoped>\n",
       "    .dataframe tbody tr th:only-of-type {\n",
       "        vertical-align: middle;\n",
       "    }\n",
       "\n",
       "    .dataframe tbody tr th {\n",
       "        vertical-align: top;\n",
       "    }\n",
       "\n",
       "    .dataframe thead th {\n",
       "        text-align: right;\n",
       "    }\n",
       "</style>\n",
       "<table border=\"1\" class=\"dataframe\">\n",
       "  <thead>\n",
       "    <tr style=\"text-align: right;\">\n",
       "      <th></th>\n",
       "      <th>Region</th>\n",
       "      <th>PD</th>\n",
       "      <th>Final_Supply_per_10k</th>\n",
       "    </tr>\n",
       "  </thead>\n",
       "  <tbody>\n",
       "    <tr>\n",
       "      <th>0</th>\n",
       "      <td>NCR</td>\n",
       "      <td>21.792683</td>\n",
       "      <td>8.717956</td>\n",
       "    </tr>\n",
       "    <tr>\n",
       "      <th>1</th>\n",
       "      <td>CAR</td>\n",
       "      <td>17.391312</td>\n",
       "      <td>4.089980</td>\n",
       "    </tr>\n",
       "    <tr>\n",
       "      <th>2</th>\n",
       "      <td>I - Ilocos</td>\n",
       "      <td>18.076968</td>\n",
       "      <td>2.590079</td>\n",
       "    </tr>\n",
       "    <tr>\n",
       "      <th>3</th>\n",
       "      <td>II - Cagayan</td>\n",
       "      <td>17.660045</td>\n",
       "      <td>2.165469</td>\n",
       "    </tr>\n",
       "    <tr>\n",
       "      <th>4</th>\n",
       "      <td>III - C. Luzon</td>\n",
       "      <td>20.405952</td>\n",
       "      <td>2.447676</td>\n",
       "    </tr>\n",
       "    <tr>\n",
       "      <th>5</th>\n",
       "      <td>IVA - Calabarzon</td>\n",
       "      <td>19.443190</td>\n",
       "      <td>1.914967</td>\n",
       "    </tr>\n",
       "    <tr>\n",
       "      <th>6</th>\n",
       "      <td>MIMAROPA</td>\n",
       "      <td>11.895495</td>\n",
       "      <td>1.091297</td>\n",
       "    </tr>\n",
       "    <tr>\n",
       "      <th>7</th>\n",
       "      <td>V - Bicol</td>\n",
       "      <td>12.140647</td>\n",
       "      <td>1.394846</td>\n",
       "    </tr>\n",
       "    <tr>\n",
       "      <th>8</th>\n",
       "      <td>VI - W. Visayas</td>\n",
       "      <td>17.725471</td>\n",
       "      <td>2.166419</td>\n",
       "    </tr>\n",
       "    <tr>\n",
       "      <th>9</th>\n",
       "      <td>VII - C. Visayas</td>\n",
       "      <td>17.320264</td>\n",
       "      <td>2.348328</td>\n",
       "    </tr>\n",
       "    <tr>\n",
       "      <th>10</th>\n",
       "      <td>VIII - E. Visayas</td>\n",
       "      <td>12.805731</td>\n",
       "      <td>1.667318</td>\n",
       "    </tr>\n",
       "    <tr>\n",
       "      <th>11</th>\n",
       "      <td>IX - Zamboanga</td>\n",
       "      <td>14.915251</td>\n",
       "      <td>1.784590</td>\n",
       "    </tr>\n",
       "    <tr>\n",
       "      <th>12</th>\n",
       "      <td>X - N. Mindanao</td>\n",
       "      <td>16.690597</td>\n",
       "      <td>2.117856</td>\n",
       "    </tr>\n",
       "    <tr>\n",
       "      <th>13</th>\n",
       "      <td>XI - Davao</td>\n",
       "      <td>15.734746</td>\n",
       "      <td>2.165585</td>\n",
       "    </tr>\n",
       "    <tr>\n",
       "      <th>14</th>\n",
       "      <td>XII - SOCCSKSARGEN</td>\n",
       "      <td>15.040640</td>\n",
       "      <td>1.581048</td>\n",
       "    </tr>\n",
       "    <tr>\n",
       "      <th>15</th>\n",
       "      <td>XIII - Caraga</td>\n",
       "      <td>13.210225</td>\n",
       "      <td>1.525763</td>\n",
       "    </tr>\n",
       "    <tr>\n",
       "      <th>16</th>\n",
       "      <td>BARMM</td>\n",
       "      <td>8.163247</td>\n",
       "      <td>0.550424</td>\n",
       "    </tr>\n",
       "  </tbody>\n",
       "</table>\n",
       "</div>"
      ],
      "text/plain": [
       "                Region         PD  Final_Supply_per_10k\n",
       "0                  NCR  21.792683              8.717956\n",
       "1                  CAR  17.391312              4.089980\n",
       "2           I - Ilocos  18.076968              2.590079\n",
       "3         II - Cagayan  17.660045              2.165469\n",
       "4       III - C. Luzon  20.405952              2.447676\n",
       "5     IVA - Calabarzon  19.443190              1.914967\n",
       "6             MIMAROPA  11.895495              1.091297\n",
       "7            V - Bicol  12.140647              1.394846\n",
       "8      VI - W. Visayas  17.725471              2.166419\n",
       "9     VII - C. Visayas  17.320264              2.348328\n",
       "10   VIII - E. Visayas  12.805731              1.667318\n",
       "11      IX - Zamboanga  14.915251              1.784590\n",
       "12     X - N. Mindanao  16.690597              2.117856\n",
       "13          XI - Davao  15.734746              2.165585\n",
       "14  XII - SOCCSKSARGEN  15.040640              1.581048\n",
       "15       XIII - Caraga  13.210225              1.525763\n",
       "16               BARMM   8.163247              0.550424"
      ]
     },
     "execution_count": 3,
     "metadata": {},
     "output_type": "execute_result"
    }
   ],
   "source": [
    "df_dem30 = df_demand[df_demand['year']==2030][['Region', 'PD']]\n",
    "df_sup30 = df_supply[df_supply['Year'] == 2030][['Region',\n",
    "                                                 'Final_Supply_per_10k']]\n",
    "\n",
    "#merge dataset\n",
    "df = df_dem30.merge(df_sup30)\n",
    "df"
   ]
  },
  {
   "cell_type": "code",
   "execution_count": 4,
   "id": "09645713",
   "metadata": {
    "ExecuteTime": {
     "end_time": "2022-07-01T13:48:26.098321Z",
     "start_time": "2022-07-01T13:48:26.095120Z"
    }
   },
   "outputs": [],
   "source": [
    "colors = ['tab:blue', 'tab:orange', 'tab:green', 'tab:red', 'tab:purple',\n",
    "         'tab:brown', 'tab:pink', 'indigo', 'tab:olive', 'tab:cyan',\n",
    "         'darkmagenta', 'maroon', 'lime', 'darkolivegreen', 'cadetblue',\n",
    "         'darkgoldenrod', 'fuchsia']"
   ]
  },
  {
   "cell_type": "code",
   "execution_count": 5,
   "id": "3e34ab5b",
   "metadata": {
    "ExecuteTime": {
     "end_time": "2022-07-01T13:48:27.787226Z",
     "start_time": "2022-07-01T13:48:26.100050Z"
    }
   },
   "outputs": [
    {
     "data": {
      "image/png": "[encoded data removed]",
      "text/plain": [
       "<Figure size 720x576 with 1 Axes>"
      ]
     },
     "metadata": {
      "needs_background": "light"
     },
     "output_type": "display_data"
    }
   ],
   "source": [
    "plt.figure(figsize=(10,8))\n",
    "palette = sns.color_palette(\"Paired\")\n",
    "sns.scatterplot(df['PD'], df['Final_Supply_per_10k'],alpha=0.8, s=400, \n",
    "                hue=df['Region'], palette=colors)\n",
    "\n",
    "plt.plot(np.arange(0,24,2), np.arange(0,24,2), 'b--', lw=3)\n",
    "plt.xticks(np.arange(0,24,2))\n",
    "plt.yticks(np.arange(0,24,2))\n",
    "plt.ylabel('Supply of Physician per 10,000', fontsize=14)\n",
    "plt.xlabel('Demand of Physician per 10,000', fontsize=14)\n",
    "plt.legend(bbox_to_anchor=(1,1))\n",
    "plt.title('Supply-Demand Gap of Physicians in 2030 per Region', fontsize=16,\n",
    "          y=1.02)\n",
    "plt.tight_layout()\n",
    "plt.savefig('supply-demand_gap.png', dpi=300);"
   ]
  },
  {
   "cell_type": "markdown",
   "id": "82380e5b",
   "metadata": {},
   "source": [
    "## Get the Gap "
   ]
  },
  {
   "cell_type": "code",
   "execution_count": 6,
   "id": "12038a42",
   "metadata": {
    "ExecuteTime": {
     "end_time": "2022-07-01T13:48:27.794692Z",
     "start_time": "2022-07-01T13:48:27.789211Z"
    }
   },
   "outputs": [],
   "source": [
    "df['PD'] = df['PD'].round(2)\n",
    "df['Final_Supply_per_10k'] = df['Final_Supply_per_10k'].round(2)\n",
    "df['gap'] = df['PD'] - df['Final_Supply_per_10k']"
   ]
  },
  {
   "cell_type": "code",
   "execution_count": 7,
   "id": "347b1108",
   "metadata": {
    "ExecuteTime": {
     "end_time": "2022-07-01T13:48:27.810714Z",
     "start_time": "2022-07-01T13:48:27.796728Z"
    }
   },
   "outputs": [
    {
     "data": {
      "text/html": [
       "<div>\n",
       "<style scoped>\n",
       "    .dataframe tbody tr th:only-of-type {\n",
       "        vertical-align: middle;\n",
       "    }\n",
       "\n",
       "    .dataframe tbody tr th {\n",
       "        vertical-align: top;\n",
       "    }\n",
       "\n",
       "    .dataframe thead th {\n",
       "        text-align: right;\n",
       "    }\n",
       "</style>\n",
       "<table border=\"1\" class=\"dataframe\">\n",
       "  <thead>\n",
       "    <tr style=\"text-align: right;\">\n",
       "      <th></th>\n",
       "      <th>Region</th>\n",
       "      <th>PD</th>\n",
       "      <th>Final_Supply_per_10k</th>\n",
       "      <th>gap</th>\n",
       "    </tr>\n",
       "  </thead>\n",
       "  <tbody>\n",
       "    <tr>\n",
       "      <th>4</th>\n",
       "      <td>III - C. Luzon</td>\n",
       "      <td>20.41</td>\n",
       "      <td>2.45</td>\n",
       "      <td>17.96</td>\n",
       "    </tr>\n",
       "    <tr>\n",
       "      <th>5</th>\n",
       "      <td>IVA - Calabarzon</td>\n",
       "      <td>19.44</td>\n",
       "      <td>1.91</td>\n",
       "      <td>17.53</td>\n",
       "    </tr>\n",
       "    <tr>\n",
       "      <th>8</th>\n",
       "      <td>VI - W. Visayas</td>\n",
       "      <td>17.73</td>\n",
       "      <td>2.17</td>\n",
       "      <td>15.56</td>\n",
       "    </tr>\n",
       "    <tr>\n",
       "      <th>3</th>\n",
       "      <td>II - Cagayan</td>\n",
       "      <td>17.66</td>\n",
       "      <td>2.17</td>\n",
       "      <td>15.49</td>\n",
       "    </tr>\n",
       "    <tr>\n",
       "      <th>2</th>\n",
       "      <td>I - Ilocos</td>\n",
       "      <td>18.08</td>\n",
       "      <td>2.59</td>\n",
       "      <td>15.49</td>\n",
       "    </tr>\n",
       "    <tr>\n",
       "      <th>9</th>\n",
       "      <td>VII - C. Visayas</td>\n",
       "      <td>17.32</td>\n",
       "      <td>2.35</td>\n",
       "      <td>14.97</td>\n",
       "    </tr>\n",
       "    <tr>\n",
       "      <th>12</th>\n",
       "      <td>X - N. Mindanao</td>\n",
       "      <td>16.69</td>\n",
       "      <td>2.12</td>\n",
       "      <td>14.57</td>\n",
       "    </tr>\n",
       "    <tr>\n",
       "      <th>13</th>\n",
       "      <td>XI - Davao</td>\n",
       "      <td>15.73</td>\n",
       "      <td>2.17</td>\n",
       "      <td>13.56</td>\n",
       "    </tr>\n",
       "    <tr>\n",
       "      <th>14</th>\n",
       "      <td>XII - SOCCSKSARGEN</td>\n",
       "      <td>15.04</td>\n",
       "      <td>1.58</td>\n",
       "      <td>13.46</td>\n",
       "    </tr>\n",
       "    <tr>\n",
       "      <th>1</th>\n",
       "      <td>CAR</td>\n",
       "      <td>17.39</td>\n",
       "      <td>4.09</td>\n",
       "      <td>13.30</td>\n",
       "    </tr>\n",
       "    <tr>\n",
       "      <th>11</th>\n",
       "      <td>IX - Zamboanga</td>\n",
       "      <td>14.92</td>\n",
       "      <td>1.78</td>\n",
       "      <td>13.14</td>\n",
       "    </tr>\n",
       "    <tr>\n",
       "      <th>0</th>\n",
       "      <td>NCR</td>\n",
       "      <td>21.79</td>\n",
       "      <td>8.72</td>\n",
       "      <td>13.07</td>\n",
       "    </tr>\n",
       "    <tr>\n",
       "      <th>15</th>\n",
       "      <td>XIII - Caraga</td>\n",
       "      <td>13.21</td>\n",
       "      <td>1.53</td>\n",
       "      <td>11.68</td>\n",
       "    </tr>\n",
       "    <tr>\n",
       "      <th>10</th>\n",
       "      <td>VIII - E. Visayas</td>\n",
       "      <td>12.81</td>\n",
       "      <td>1.67</td>\n",
       "      <td>11.14</td>\n",
       "    </tr>\n",
       "    <tr>\n",
       "      <th>6</th>\n",
       "      <td>MIMAROPA</td>\n",
       "      <td>11.90</td>\n",
       "      <td>1.09</td>\n",
       "      <td>10.81</td>\n",
       "    </tr>\n",
       "    <tr>\n",
       "      <th>7</th>\n",
       "      <td>V - Bicol</td>\n",
       "      <td>12.14</td>\n",
       "      <td>1.39</td>\n",
       "      <td>10.75</td>\n",
       "    </tr>\n",
       "    <tr>\n",
       "      <th>16</th>\n",
       "      <td>BARMM</td>\n",
       "      <td>8.16</td>\n",
       "      <td>0.55</td>\n",
       "      <td>7.61</td>\n",
       "    </tr>\n",
       "  </tbody>\n",
       "</table>\n",
       "</div>"
      ],
      "text/plain": [
       "                Region     PD  Final_Supply_per_10k    gap\n",
       "4       III - C. Luzon  20.41                  2.45  17.96\n",
       "5     IVA - Calabarzon  19.44                  1.91  17.53\n",
       "8      VI - W. Visayas  17.73                  2.17  15.56\n",
       "3         II - Cagayan  17.66                  2.17  15.49\n",
       "2           I - Ilocos  18.08                  2.59  15.49\n",
       "9     VII - C. Visayas  17.32                  2.35  14.97\n",
       "12     X - N. Mindanao  16.69                  2.12  14.57\n",
       "13          XI - Davao  15.73                  2.17  13.56\n",
       "14  XII - SOCCSKSARGEN  15.04                  1.58  13.46\n",
       "1                  CAR  17.39                  4.09  13.30\n",
       "11      IX - Zamboanga  14.92                  1.78  13.14\n",
       "0                  NCR  21.79                  8.72  13.07\n",
       "15       XIII - Caraga  13.21                  1.53  11.68\n",
       "10   VIII - E. Visayas  12.81                  1.67  11.14\n",
       "6             MIMAROPA  11.90                  1.09  10.81\n",
       "7            V - Bicol  12.14                  1.39  10.75\n",
       "16               BARMM   8.16                  0.55   7.61"
      ]
     },
     "execution_count": 7,
     "metadata": {},
     "output_type": "execute_result"
    }
   ],
   "source": [
    "# sort the gap\n",
    "df.sort_values(by='gap', ascending=False, inplace=True)\n",
    "df"
   ]
  },
  {
   "cell_type": "markdown",
   "id": "706bf1ab",
   "metadata": {},
   "source": [
    "# Visualize the Physician demand 2022-2030"
   ]
  },
  {
   "cell_type": "code",
   "execution_count": 8,
   "id": "bc65e122",
   "metadata": {
    "ExecuteTime": {
     "end_time": "2022-07-01T13:48:27.816155Z",
     "start_time": "2022-07-01T13:48:27.812513Z"
    }
   },
   "outputs": [],
   "source": [
    "df_x = df_demand[df_demand['year'] > 2021]"
   ]
  },
  {
   "cell_type": "code",
   "execution_count": 9,
   "id": "fd635976",
   "metadata": {
    "ExecuteTime": {
     "end_time": "2022-07-01T13:48:29.506193Z",
     "start_time": "2022-07-01T13:48:27.818180Z"
    }
   },
   "outputs": [
    {
     "data": {
      "image/png": "[encoded data removed]",
      "text/plain": [
       "<Figure size 864x576 with 1 Axes>"
      ]
     },
     "metadata": {
      "needs_background": "light"
     },
     "output_type": "display_data"
    }
   ],
   "source": [
    "plt.figure(figsize=(12,8))\n",
    "xposition = np.arange(2022,2031,1)\n",
    "for xc in xposition:\n",
    "    plt.axvline(x=xc, color='grey', linestyle='--')\n",
    "plt.axhline(y=10, color='r', linestyle='-', label='WHO recommendation')\n",
    "\n",
    "for i,reg in enumerate(df_x['Region'].unique()):\n",
    "    df_y = df_x[df_x['Region']==reg]\n",
    "    plt.scatter(df_y['year'], df_y['PD'],color=colors[i], label=reg, s=200)\n",
    "\n",
    "plt.yticks(np.arange(4,26,2))\n",
    "plt.title('Physician Demand vs WHO recommendation per Region', fontsize=16, y=1.02)\n",
    "plt.ylabel('Demand of Physician per 10,000', fontsize=14)\n",
    "plt.xlabel('Year', fontsize=14)\n",
    "plt.tight_layout()\n",
    "plt.legend(bbox_to_anchor=(1,1))\n",
    "plt.tight_layout()\n",
    "plt.savefig('demand_vs_WHO.png', dpi=300);"
   ]
  },
  {
   "cell_type": "markdown",
   "id": "a6803f38",
   "metadata": {},
   "source": [
    "# Get the Actual Supply Physician counts"
   ]
  },
  {
   "cell_type": "code",
   "execution_count": 10,
   "id": "3c35c8cd",
   "metadata": {
    "ExecuteTime": {
     "end_time": "2022-07-01T13:48:29.521276Z",
     "start_time": "2022-07-01T13:48:29.509438Z"
    }
   },
   "outputs": [
    {
     "data": {
      "text/html": [
       "<div>\n",
       "<style scoped>\n",
       "    .dataframe tbody tr th:only-of-type {\n",
       "        vertical-align: middle;\n",
       "    }\n",
       "\n",
       "    .dataframe tbody tr th {\n",
       "        vertical-align: top;\n",
       "    }\n",
       "\n",
       "    .dataframe thead th {\n",
       "        text-align: right;\n",
       "    }\n",
       "</style>\n",
       "<table border=\"1\" class=\"dataframe\">\n",
       "  <thead>\n",
       "    <tr style=\"text-align: right;\">\n",
       "      <th></th>\n",
       "      <th>year</th>\n",
       "      <th>Region</th>\n",
       "      <th>PD_supply_counts</th>\n",
       "    </tr>\n",
       "  </thead>\n",
       "  <tbody>\n",
       "    <tr>\n",
       "      <th>0</th>\n",
       "      <td>2010</td>\n",
       "      <td>BARMM</td>\n",
       "      <td>61.0</td>\n",
       "    </tr>\n",
       "    <tr>\n",
       "      <th>1</th>\n",
       "      <td>2011</td>\n",
       "      <td>BARMM</td>\n",
       "      <td>60.0</td>\n",
       "    </tr>\n",
       "    <tr>\n",
       "      <th>2</th>\n",
       "      <td>2012</td>\n",
       "      <td>BARMM</td>\n",
       "      <td>59.0</td>\n",
       "    </tr>\n",
       "    <tr>\n",
       "      <th>3</th>\n",
       "      <td>2013</td>\n",
       "      <td>BARMM</td>\n",
       "      <td>61.0</td>\n",
       "    </tr>\n",
       "    <tr>\n",
       "      <th>4</th>\n",
       "      <td>2014</td>\n",
       "      <td>BARMM</td>\n",
       "      <td>68.0</td>\n",
       "    </tr>\n",
       "  </tbody>\n",
       "</table>\n",
       "</div>"
      ],
      "text/plain": [
       "   year Region  PD_supply_counts\n",
       "0  2010  BARMM              61.0\n",
       "1  2011  BARMM              60.0\n",
       "2  2012  BARMM              59.0\n",
       "3  2013  BARMM              61.0\n",
       "4  2014  BARMM              68.0"
      ]
     },
     "execution_count": 10,
     "metadata": {},
     "output_type": "execute_result"
    }
   ],
   "source": [
    "# get the raw counts of supply of physicians\n",
    "df_sup = df_supply[['Year', 'Region', 'Combined_Actual_and_Forecast']]\n",
    "df_sup.columns = ['year', 'Region', 'PD_supply_counts']\n",
    "df_sup.head()"
   ]
  },
  {
   "cell_type": "markdown",
   "id": "6d1b7a37",
   "metadata": {},
   "source": [
    "# Get the Demand Physician counts"
   ]
  },
  {
   "cell_type": "code",
   "execution_count": 11,
   "id": "53c47c7e",
   "metadata": {
    "ExecuteTime": {
     "end_time": "2022-07-01T13:48:29.530859Z",
     "start_time": "2022-07-01T13:48:29.523455Z"
    }
   },
   "outputs": [],
   "source": [
    "# clean dataset\n",
    "df_population.drop(columns=['Unnamed: 0'], inplace=True)\n",
    "df_population.columns = ['Region', 'year', 'population']"
   ]
  },
  {
   "cell_type": "code",
   "execution_count": 12,
   "id": "932bb060",
   "metadata": {
    "ExecuteTime": {
     "end_time": "2022-07-01T13:48:29.536664Z",
     "start_time": "2022-07-01T13:48:29.532930Z"
    }
   },
   "outputs": [],
   "source": [
    "df_demand.drop(columns=['population'], inplace=True)"
   ]
  },
  {
   "cell_type": "code",
   "execution_count": 13,
   "id": "2b818784",
   "metadata": {
    "ExecuteTime": {
     "end_time": "2022-07-01T13:48:29.551011Z",
     "start_time": "2022-07-01T13:48:29.538791Z"
    }
   },
   "outputs": [],
   "source": [
    "# merge population and demand data\n",
    "df_demand = df_demand.merge(df_population, on=['Region', 'year'])"
   ]
  },
  {
   "cell_type": "code",
   "execution_count": 14,
   "id": "ef8126e4",
   "metadata": {
    "ExecuteTime": {
     "end_time": "2022-07-01T13:48:29.564222Z",
     "start_time": "2022-07-01T13:48:29.552825Z"
    }
   },
   "outputs": [],
   "source": [
    "# compute actual physician demand counts\n",
    "df_demand['PD_demand_counts'] = df_demand.apply(lambda x: (x['PD']*\n",
    "                                             x['population'])/10_000, axis=1)"
   ]
  },
  {
   "cell_type": "markdown",
   "id": "e278a569",
   "metadata": {},
   "source": [
    "# Analyze the National Gap"
   ]
  },
  {
   "cell_type": "code",
   "execution_count": 15,
   "id": "12d1ca99",
   "metadata": {
    "ExecuteTime": {
     "end_time": "2022-07-01T13:48:29.573162Z",
     "start_time": "2022-07-01T13:48:29.566031Z"
    }
   },
   "outputs": [],
   "source": [
    "df_raw = df_demand[['year', 'Region', 'PD_demand_counts']].merge(df_sup, on=['year', 'Region'])"
   ]
  },
  {
   "cell_type": "code",
   "execution_count": 16,
   "id": "15f8298a",
   "metadata": {
    "ExecuteTime": {
     "end_time": "2022-07-01T13:48:29.587095Z",
     "start_time": "2022-07-01T13:48:29.574864Z"
    }
   },
   "outputs": [],
   "source": [
    "dem_sum = df_raw.groupby('year')[['PD_demand_counts']].sum().round().reset_index()\n",
    "supp_sum = df_raw.groupby('year')[['PD_supply_counts']].sum().reset_index()"
   ]
  },
  {
   "cell_type": "markdown",
   "id": "f2326041",
   "metadata": {},
   "source": [
    "## National Gap in Raw counts"
   ]
  },
  {
   "cell_type": "code",
   "execution_count": 17,
   "id": "d891ec7f",
   "metadata": {
    "ExecuteTime": {
     "end_time": "2022-07-01T13:48:29.895272Z",
     "start_time": "2022-07-01T13:48:29.883896Z"
    }
   },
   "outputs": [],
   "source": [
    "df = dem_sum.merge(supp_sum)\n",
    "df_ = df[df['year'] > 2021]"
   ]
  },
  {
   "cell_type": "code",
   "execution_count": 18,
   "id": "552e0bcf",
   "metadata": {
    "ExecuteTime": {
     "end_time": "2022-07-01T13:48:30.301344Z",
     "start_time": "2022-07-01T13:48:30.288181Z"
    }
   },
   "outputs": [
    {
     "data": {
      "text/html": [
       "<div>\n",
       "<style scoped>\n",
       "    .dataframe tbody tr th:only-of-type {\n",
       "        vertical-align: middle;\n",
       "    }\n",
       "\n",
       "    .dataframe tbody tr th {\n",
       "        vertical-align: top;\n",
       "    }\n",
       "\n",
       "    .dataframe thead th {\n",
       "        text-align: right;\n",
       "    }\n",
       "</style>\n",
       "<table border=\"1\" class=\"dataframe\">\n",
       "  <thead>\n",
       "    <tr style=\"text-align: right;\">\n",
       "      <th></th>\n",
       "      <th>year</th>\n",
       "      <th>PD_demand_counts</th>\n",
       "      <th>PD_supply_counts</th>\n",
       "    </tr>\n",
       "  </thead>\n",
       "  <tbody>\n",
       "    <tr>\n",
       "      <th>12</th>\n",
       "      <td>2022</td>\n",
       "      <td>152990.0</td>\n",
       "      <td>26581.0</td>\n",
       "    </tr>\n",
       "    <tr>\n",
       "      <th>13</th>\n",
       "      <td>2023</td>\n",
       "      <td>158703.0</td>\n",
       "      <td>27474.0</td>\n",
       "    </tr>\n",
       "    <tr>\n",
       "      <th>14</th>\n",
       "      <td>2024</td>\n",
       "      <td>164500.0</td>\n",
       "      <td>28369.0</td>\n",
       "    </tr>\n",
       "    <tr>\n",
       "      <th>15</th>\n",
       "      <td>2025</td>\n",
       "      <td>170350.0</td>\n",
       "      <td>29250.0</td>\n",
       "    </tr>\n",
       "    <tr>\n",
       "      <th>16</th>\n",
       "      <td>2026</td>\n",
       "      <td>178674.0</td>\n",
       "      <td>30242.0</td>\n",
       "    </tr>\n",
       "    <tr>\n",
       "      <th>17</th>\n",
       "      <td>2027</td>\n",
       "      <td>187117.0</td>\n",
       "      <td>31230.0</td>\n",
       "    </tr>\n",
       "    <tr>\n",
       "      <th>18</th>\n",
       "      <td>2028</td>\n",
       "      <td>195677.0</td>\n",
       "      <td>32219.0</td>\n",
       "    </tr>\n",
       "    <tr>\n",
       "      <th>19</th>\n",
       "      <td>2029</td>\n",
       "      <td>204349.0</td>\n",
       "      <td>33209.0</td>\n",
       "    </tr>\n",
       "    <tr>\n",
       "      <th>20</th>\n",
       "      <td>2030</td>\n",
       "      <td>213133.0</td>\n",
       "      <td>34200.0</td>\n",
       "    </tr>\n",
       "  </tbody>\n",
       "</table>\n",
       "</div>"
      ],
      "text/plain": [
       "    year  PD_demand_counts  PD_supply_counts\n",
       "12  2022          152990.0           26581.0\n",
       "13  2023          158703.0           27474.0\n",
       "14  2024          164500.0           28369.0\n",
       "15  2025          170350.0           29250.0\n",
       "16  2026          178674.0           30242.0\n",
       "17  2027          187117.0           31230.0\n",
       "18  2028          195677.0           32219.0\n",
       "19  2029          204349.0           33209.0\n",
       "20  2030          213133.0           34200.0"
      ]
     },
     "execution_count": 18,
     "metadata": {},
     "output_type": "execute_result"
    }
   ],
   "source": [
    "df_"
   ]
  },
  {
   "cell_type": "code",
   "execution_count": 19,
   "id": "4575b461",
   "metadata": {
    "ExecuteTime": {
     "end_time": "2022-07-01T13:48:31.229313Z",
     "start_time": "2022-07-01T13:48:30.646515Z"
    }
   },
   "outputs": [
    {
     "data": {
      "image/png": "[encoded data removed]",
      "text/plain": [
       "<Figure size 720x360 with 1 Axes>"
      ]
     },
     "metadata": {
      "needs_background": "light"
     },
     "output_type": "display_data"
    }
   ],
   "source": [
    "plt.figure(figsize=(10,5))\n",
    "\n",
    "plt.plot(df_['year'], df_['PD_demand_counts'], 'o--', label='Demand')\n",
    "plt.plot(df_['year'], df_['PD_supply_counts'], 'o--', label='Supply')\n",
    "\n",
    "plt.title('Demand and Supply of Physicians', fontsize=16, y=1.02)\n",
    "plt.ylabel('Number of Physicians', fontsize=14)\n",
    "plt.xlabel('Year', fontsize=14)\n",
    "plt.yticks(np.arange(20_000, 250_000, 30_000))\n",
    "plt.tight_layout()\n",
    "plt.legend(bbox_to_anchor=(1,1), fontsize=14)\n",
    "plt.tight_layout()\n",
    "plt.savefig('demand_vs_supply.png', dpi=300);"
   ]
  },
  {
   "cell_type": "markdown",
   "id": "4a926f1d",
   "metadata": {},
   "source": [
    "## National Gap per 10,000"
   ]
  },
  {
   "cell_type": "code",
   "execution_count": 20,
   "id": "c60cb1ee",
   "metadata": {
    "ExecuteTime": {
     "end_time": "2022-07-01T13:48:31.237699Z",
     "start_time": "2022-07-01T13:48:31.231832Z"
    }
   },
   "outputs": [],
   "source": [
    "pop = pd.DataFrame(df_demand.groupby('year')['population'].sum()).reset_index()"
   ]
  },
  {
   "cell_type": "code",
   "execution_count": 21,
   "id": "afae15a1",
   "metadata": {
    "ExecuteTime": {
     "end_time": "2022-07-01T13:48:31.509499Z",
     "start_time": "2022-07-01T13:48:31.490639Z"
    }
   },
   "outputs": [
    {
     "data": {
      "text/html": [
       "<div>\n",
       "<style scoped>\n",
       "    .dataframe tbody tr th:only-of-type {\n",
       "        vertical-align: middle;\n",
       "    }\n",
       "\n",
       "    .dataframe tbody tr th {\n",
       "        vertical-align: top;\n",
       "    }\n",
       "\n",
       "    .dataframe thead th {\n",
       "        text-align: right;\n",
       "    }\n",
       "</style>\n",
       "<table border=\"1\" class=\"dataframe\">\n",
       "  <thead>\n",
       "    <tr style=\"text-align: right;\">\n",
       "      <th></th>\n",
       "      <th>year</th>\n",
       "      <th>PD_demand_counts</th>\n",
       "      <th>PD_supply_counts</th>\n",
       "      <th>population</th>\n",
       "    </tr>\n",
       "  </thead>\n",
       "  <tbody>\n",
       "    <tr>\n",
       "      <th>0</th>\n",
       "      <td>2010</td>\n",
       "      <td>89302.0</td>\n",
       "      <td>16779.0</td>\n",
       "      <td>93135100.0</td>\n",
       "    </tr>\n",
       "    <tr>\n",
       "      <th>1</th>\n",
       "      <td>2011</td>\n",
       "      <td>94258.0</td>\n",
       "      <td>18395.0</td>\n",
       "      <td>94674754.2</td>\n",
       "    </tr>\n",
       "    <tr>\n",
       "      <th>2</th>\n",
       "      <td>2012</td>\n",
       "      <td>99301.0</td>\n",
       "      <td>23776.0</td>\n",
       "      <td>96214408.4</td>\n",
       "    </tr>\n",
       "    <tr>\n",
       "      <th>3</th>\n",
       "      <td>2013</td>\n",
       "      <td>104430.0</td>\n",
       "      <td>25437.0</td>\n",
       "      <td>97754062.6</td>\n",
       "    </tr>\n",
       "    <tr>\n",
       "      <th>4</th>\n",
       "      <td>2014</td>\n",
       "      <td>109643.0</td>\n",
       "      <td>25865.0</td>\n",
       "      <td>99293716.8</td>\n",
       "    </tr>\n",
       "    <tr>\n",
       "      <th>5</th>\n",
       "      <td>2015</td>\n",
       "      <td>114938.0</td>\n",
       "      <td>34135.0</td>\n",
       "      <td>100833371.0</td>\n",
       "    </tr>\n",
       "    <tr>\n",
       "      <th>6</th>\n",
       "      <td>2016</td>\n",
       "      <td>120129.0</td>\n",
       "      <td>35391.0</td>\n",
       "      <td>102530196.0</td>\n",
       "    </tr>\n",
       "    <tr>\n",
       "      <th>7</th>\n",
       "      <td>2017</td>\n",
       "      <td>125403.0</td>\n",
       "      <td>37082.0</td>\n",
       "      <td>104169230.0</td>\n",
       "    </tr>\n",
       "    <tr>\n",
       "      <th>8</th>\n",
       "      <td>2018</td>\n",
       "      <td>130772.0</td>\n",
       "      <td>24791.0</td>\n",
       "      <td>105755180.0</td>\n",
       "    </tr>\n",
       "    <tr>\n",
       "      <th>9</th>\n",
       "      <td>2019</td>\n",
       "      <td>136231.0</td>\n",
       "      <td>24786.0</td>\n",
       "      <td>107288150.0</td>\n",
       "    </tr>\n",
       "    <tr>\n",
       "      <th>10</th>\n",
       "      <td>2020</td>\n",
       "      <td>141791.0</td>\n",
       "      <td>24786.0</td>\n",
       "      <td>108771978.0</td>\n",
       "    </tr>\n",
       "    <tr>\n",
       "      <th>11</th>\n",
       "      <td>2021</td>\n",
       "      <td>147352.0</td>\n",
       "      <td>25680.0</td>\n",
       "      <td>110198654.0</td>\n",
       "    </tr>\n",
       "    <tr>\n",
       "      <th>12</th>\n",
       "      <td>2022</td>\n",
       "      <td>152990.0</td>\n",
       "      <td>26581.0</td>\n",
       "      <td>111572254.0</td>\n",
       "    </tr>\n",
       "    <tr>\n",
       "      <th>13</th>\n",
       "      <td>2023</td>\n",
       "      <td>158703.0</td>\n",
       "      <td>27474.0</td>\n",
       "      <td>112892781.0</td>\n",
       "    </tr>\n",
       "    <tr>\n",
       "      <th>14</th>\n",
       "      <td>2024</td>\n",
       "      <td>164500.0</td>\n",
       "      <td>28369.0</td>\n",
       "      <td>114163719.0</td>\n",
       "    </tr>\n",
       "    <tr>\n",
       "      <th>15</th>\n",
       "      <td>2025</td>\n",
       "      <td>170350.0</td>\n",
       "      <td>29250.0</td>\n",
       "      <td>115377992.0</td>\n",
       "    </tr>\n",
       "    <tr>\n",
       "      <th>16</th>\n",
       "      <td>2026</td>\n",
       "      <td>178674.0</td>\n",
       "      <td>30242.0</td>\n",
       "      <td>117369893.6</td>\n",
       "    </tr>\n",
       "    <tr>\n",
       "      <th>17</th>\n",
       "      <td>2027</td>\n",
       "      <td>187117.0</td>\n",
       "      <td>31230.0</td>\n",
       "      <td>119361795.2</td>\n",
       "    </tr>\n",
       "    <tr>\n",
       "      <th>18</th>\n",
       "      <td>2028</td>\n",
       "      <td>195677.0</td>\n",
       "      <td>32219.0</td>\n",
       "      <td>121353696.8</td>\n",
       "    </tr>\n",
       "    <tr>\n",
       "      <th>19</th>\n",
       "      <td>2029</td>\n",
       "      <td>204349.0</td>\n",
       "      <td>33209.0</td>\n",
       "      <td>123345598.4</td>\n",
       "    </tr>\n",
       "    <tr>\n",
       "      <th>20</th>\n",
       "      <td>2030</td>\n",
       "      <td>213133.0</td>\n",
       "      <td>34200.0</td>\n",
       "      <td>125337500.0</td>\n",
       "    </tr>\n",
       "  </tbody>\n",
       "</table>\n",
       "</div>"
      ],
      "text/plain": [
       "    year  PD_demand_counts  PD_supply_counts   population\n",
       "0   2010           89302.0           16779.0   93135100.0\n",
       "1   2011           94258.0           18395.0   94674754.2\n",
       "2   2012           99301.0           23776.0   96214408.4\n",
       "3   2013          104430.0           25437.0   97754062.6\n",
       "4   2014          109643.0           25865.0   99293716.8\n",
       "5   2015          114938.0           34135.0  100833371.0\n",
       "6   2016          120129.0           35391.0  102530196.0\n",
       "7   2017          125403.0           37082.0  104169230.0\n",
       "8   2018          130772.0           24791.0  105755180.0\n",
       "9   2019          136231.0           24786.0  107288150.0\n",
       "10  2020          141791.0           24786.0  108771978.0\n",
       "11  2021          147352.0           25680.0  110198654.0\n",
       "12  2022          152990.0           26581.0  111572254.0\n",
       "13  2023          158703.0           27474.0  112892781.0\n",
       "14  2024          164500.0           28369.0  114163719.0\n",
       "15  2025          170350.0           29250.0  115377992.0\n",
       "16  2026          178674.0           30242.0  117369893.6\n",
       "17  2027          187117.0           31230.0  119361795.2\n",
       "18  2028          195677.0           32219.0  121353696.8\n",
       "19  2029          204349.0           33209.0  123345598.4\n",
       "20  2030          213133.0           34200.0  125337500.0"
      ]
     },
     "execution_count": 21,
     "metadata": {},
     "output_type": "execute_result"
    }
   ],
   "source": [
    "df = df.merge(pop, on='year')\n",
    "df"
   ]
  },
  {
   "cell_type": "code",
   "execution_count": 22,
   "id": "314cac6b",
   "metadata": {
    "ExecuteTime": {
     "end_time": "2022-07-01T13:48:31.812406Z",
     "start_time": "2022-07-01T13:48:31.803669Z"
    }
   },
   "outputs": [],
   "source": [
    "df['PD_demand'] = (df['PD_demand_counts']/df['population'])*10_000\n",
    "df['PD_supply'] = (df['PD_supply_counts']/df['population'])*10_000"
   ]
  },
  {
   "cell_type": "code",
   "execution_count": 23,
   "id": "fcc34c37",
   "metadata": {
    "ExecuteTime": {
     "end_time": "2022-07-01T13:48:32.435644Z",
     "start_time": "2022-07-01T13:48:32.428198Z"
    }
   },
   "outputs": [],
   "source": [
    "df['gap'] = df.PD_demand-df.PD_supply"
   ]
  },
  {
   "cell_type": "code",
   "execution_count": 24,
   "id": "b789159a",
   "metadata": {
    "ExecuteTime": {
     "end_time": "2022-07-01T13:48:32.919970Z",
     "start_time": "2022-07-01T13:48:32.897909Z"
    }
   },
   "outputs": [
    {
     "data": {
      "text/html": [
       "<div>\n",
       "<style scoped>\n",
       "    .dataframe tbody tr th:only-of-type {\n",
       "        vertical-align: middle;\n",
       "    }\n",
       "\n",
       "    .dataframe tbody tr th {\n",
       "        vertical-align: top;\n",
       "    }\n",
       "\n",
       "    .dataframe thead th {\n",
       "        text-align: right;\n",
       "    }\n",
       "</style>\n",
       "<table border=\"1\" class=\"dataframe\">\n",
       "  <thead>\n",
       "    <tr style=\"text-align: right;\">\n",
       "      <th></th>\n",
       "      <th>year</th>\n",
       "      <th>PD_demand_counts</th>\n",
       "      <th>PD_supply_counts</th>\n",
       "      <th>population</th>\n",
       "      <th>PD_demand</th>\n",
       "      <th>PD_supply</th>\n",
       "      <th>gap</th>\n",
       "    </tr>\n",
       "  </thead>\n",
       "  <tbody>\n",
       "    <tr>\n",
       "      <th>10</th>\n",
       "      <td>2020</td>\n",
       "      <td>141791.0</td>\n",
       "      <td>24786.0</td>\n",
       "      <td>108771978.0</td>\n",
       "      <td>13.035618</td>\n",
       "      <td>2.278712</td>\n",
       "      <td>10.756907</td>\n",
       "    </tr>\n",
       "    <tr>\n",
       "      <th>11</th>\n",
       "      <td>2021</td>\n",
       "      <td>147352.0</td>\n",
       "      <td>25680.0</td>\n",
       "      <td>110198654.0</td>\n",
       "      <td>13.371488</td>\n",
       "      <td>2.330337</td>\n",
       "      <td>11.041151</td>\n",
       "    </tr>\n",
       "    <tr>\n",
       "      <th>12</th>\n",
       "      <td>2022</td>\n",
       "      <td>152990.0</td>\n",
       "      <td>26581.0</td>\n",
       "      <td>111572254.0</td>\n",
       "      <td>13.712190</td>\n",
       "      <td>2.382402</td>\n",
       "      <td>11.329788</td>\n",
       "    </tr>\n",
       "    <tr>\n",
       "      <th>13</th>\n",
       "      <td>2023</td>\n",
       "      <td>158703.0</td>\n",
       "      <td>27474.0</td>\n",
       "      <td>112892781.0</td>\n",
       "      <td>14.057852</td>\n",
       "      <td>2.433637</td>\n",
       "      <td>11.624215</td>\n",
       "    </tr>\n",
       "    <tr>\n",
       "      <th>14</th>\n",
       "      <td>2024</td>\n",
       "      <td>164500.0</td>\n",
       "      <td>28369.0</td>\n",
       "      <td>114163719.0</td>\n",
       "      <td>14.409131</td>\n",
       "      <td>2.484940</td>\n",
       "      <td>11.924191</td>\n",
       "    </tr>\n",
       "    <tr>\n",
       "      <th>15</th>\n",
       "      <td>2025</td>\n",
       "      <td>170350.0</td>\n",
       "      <td>29250.0</td>\n",
       "      <td>115377992.0</td>\n",
       "      <td>14.764514</td>\n",
       "      <td>2.535146</td>\n",
       "      <td>12.229369</td>\n",
       "    </tr>\n",
       "    <tr>\n",
       "      <th>16</th>\n",
       "      <td>2026</td>\n",
       "      <td>178674.0</td>\n",
       "      <td>30242.0</td>\n",
       "      <td>117369893.6</td>\n",
       "      <td>15.223154</td>\n",
       "      <td>2.576640</td>\n",
       "      <td>12.646514</td>\n",
       "    </tr>\n",
       "    <tr>\n",
       "      <th>17</th>\n",
       "      <td>2027</td>\n",
       "      <td>187117.0</td>\n",
       "      <td>31230.0</td>\n",
       "      <td>119361795.2</td>\n",
       "      <td>15.676457</td>\n",
       "      <td>2.616415</td>\n",
       "      <td>13.060042</td>\n",
       "    </tr>\n",
       "    <tr>\n",
       "      <th>18</th>\n",
       "      <td>2028</td>\n",
       "      <td>195677.0</td>\n",
       "      <td>32219.0</td>\n",
       "      <td>121353696.8</td>\n",
       "      <td>16.124519</td>\n",
       "      <td>2.654967</td>\n",
       "      <td>13.469553</td>\n",
       "    </tr>\n",
       "    <tr>\n",
       "      <th>19</th>\n",
       "      <td>2029</td>\n",
       "      <td>204349.0</td>\n",
       "      <td>33209.0</td>\n",
       "      <td>123345598.4</td>\n",
       "      <td>16.567190</td>\n",
       "      <td>2.692354</td>\n",
       "      <td>13.874836</td>\n",
       "    </tr>\n",
       "    <tr>\n",
       "      <th>20</th>\n",
       "      <td>2030</td>\n",
       "      <td>213133.0</td>\n",
       "      <td>34200.0</td>\n",
       "      <td>125337500.0</td>\n",
       "      <td>17.004727</td>\n",
       "      <td>2.728633</td>\n",
       "      <td>14.276095</td>\n",
       "    </tr>\n",
       "  </tbody>\n",
       "</table>\n",
       "</div>"
      ],
      "text/plain": [
       "    year  PD_demand_counts  PD_supply_counts   population  PD_demand  \\\n",
       "10  2020          141791.0           24786.0  108771978.0  13.035618   \n",
       "11  2021          147352.0           25680.0  110198654.0  13.371488   \n",
       "12  2022          152990.0           26581.0  111572254.0  13.712190   \n",
       "13  2023          158703.0           27474.0  112892781.0  14.057852   \n",
       "14  2024          164500.0           28369.0  114163719.0  14.409131   \n",
       "15  2025          170350.0           29250.0  115377992.0  14.764514   \n",
       "16  2026          178674.0           30242.0  117369893.6  15.223154   \n",
       "17  2027          187117.0           31230.0  119361795.2  15.676457   \n",
       "18  2028          195677.0           32219.0  121353696.8  16.124519   \n",
       "19  2029          204349.0           33209.0  123345598.4  16.567190   \n",
       "20  2030          213133.0           34200.0  125337500.0  17.004727   \n",
       "\n",
       "    PD_supply        gap  \n",
       "10   2.278712  10.756907  \n",
       "11   2.330337  11.041151  \n",
       "12   2.382402  11.329788  \n",
       "13   2.433637  11.624215  \n",
       "14   2.484940  11.924191  \n",
       "15   2.535146  12.229369  \n",
       "16   2.576640  12.646514  \n",
       "17   2.616415  13.060042  \n",
       "18   2.654967  13.469553  \n",
       "19   2.692354  13.874836  \n",
       "20   2.728633  14.276095  "
      ]
     },
     "execution_count": 24,
     "metadata": {},
     "output_type": "execute_result"
    }
   ],
   "source": [
    "df_ = df[df['year'] > 2019]\n",
    "df_"
   ]
  },
  {
   "cell_type": "code",
   "execution_count": 25,
   "id": "498cd002",
   "metadata": {
    "ExecuteTime": {
     "end_time": "2022-07-01T13:48:33.926960Z",
     "start_time": "2022-07-01T13:48:33.376845Z"
    }
   },
   "outputs": [
    {
     "data": {
      "image/png": "[encoded data removed]",
      "text/plain": [
       "<Figure size 720x360 with 1 Axes>"
      ]
     },
     "metadata": {
      "needs_background": "light"
     },
     "output_type": "display_data"
    }
   ],
   "source": [
    "plt.figure(figsize=(10,5))\n",
    "\n",
    "plt.plot(df_['year'], df_['PD_demand'], 'o--', label='Demand', lw=2)\n",
    "plt.plot(df_['year'], df_['PD_supply'], 'o--', label='Supply', lw=2)\n",
    "\n",
    "plt.title('National Supply and Demand of Physicians per 10,000 population', fontsize=16, y=1.02)\n",
    "plt.ylabel('Physicians Density per 10,000', fontsize=14)\n",
    "plt.xlabel('Year', fontsize=14)\n",
    "plt.yticks(np.arange(0, 20, 2))\n",
    "plt.legend(bbox_to_anchor=(1,1), fontsize=14)\n",
    "plt.tight_layout()\n",
    "plt.savefig('demand_vs_supply_PD.png', dpi=300);"
   ]
  },
  {
   "cell_type": "code",
   "execution_count": 28,
   "id": "347bc6ed",
   "metadata": {
    "ExecuteTime": {
     "end_time": "2022-07-01T13:48:34.673546Z",
     "start_time": "2022-07-01T13:48:34.654008Z"
    }
   },
   "outputs": [
    {
     "data": {
      "text/html": [
       "<div>\n",
       "<style scoped>\n",
       "    .dataframe tbody tr th:only-of-type {\n",
       "        vertical-align: middle;\n",
       "    }\n",
       "\n",
       "    .dataframe tbody tr th {\n",
       "        vertical-align: top;\n",
       "    }\n",
       "\n",
       "    .dataframe thead th {\n",
       "        text-align: right;\n",
       "    }\n",
       "</style>\n",
       "<table border=\"1\" class=\"dataframe\">\n",
       "  <thead>\n",
       "    <tr style=\"text-align: right;\">\n",
       "      <th></th>\n",
       "      <th>year</th>\n",
       "      <th>PD_demand_counts</th>\n",
       "      <th>PD_supply_counts</th>\n",
       "      <th>population</th>\n",
       "      <th>PD_demand</th>\n",
       "      <th>PD_supply</th>\n",
       "      <th>gap</th>\n",
       "    </tr>\n",
       "  </thead>\n",
       "  <tbody>\n",
       "    <tr>\n",
       "      <th>10</th>\n",
       "      <td>2020</td>\n",
       "      <td>141791.0</td>\n",
       "      <td>24786.0</td>\n",
       "      <td>108771978.0</td>\n",
       "      <td>13.035618</td>\n",
       "      <td>2.278712</td>\n",
       "      <td>10.756907</td>\n",
       "    </tr>\n",
       "    <tr>\n",
       "      <th>11</th>\n",
       "      <td>2021</td>\n",
       "      <td>147352.0</td>\n",
       "      <td>25680.0</td>\n",
       "      <td>110198654.0</td>\n",
       "      <td>13.371488</td>\n",
       "      <td>2.330337</td>\n",
       "      <td>11.041151</td>\n",
       "    </tr>\n",
       "    <tr>\n",
       "      <th>12</th>\n",
       "      <td>2022</td>\n",
       "      <td>152990.0</td>\n",
       "      <td>26581.0</td>\n",
       "      <td>111572254.0</td>\n",
       "      <td>13.712190</td>\n",
       "      <td>2.382402</td>\n",
       "      <td>11.329788</td>\n",
       "    </tr>\n",
       "    <tr>\n",
       "      <th>13</th>\n",
       "      <td>2023</td>\n",
       "      <td>158703.0</td>\n",
       "      <td>27474.0</td>\n",
       "      <td>112892781.0</td>\n",
       "      <td>14.057852</td>\n",
       "      <td>2.433637</td>\n",
       "      <td>11.624215</td>\n",
       "    </tr>\n",
       "    <tr>\n",
       "      <th>14</th>\n",
       "      <td>2024</td>\n",
       "      <td>164500.0</td>\n",
       "      <td>28369.0</td>\n",
       "      <td>114163719.0</td>\n",
       "      <td>14.409131</td>\n",
       "      <td>2.484940</td>\n",
       "      <td>11.924191</td>\n",
       "    </tr>\n",
       "    <tr>\n",
       "      <th>15</th>\n",
       "      <td>2025</td>\n",
       "      <td>170350.0</td>\n",
       "      <td>29250.0</td>\n",
       "      <td>115377992.0</td>\n",
       "      <td>14.764514</td>\n",
       "      <td>2.535146</td>\n",
       "      <td>12.229369</td>\n",
       "    </tr>\n",
       "    <tr>\n",
       "      <th>16</th>\n",
       "      <td>2026</td>\n",
       "      <td>178674.0</td>\n",
       "      <td>30242.0</td>\n",
       "      <td>117369893.6</td>\n",
       "      <td>15.223154</td>\n",
       "      <td>2.576640</td>\n",
       "      <td>12.646514</td>\n",
       "    </tr>\n",
       "    <tr>\n",
       "      <th>17</th>\n",
       "      <td>2027</td>\n",
       "      <td>187117.0</td>\n",
       "      <td>31230.0</td>\n",
       "      <td>119361795.2</td>\n",
       "      <td>15.676457</td>\n",
       "      <td>2.616415</td>\n",
       "      <td>13.060042</td>\n",
       "    </tr>\n",
       "    <tr>\n",
       "      <th>18</th>\n",
       "      <td>2028</td>\n",
       "      <td>195677.0</td>\n",
       "      <td>32219.0</td>\n",
       "      <td>121353696.8</td>\n",
       "      <td>16.124519</td>\n",
       "      <td>2.654967</td>\n",
       "      <td>13.469553</td>\n",
       "    </tr>\n",
       "    <tr>\n",
       "      <th>19</th>\n",
       "      <td>2029</td>\n",
       "      <td>204349.0</td>\n",
       "      <td>33209.0</td>\n",
       "      <td>123345598.4</td>\n",
       "      <td>16.567190</td>\n",
       "      <td>2.692354</td>\n",
       "      <td>13.874836</td>\n",
       "    </tr>\n",
       "    <tr>\n",
       "      <th>20</th>\n",
       "      <td>2030</td>\n",
       "      <td>213133.0</td>\n",
       "      <td>34200.0</td>\n",
       "      <td>125337500.0</td>\n",
       "      <td>17.004727</td>\n",
       "      <td>2.728633</td>\n",
       "      <td>14.276095</td>\n",
       "    </tr>\n",
       "  </tbody>\n",
       "</table>\n",
       "</div>"
      ],
      "text/plain": [
       "    year  PD_demand_counts  PD_supply_counts   population  PD_demand  \\\n",
       "10  2020          141791.0           24786.0  108771978.0  13.035618   \n",
       "11  2021          147352.0           25680.0  110198654.0  13.371488   \n",
       "12  2022          152990.0           26581.0  111572254.0  13.712190   \n",
       "13  2023          158703.0           27474.0  112892781.0  14.057852   \n",
       "14  2024          164500.0           28369.0  114163719.0  14.409131   \n",
       "15  2025          170350.0           29250.0  115377992.0  14.764514   \n",
       "16  2026          178674.0           30242.0  117369893.6  15.223154   \n",
       "17  2027          187117.0           31230.0  119361795.2  15.676457   \n",
       "18  2028          195677.0           32219.0  121353696.8  16.124519   \n",
       "19  2029          204349.0           33209.0  123345598.4  16.567190   \n",
       "20  2030          213133.0           34200.0  125337500.0  17.004727   \n",
       "\n",
       "    PD_supply        gap  \n",
       "10   2.278712  10.756907  \n",
       "11   2.330337  11.041151  \n",
       "12   2.382402  11.329788  \n",
       "13   2.433637  11.624215  \n",
       "14   2.484940  11.924191  \n",
       "15   2.535146  12.229369  \n",
       "16   2.576640  12.646514  \n",
       "17   2.616415  13.060042  \n",
       "18   2.654967  13.469553  \n",
       "19   2.692354  13.874836  \n",
       "20   2.728633  14.276095  "
      ]
     },
     "execution_count": 28,
     "metadata": {},
     "output_type": "execute_result"
    }
   ],
   "source": [
    "df_"
   ]
  }
 ],
 "metadata": {
  "kernelspec": {
   "display_name": "Python 3 (ipykernel)",
   "language": "python",
   "name": "python3"
  },
  "language_info": {
   "codemirror_mode": {
    "name": "ipython",
    "version": 3
   },
   "file_extension": ".py",
   "mimetype": "text/x-python",
   "name": "python",
   "nbconvert_exporter": "python",
   "pygments_lexer": "ipython3",
   "version": "3.9.7"
  },
  "toc": {
   "base_numbering": 1,
   "nav_menu": {},
   "number_sections": true,
   "sideBar": true,
   "skip_h1_title": false,
   "title_cell": "Table of Contents",
   "title_sidebar": "Contents",
   "toc_cell": false,
   "toc_position": {
    "height": "calc(100% - 180px)",
    "left": "10px",
    "top": "150px",
    "width": "165px"
   },
   "toc_section_display": true,
   "toc_window_display": true
  }
 },
 "nbformat": 4,
 "nbformat_minor": 5
}
